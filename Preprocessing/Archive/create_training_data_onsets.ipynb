{
 "cells": [
  {
   "cell_type": "markdown",
   "source": [
    "## The purpose of this file is to take the current training data and select a subset of it for \"Training Data Onsets,\" a subset of the full training data"
   ],
   "metadata": {}
  },
  {
   "cell_type": "code",
   "execution_count": 39,
   "source": [
    "import os\r\n",
    "from pathlib import Path\r\n",
    "import shutil\r\n",
    "\r\n",
    "# Define training data directory\r\n",
    "train_paths_unprocessed = [Path('X:\\\\Training Data\\\\Unprocessed\\\\Anti Hero'), Path('X:\\\\Training Data\\\\Unprocessed\\\\Anti Hero 2')]\r\n",
    "train_paths_processed = [Path('X:\\\\Training Data\\\\Processed\\\\Anti Hero'), Path('X:\\\\Training Data\\\\Processed\\\\Anti Hero 2')]\r\n",
    "\r\n",
    "onset_path = Path('X:\\\\Training Data Onsets')\r\n",
    "\r\n",
    "for i in range(1):\r\n",
    "    if not os.path.isdir(onset_path / str(train_paths_unprocessed[i]).split('\\\\')[-1]):\r\n",
    "        os.mkdir(onset_path / str(train_paths_unprocessed[i]).split('\\\\')[-1])\r\n",
    "    for song in os.listdir(train_paths_unprocessed[i]):\r\n",
    "        dest_folder = onset_path / str(train_paths_unprocessed[i]).split('\\\\')[-1] / song\r\n",
    "        if not os.path.isdir(dest_folder):\r\n",
    "            os.mkdir(dest_folder)\r\n",
    "        unprocessed_file_list = os.listdir(train_paths_unprocessed[i] / song)\r\n",
    "        ufl = [train_paths_unprocessed[i] / song / x for x in unprocessed_file_list if '.png' not in x and '.ini' not in x]\r\n",
    "        for f in ufl:\r\n",
    "            shutil.copy(f, dest_folder)\r\n",
    "        processed_file_list = os.listdir(train_paths_processed[i] / song)\r\n",
    "        pfl = [train_paths_processed[i] / song / x for x in processed_file_list]\r\n",
    "        for f in pfl:\r\n",
    "            shutil.copy(f, dest_folder)        \r\n",
    "\r\n"
   ],
   "outputs": [],
   "metadata": {}
  },
  {
   "cell_type": "code",
   "execution_count": null,
   "source": [],
   "outputs": [],
   "metadata": {}
  }
 ],
 "metadata": {
  "orig_nbformat": 4,
  "language_info": {
   "name": "python",
   "version": "3.8.6",
   "mimetype": "text/x-python",
   "codemirror_mode": {
    "name": "ipython",
    "version": 3
   },
   "pygments_lexer": "ipython3",
   "nbconvert_exporter": "python",
   "file_extension": ".py"
  },
  "kernelspec": {
   "name": "python3",
   "display_name": "Python 3.8.6 64-bit"
  },
  "interpreter": {
   "hash": "1131efc7635b497546d7e8fbc76ad9d1f9d5d5d7857bcde935d6feea39d08984"
  }
 },
 "nbformat": 4,
 "nbformat_minor": 2
}