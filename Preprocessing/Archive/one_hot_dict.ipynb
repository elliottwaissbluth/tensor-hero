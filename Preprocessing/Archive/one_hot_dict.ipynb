{
 "metadata": {
  "language_info": {
   "codemirror_mode": {
    "name": "ipython",
    "version": 3
   },
   "file_extension": ".py",
   "mimetype": "text/x-python",
   "name": "python",
   "nbconvert_exporter": "python",
   "pygments_lexer": "ipython3",
   "version": "3.8.6-final"
  },
  "orig_nbformat": 2,
  "kernelspec": {
   "name": "python3",
   "display_name": "Python 3.8.6 64-bit",
   "metadata": {
    "interpreter": {
     "hash": "1131efc7635b497546d7e8fbc76ad9d1f9d5d5d7857bcde935d6feea39d08984"
    }
   }
  }
 },
 "nbformat": 4,
 "nbformat_minor": 2,
 "cells": [
  {
   "source": [
    "## The purpose of this notebook is to generate dictionaries to analyze note composition for data exploration1"
   ],
   "cell_type": "markdown",
   "metadata": {}
  },
  {
   "cell_type": "code",
   "execution_count": 7,
   "metadata": {},
   "outputs": [
    {
     "output_type": "execute_result",
     "data": {
      "text/plain": [
       "   One Hot Representation  Full Code Note Modifier Hold/Release\n",
       "0                       1         10    G  regular          NaN\n",
       "1                       2         17    R  regular          NaN\n",
       "2                       3         24    Y  regular          NaN\n",
       "3                       4         31    B  regular          NaN\n",
       "4                       5         38    O  regular          NaN"
      ],
      "text/html": "<div>\n<style scoped>\n    .dataframe tbody tr th:only-of-type {\n        vertical-align: middle;\n    }\n\n    .dataframe tbody tr th {\n        vertical-align: top;\n    }\n\n    .dataframe thead th {\n        text-align: right;\n    }\n</style>\n<table border=\"1\" class=\"dataframe\">\n  <thead>\n    <tr style=\"text-align: right;\">\n      <th></th>\n      <th>One Hot Representation</th>\n      <th>Full Code</th>\n      <th>Note</th>\n      <th>Modifier</th>\n      <th>Hold/Release</th>\n    </tr>\n  </thead>\n  <tbody>\n    <tr>\n      <th>0</th>\n      <td>1</td>\n      <td>10</td>\n      <td>G</td>\n      <td>regular</td>\n      <td>NaN</td>\n    </tr>\n    <tr>\n      <th>1</th>\n      <td>2</td>\n      <td>17</td>\n      <td>R</td>\n      <td>regular</td>\n      <td>NaN</td>\n    </tr>\n    <tr>\n      <th>2</th>\n      <td>3</td>\n      <td>24</td>\n      <td>Y</td>\n      <td>regular</td>\n      <td>NaN</td>\n    </tr>\n    <tr>\n      <th>3</th>\n      <td>4</td>\n      <td>31</td>\n      <td>B</td>\n      <td>regular</td>\n      <td>NaN</td>\n    </tr>\n    <tr>\n      <th>4</th>\n      <td>5</td>\n      <td>38</td>\n      <td>O</td>\n      <td>regular</td>\n      <td>NaN</td>\n    </tr>\n  </tbody>\n</table>\n</div>"
     },
     "metadata": {},
     "execution_count": 7
    }
   ],
   "source": [
    "import pandas as pd\n",
    "from pathlib import Path\n",
    "function_path = Path.cwd().parent.joinpath('Preprocessing')\n",
    "sys.path.insert(1, str(function_path))\n",
    "from chart_functions import generate_combo_dict\n",
    "\n",
    "note_keys_path = Path.cwd().parent / 'Documentation' / 'note_keys.csv'\n",
    "\n",
    "note_keys = pd.read_csv(note_keys_path)\n",
    "note_keys.head()"
   ]
  },
  {
   "cell_type": "code",
   "execution_count": 8,
   "metadata": {},
   "outputs": [],
   "source": [
    "note_dict = dict(zip(note_keys['One Hot Representation'],note_keys['Note']))\n",
    "modifier_dict = dict(zip(note_keys['One Hot Representation'],note_keys['Modifier']))\n",
    "hold_dict = dict(zip(note_keys['One Hot Representation'],note_keys['Hold/Release']))\n",
    "combo_dict = generate_combo_dict()"
   ]
  },
  {
   "cell_type": "code",
   "execution_count": 3,
   "metadata": {},
   "outputs": [
    {
     "output_type": "stream",
     "name": "stdout",
     "text": [
      "{1: 'G', 2: 'R', 3: 'Y', 4: 'B', 5: 'O', 6: 'GR', 7: 'GY', 8: 'GB', 9: 'GO', 10: 'RY', 11: 'RB', 12: 'RO', 13: 'YB', 14: 'YO', 15: 'BO', 16: 'GRY', 17: 'GRB', 18: 'GRO', 19: 'GYB', 20: 'GYO', 21: 'GBO', 22: 'RYB', 23: 'RYO', 24: 'RBO', 25: 'YBO', 26: 'GRYB', 27: 'GRYO', 28: 'GRBO', 29: 'GYBO', 30: 'RYBO', 31: 'GRYBO', 32: 'G', 33: 'R', 34: 'Y', 35: 'B', 36: 'O', 37: 'GR', 38: 'GY', 39: 'GB', 40: 'GO', 41: 'RY', 42: 'RB', 43: 'RO', 44: 'YB', 45: 'YO', 46: 'BO', 47: 'GRY', 48: 'GRB', 49: 'GRO', 50: 'GYB', 51: 'GYO', 52: 'GBO', 53: 'RYB', 54: 'RYO', 55: 'RBO', 56: 'YBO', 57: 'GRYB', 58: 'GRYO', 59: 'GRBO', 60: 'GYBO', 61: 'RYBO', 62: 'GRYBO', 63: 'G', 64: 'R', 65: 'Y', 66: 'B', 67: 'O', 68: 'GR', 69: 'GY', 70: 'GB', 71: 'GO', 72: 'RY', 73: 'RB', 74: 'RO', 75: 'YB', 76: 'YO', 77: 'BO', 78: 'GRY', 79: 'GRB', 80: 'GRO', 81: 'GYB', 82: 'GYO', 83: 'GBO', 84: 'RYB', 85: 'RYO', 86: 'RBO', 87: 'YBO', 88: 'GRYB', 89: 'GRYO', 90: 'GRBO', 91: 'GYBO', 92: 'RYBO', 93: 'GRYBO', 94: 'G', 95: 'R', 96: 'Y', 97: 'B', 98: 'O', 99: 'GR', 100: 'GY', 101: 'GB', 102: 'GO', 103: 'RY', 104: 'RB', 105: 'RO', 106: 'YB', 107: 'YO', 108: 'BO', 109: 'GRY', 110: 'GRB', 111: 'GRO', 112: 'GYB', 113: 'GYO', 114: 'GBO', 115: 'RYB', 116: 'RYO', 117: 'RBO', 118: 'YBO', 119: 'GRYB', 120: 'GRYO', 121: 'GRBO', 122: 'GYBO', 123: 'RYBO', 124: 'GRYBO', 125: 'G', 126: 'R', 127: 'Y', 128: 'B', 129: 'O', 130: 'GR', 131: 'GY', 132: 'GB', 133: 'GO', 134: 'RY', 135: 'RB', 136: 'RO', 137: 'YB', 138: 'YO', 139: 'BO', 140: 'GRY', 141: 'GRB', 142: 'GRO', 143: 'GYB', 144: 'GYO', 145: 'GBO', 146: 'RYB', 147: 'RYO', 148: 'RBO', 149: 'YBO', 150: 'GRYB', 151: 'GRYO', 152: 'GRBO', 153: 'GYBO', 154: 'RYBO', 155: 'GRYBO', 156: 'G', 157: 'R', 158: 'Y', 159: 'B', 160: 'O', 161: 'GR', 162: 'GY', 163: 'GB', 164: 'GO', 165: 'RY', 166: 'RB', 167: 'RO', 168: 'YB', 169: 'YO', 170: 'BO', 171: 'GRY', 172: 'GRB', 173: 'GRO', 174: 'GYB', 175: 'GYO', 176: 'GBO', 177: 'RYB', 178: 'RYO', 179: 'RBO', 180: 'YBO', 181: 'GRYB', 182: 'GRYO', 183: 'GRBO', 184: 'GYBO', 185: 'RYBO', 186: 'GRYBO', 187: 'G', 188: 'R', 189: 'Y', 190: 'B', 191: 'O', 192: 'GR', 193: 'GY', 194: 'GB', 195: 'GO', 196: 'RY', 197: 'RB', 198: 'RO', 199: 'YB', 200: 'YO', 201: 'BO', 202: 'GRY', 203: 'GRB', 204: 'GRO', 205: 'GYB', 206: 'GYO', 207: 'GBO', 208: 'RYB', 209: 'RYO', 210: 'RBO', 211: 'YBO', 212: 'GRYB', 213: 'GRYO', 214: 'GRBO', 215: 'GYBO', 216: 'RYBO', 217: 'GRYBO', 218: 'open', 219: 'open', 220: 'open', 221: 'open', 222: 'open', 223: 'open', 224: 'open'}\n"
     ]
    }
   ],
   "source": [
    "print(note_dict)"
   ]
  },
  {
   "cell_type": "code",
   "execution_count": 4,
   "metadata": {},
   "outputs": [
    {
     "output_type": "stream",
     "name": "stdout",
     "text": [
      "{1: 'regular', 2: 'regular', 3: 'regular', 4: 'regular', 5: 'regular', 6: 'regular', 7: 'regular', 8: 'regular', 9: 'regular', 10: 'regular', 11: 'regular', 12: 'regular', 13: 'regular', 14: 'regular', 15: 'regular', 16: 'regular', 17: 'regular', 18: 'regular', 19: 'regular', 20: 'regular', 21: 'regular', 22: 'regular', 23: 'regular', 24: 'regular', 25: 'regular', 26: 'regular', 27: 'regular', 28: 'regular', 29: 'regular', 30: 'regular', 31: 'regular', 32: 'force', 33: 'force', 34: 'force', 35: 'force', 36: 'force', 37: 'force', 38: 'force', 39: 'force', 40: 'force', 41: 'force', 42: 'force', 43: 'force', 44: 'force', 45: 'force', 46: 'force', 47: 'force', 48: 'force', 49: 'force', 50: 'force', 51: 'force', 52: 'force', 53: 'force', 54: 'force', 55: 'force', 56: 'force', 57: 'force', 58: 'force', 59: 'force', 60: 'force', 61: 'force', 62: 'force', 63: 'tap', 64: 'tap', 65: 'tap', 66: 'tap', 67: 'tap', 68: 'tap', 69: 'tap', 70: 'tap', 71: 'tap', 72: 'tap', 73: 'tap', 74: 'tap', 75: 'tap', 76: 'tap', 77: 'tap', 78: 'tap', 79: 'tap', 80: 'tap', 81: 'tap', 82: 'tap', 83: 'tap', 84: 'tap', 85: 'tap', 86: 'tap', 87: 'tap', 88: 'tap', 89: 'tap', 90: 'tap', 91: 'tap', 92: 'tap', 93: 'tap', 94: 'regular', 95: 'regular', 96: 'regular', 97: 'regular', 98: 'regular', 99: 'regular', 100: 'regular', 101: 'regular', 102: 'regular', 103: 'regular', 104: 'regular', 105: 'regular', 106: 'regular', 107: 'regular', 108: 'regular', 109: 'regular', 110: 'regular', 111: 'regular', 112: 'regular', 113: 'regular', 114: 'regular', 115: 'regular', 116: 'regular', 117: 'regular', 118: 'regular', 119: 'regular', 120: 'regular', 121: 'regular', 122: 'regular', 123: 'regular', 124: 'regular', 125: 'force', 126: 'force', 127: 'force', 128: 'force', 129: 'force', 130: 'force', 131: 'force', 132: 'force', 133: 'force', 134: 'force', 135: 'force', 136: 'force', 137: 'force', 138: 'force', 139: 'force', 140: 'force', 141: 'force', 142: 'force', 143: 'force', 144: 'force', 145: 'force', 146: 'force', 147: 'force', 148: 'force', 149: 'force', 150: 'force', 151: 'force', 152: 'force', 153: 'force', 154: 'force', 155: 'force', 156: 'tap', 157: 'tap', 158: 'tap', 159: 'tap', 160: 'tap', 161: 'tap', 162: 'tap', 163: 'tap', 164: 'tap', 165: 'tap', 166: 'tap', 167: 'tap', 168: 'tap', 169: 'tap', 170: 'tap', 171: 'tap', 172: 'tap', 173: 'tap', 174: 'tap', 175: 'tap', 176: 'tap', 177: 'tap', 178: 'tap', 179: 'tap', 180: 'tap', 181: 'tap', 182: 'tap', 183: 'tap', 184: 'tap', 185: 'tap', 186: 'tap', 187: nan, 188: nan, 189: nan, 190: nan, 191: nan, 192: nan, 193: nan, 194: nan, 195: nan, 196: nan, 197: nan, 198: nan, 199: nan, 200: nan, 201: nan, 202: nan, 203: nan, 204: nan, 205: nan, 206: nan, 207: nan, 208: nan, 209: nan, 210: nan, 211: nan, 212: nan, 213: nan, 214: nan, 215: nan, 216: nan, 217: nan, 218: 'regular', 219: 'force', 220: 'tap', 221: 'regular', 222: 'force', 223: 'tap', 224: nan}\n"
     ]
    }
   ],
   "source": [
    "print(modifier_dict)"
   ]
  },
  {
   "cell_type": "code",
   "execution_count": 5,
   "metadata": {},
   "outputs": [
    {
     "output_type": "stream",
     "name": "stdout",
     "text": [
      "{1: nan, 2: nan, 3: nan, 4: nan, 5: nan, 6: nan, 7: nan, 8: nan, 9: nan, 10: nan, 11: nan, 12: nan, 13: nan, 14: nan, 15: nan, 16: nan, 17: nan, 18: nan, 19: nan, 20: nan, 21: nan, 22: nan, 23: nan, 24: nan, 25: nan, 26: nan, 27: nan, 28: nan, 29: nan, 30: nan, 31: nan, 32: nan, 33: nan, 34: nan, 35: nan, 36: nan, 37: nan, 38: nan, 39: nan, 40: nan, 41: nan, 42: nan, 43: nan, 44: nan, 45: nan, 46: nan, 47: nan, 48: nan, 49: nan, 50: nan, 51: nan, 52: nan, 53: nan, 54: nan, 55: nan, 56: nan, 57: nan, 58: nan, 59: nan, 60: nan, 61: nan, 62: nan, 63: nan, 64: nan, 65: nan, 66: nan, 67: nan, 68: nan, 69: nan, 70: nan, 71: nan, 72: nan, 73: nan, 74: nan, 75: nan, 76: nan, 77: nan, 78: nan, 79: nan, 80: nan, 81: nan, 82: nan, 83: nan, 84: nan, 85: nan, 86: nan, 87: nan, 88: nan, 89: nan, 90: nan, 91: nan, 92: nan, 93: nan, 94: 'hold', 95: 'hold', 96: 'hold', 97: 'hold', 98: 'hold', 99: 'hold', 100: 'hold', 101: 'hold', 102: 'hold', 103: 'hold', 104: 'hold', 105: 'hold', 106: 'hold', 107: 'hold', 108: 'hold', 109: 'hold', 110: 'hold', 111: 'hold', 112: 'hold', 113: 'hold', 114: 'hold', 115: 'hold', 116: 'hold', 117: 'hold', 118: 'hold', 119: 'hold', 120: 'hold', 121: 'hold', 122: 'hold', 123: 'hold', 124: 'hold', 125: 'hold', 126: 'hold', 127: 'hold', 128: 'hold', 129: 'hold', 130: 'hold', 131: 'hold', 132: 'hold', 133: 'hold', 134: 'hold', 135: 'hold', 136: 'hold', 137: 'hold', 138: 'hold', 139: 'hold', 140: 'hold', 141: 'hold', 142: 'hold', 143: 'hold', 144: 'hold', 145: 'hold', 146: 'hold', 147: 'hold', 148: 'hold', 149: 'hold', 150: 'hold', 151: 'hold', 152: 'hold', 153: 'hold', 154: 'hold', 155: 'hold', 156: 'hold', 157: 'hold', 158: 'hold', 159: 'hold', 160: 'hold', 161: 'hold', 162: 'hold', 163: 'hold', 164: 'hold', 165: 'hold', 166: 'hold', 167: 'hold', 168: 'hold', 169: 'hold', 170: 'hold', 171: 'hold', 172: 'hold', 173: 'hold', 174: 'hold', 175: 'hold', 176: 'hold', 177: 'hold', 178: 'hold', 179: 'hold', 180: 'hold', 181: 'hold', 182: 'hold', 183: 'hold', 184: 'hold', 185: 'hold', 186: 'hold', 187: 'release', 188: 'release', 189: 'release', 190: 'release', 191: 'release', 192: 'release', 193: 'release', 194: 'release', 195: 'release', 196: 'release', 197: 'release', 198: 'release', 199: 'release', 200: 'release', 201: 'release', 202: 'release', 203: 'release', 204: 'release', 205: 'release', 206: 'release', 207: 'release', 208: 'release', 209: 'release', 210: 'release', 211: 'release', 212: 'release', 213: 'release', 214: 'release', 215: 'release', 216: 'release', 217: 'release', 218: nan, 219: nan, 220: nan, 221: 'hold', 222: 'hold', 223: 'hold', 224: 'release'}\n"
     ]
    }
   ],
   "source": [
    "print(hold_dict)"
   ]
  },
  {
   "cell_type": "code",
   "execution_count": 6,
   "metadata": {},
   "outputs": [],
   "source": [
    "import pickle\n",
    "f = open(\"note_dict.pkl\",\"wb\")\n",
    "pickle.dump(note_dict,f)\n",
    "f.close()\n",
    "\n",
    "f = open(\"modifier_dict.pkl\",\"wb\")\n",
    "pickle.dump(modifier_dict,f)\n",
    "f.close()\n",
    "\n",
    "f = open(\"hold_dict.pkl\",\"wb\")\n",
    "pickle.dump(hold_dict,f)\n",
    "f.close()"
   ]
  },
  {
   "cell_type": "code",
   "execution_count": 9,
   "metadata": {},
   "outputs": [],
   "source": [
    "f = open(\"combo_dict.pkl\",\"wb\")\n",
    "pickle.dump(combo_dict,f)\n",
    "f.close()"
   ]
  }
 ]
}