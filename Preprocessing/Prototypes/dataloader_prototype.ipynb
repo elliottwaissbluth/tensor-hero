{
 "metadata": {
  "language_info": {
   "codemirror_mode": {
    "name": "ipython",
    "version": 3
   },
   "file_extension": ".py",
   "mimetype": "text/x-python",
   "name": "python",
   "nbconvert_exporter": "python",
   "pygments_lexer": "ipython3",
   "version": 3
  },
  "orig_nbformat": 2
 },
 "nbformat": 4,
 "nbformat_minor": 2,
 "cells": [
  {
   "source": [
    "## Pseudocode\n",
    "\n",
    "def __init__(self)\n",
    "\n",
    ".   \n"
   ],
   "cell_type": "markdown",
   "metadata": {}
  },
  {
   "cell_type": "code",
   "execution_count": null,
   "metadata": {},
   "outputs": [],
   "source": [
    "from pathlib import Path\n",
    "# Define path to chart_functions and add to system path for import\n",
    "function_path = Path.cwd().parent.joinpath('Preprocessing')\n",
    "sys.path.insert(1, str(function_path))\n",
    "from chart_functions import chart2tensor\n",
    "from audio_functions import music2tensor\n",
    "import time\n",
    "import numpy as np\n",
    "import pickle\n",
    "\n",
    "# Define path to chart\n",
    "chartpath = function_path.joinpath('Chart Files', 'exploder_notes.chart')\n",
    "songpath = Path.cwd().parent.joinpath('Prototypes', 'Toy Training Data',\n",
    "                                      'Audioslave - Exploder (Chezy)', 'song.ogg')"
   ]
  }
 ]
}