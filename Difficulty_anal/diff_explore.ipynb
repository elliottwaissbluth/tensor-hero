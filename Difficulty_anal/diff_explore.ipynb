{
 "cells": [
  {
   "cell_type": "code",
   "execution_count": 6,
   "metadata": {},
   "outputs": [
    {
     "ename": "ModuleNotFoundError",
     "evalue": "No module named 'tensor_hero'",
     "output_type": "error",
     "traceback": [
      "\u001b[1;31m---------------------------------------------------------------------------\u001b[0m",
      "\u001b[1;31mModuleNotFoundError\u001b[0m                       Traceback (most recent call last)",
      "\u001b[1;32m<ipython-input-6-f5621eaab7e6>\u001b[0m in \u001b[0;36m<module>\u001b[1;34m\u001b[0m\n\u001b[1;32m----> 1\u001b[1;33m \u001b[1;32mfrom\u001b[0m \u001b[0mtensor_hero\u001b[0m\u001b[1;33m.\u001b[0m\u001b[0mpreprocessing\u001b[0m\u001b[1;33m.\u001b[0m\u001b[0mchart\u001b[0m \u001b[1;32mimport\u001b[0m \u001b[0mchart2tensor\u001b[0m\u001b[1;33m\u001b[0m\u001b[1;33m\u001b[0m\u001b[0m\n\u001b[0m\u001b[0;32m      2\u001b[0m \u001b[1;33m\u001b[0m\u001b[0m\n",
      "\u001b[1;31mModuleNotFoundError\u001b[0m: No module named 'tensor_hero'"
     ]
    }
   ],
   "source": [
    "from tensor_hero.preprocessing.chart import chart2tensor\n",
    "\n"
   ]
  },
  {
   "cell_type": "code",
   "execution_count": 8,
   "metadata": {},
   "outputs": [],
   "source": [
    "import os\n",
    "import pandas as pd\n",
    "import numpy as np\n",
    "import IPython.display as ipd\n",
    "from glob import glob\n",
    "import matplotlib.pyplot as plt\n",
    "import seaborn\n",
    "%matplotlib inline \n",
    "import librosa\n",
    "from librosa import display\n",
    "import mir_eval\n",
    "from pathlib import Path\n",
    "from itertools import combinations"
   ]
  },
  {
   "cell_type": "code",
   "execution_count": 7,
   "metadata": {},
   "outputs": [],
   "source": [
    "chart_path = Path(r'\"C:/Users/cheny/Downloads/CHARTS 2/CHARTS 2/! TIER 01 - Back on that Bullfish\\Billie Eilish - bad guy/notes.chart\"')"
   ]
  },
  {
   "cell_type": "code",
   "execution_count": 9,
   "metadata": {},
   "outputs": [],
   "source": [
    "def chart2tensor(path, print_release_notes=False):\n",
    "    '''\n",
    "    Inputs a path to a chart and returns a tensor with 10ms ticks as indices and one hot\n",
    "    representation as values.\n",
    "    '''\n",
    "    coded_notes = chart2onehot(path, print_release_notes)\n",
    "\n",
    "    if coded_notes == None:\n",
    "        print('\\nThe chart at {} is not in .chart format'.format(path))\n",
    "        return None\n",
    "\n",
    "    notes_tensor = np.zeros(max(coded_notes.keys()))\n",
    "    for k, v in coded_notes.items():\n",
    "        notes_tensor[k-1] = v       # This could potentially offset all notes by 10ms\n",
    "    return notes_tensor"
   ]
  },
  {
   "cell_type": "code",
   "execution_count": 10,
   "metadata": {},
   "outputs": [
    {
     "ename": "NameError",
     "evalue": "name 'chart2onehot' is not defined",
     "output_type": "error",
     "traceback": [
      "\u001b[1;31m---------------------------------------------------------------------------\u001b[0m",
      "\u001b[1;31mNameError\u001b[0m                                 Traceback (most recent call last)",
      "\u001b[1;32m<ipython-input-10-a0a6ce1b2dab>\u001b[0m in \u001b[0;36m<module>\u001b[1;34m\u001b[0m\n\u001b[1;32m----> 1\u001b[1;33m \u001b[0mnotes_array\u001b[0m \u001b[1;33m=\u001b[0m \u001b[0mnp\u001b[0m\u001b[1;33m.\u001b[0m\u001b[0marray\u001b[0m\u001b[1;33m(\u001b[0m\u001b[0mchart2tensor\u001b[0m\u001b[1;33m(\u001b[0m\u001b[0mchart_path\u001b[0m \u001b[1;33m/\u001b[0m \u001b[1;34m'notes.chart'\u001b[0m\u001b[1;33m,\u001b[0m \u001b[0mprint_release_notes\u001b[0m \u001b[1;33m=\u001b[0m \u001b[1;32mFalse\u001b[0m\u001b[1;33m)\u001b[0m\u001b[1;33m)\u001b[0m\u001b[1;33m.\u001b[0m\u001b[0mastype\u001b[0m\u001b[1;33m(\u001b[0m\u001b[0mint\u001b[0m\u001b[1;33m)\u001b[0m\u001b[1;33m\u001b[0m\u001b[1;33m\u001b[0m\u001b[0m\n\u001b[0m",
      "\u001b[1;32m<ipython-input-9-68c2fccf595d>\u001b[0m in \u001b[0;36mchart2tensor\u001b[1;34m(path, print_release_notes)\u001b[0m\n\u001b[0;32m      4\u001b[0m     \u001b[0mrepresentation\u001b[0m \u001b[1;32mas\u001b[0m \u001b[0mvalues\u001b[0m\u001b[1;33m.\u001b[0m\u001b[1;33m\u001b[0m\u001b[1;33m\u001b[0m\u001b[0m\n\u001b[0;32m      5\u001b[0m     '''\n\u001b[1;32m----> 6\u001b[1;33m     \u001b[0mcoded_notes\u001b[0m \u001b[1;33m=\u001b[0m \u001b[0mchart2onehot\u001b[0m\u001b[1;33m(\u001b[0m\u001b[0mpath\u001b[0m\u001b[1;33m,\u001b[0m \u001b[0mprint_release_notes\u001b[0m\u001b[1;33m)\u001b[0m\u001b[1;33m\u001b[0m\u001b[1;33m\u001b[0m\u001b[0m\n\u001b[0m\u001b[0;32m      7\u001b[0m \u001b[1;33m\u001b[0m\u001b[0m\n\u001b[0;32m      8\u001b[0m     \u001b[1;32mif\u001b[0m \u001b[0mcoded_notes\u001b[0m \u001b[1;33m==\u001b[0m \u001b[1;32mNone\u001b[0m\u001b[1;33m:\u001b[0m\u001b[1;33m\u001b[0m\u001b[1;33m\u001b[0m\u001b[0m\n",
      "\u001b[1;31mNameError\u001b[0m: name 'chart2onehot' is not defined"
     ]
    }
   ],
   "source": [
    "notes_array = np.array(chart2tensor(chart_path / 'notes.chart', print_release_notes = False)).astype(int)"
   ]
  }
 ],
 "metadata": {
  "interpreter": {
   "hash": "e7d7cb3e9d9dcfaa156b91dba966b7b8896cd706d640dc0bdb579054d78de76a"
  },
  "kernelspec": {
   "display_name": "Python 3.8.8 64-bit ('base': conda)",
   "language": "python",
   "name": "python3"
  },
  "language_info": {
   "codemirror_mode": {
    "name": "ipython",
    "version": 3
   },
   "file_extension": ".py",
   "mimetype": "text/x-python",
   "name": "python",
   "nbconvert_exporter": "python",
   "pygments_lexer": "ipython3",
   "version": "3.8.8"
  },
  "orig_nbformat": 4
 },
 "nbformat": 4,
 "nbformat_minor": 2
}
