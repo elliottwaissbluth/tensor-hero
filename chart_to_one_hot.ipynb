{
 "metadata": {
  "language_info": {
   "codemirror_mode": {
    "name": "ipython",
    "version": 3
   },
   "file_extension": ".py",
   "mimetype": "text/x-python",
   "name": "python",
   "nbconvert_exporter": "python",
   "pygments_lexer": "ipython3",
   "version": "3.8.6-final"
  },
  "orig_nbformat": 2,
  "kernelspec": {
   "name": "python3",
   "display_name": "Python 3"
  }
 },
 "nbformat": 4,
 "nbformat_minor": 2,
 "cells": [
  {
   "cell_type": "code",
   "execution_count": 16,
   "metadata": {},
   "outputs": [],
   "source": [
    "from pathlib import Path\n",
    "from chart_functions import chart2dict\n",
    "\n",
    "# Import the processed .chart file\n",
    "\n",
    "# Define path to chart\n",
    "d = str(Path().resolve().parent)\n",
    "chartpath = d+'\\\\tensor-hero\\exploder_notes.chart'\n",
    "\n",
    "notes, song_metadata, time_signatures, BPMs = chart2dict(chartpath)\n",
    "\n"
   ]
  },
  {
   "cell_type": "code",
   "execution_count": 33,
   "metadata": {
    "tags": []
   },
   "outputs": [
    {
     "output_type": "stream",
     "name": "stdout",
     "text": [
      "{'Name': '\"Exploder\"', 'Artist': '\"Audioslave\"', 'Charter': '\"Chezy\"', 'Offset': 0, 'Resolution': 192, 'Genre': '\"rock\"', 'MediaType': '\"cd\"', 'MusicStream': '\"song.ogg\"'}\ndict_keys(['tick', 'N_S', 'note', 'duration'])\n"
     ]
    }
   ],
   "source": [
    "print(song_metadata)\n",
    "# print(notes['tick'][0])\n",
    "# print(notes['N_S'][0])\n",
    "print(notes.keys())\n",
    "# print(notes['tick'])"
   ]
  },
  {
   "source": [
    "Still need to account for held notes"
   ],
   "cell_type": "markdown",
   "metadata": {}
  },
  {
   "cell_type": "code",
   "execution_count": 30,
   "metadata": {},
   "outputs": [],
   "source": [
    "# Create a dictionary where the keys are the tick values and the values\n",
    "    # are a list of notes corresponding to the data\n",
    "coded_notes = {}\n",
    "\n",
    "# Loop through song one note at a time, processing along the way\n",
    "for i in range(len(notes['tick'])):\n",
    "    if notes['N_S'] == 'S':  # if the token is a star power indicator, skip it\n",
    "        continue\n",
    "\n",
    "    if notes['tick'][i] not in coded_notes:  # If the key is not in the dictionary\n",
    "        coded_notes[notes['tick'][i]] = []                   # Create empty list\n",
    "\n",
    "    if notes['duration'][i] == 0:  # If the note is not held\n",
    "        coded_notes[notes['tick'][i]].append(int(notes['note'][i]))  # Add note to list\n",
    "    else:  # If the note has some duration\n",
    "        if (notes['tick'][i] + notes['duration'][i]) not in coded_notes:  # If the key is not in the dictionary\n",
    "            coded_notes[notes['tick'][i] + notes['duration'][i]] = []     # Create empty list\n",
    "        # Add the note with a hold key\n",
    "        # Hold key is the code of the note + 10 (so 11 indicates release green, 12 is release red, etc.)\n",
    "        coded_notes[notes['tick'][i]].append(int(notes['note'][i]) + 10)  # Add note to list\n",
    "\n",
    "        # Add a release key at time step when note will be released.\n",
    "        # Release key is the code of the note + 20 (so 21 indicates release green, 22 is release red, etc.)\n",
    "        coded_notes[notes['tick'][i] + notes['duration'][i]].append(int(notes['note'][i]) + 20)  # Add note to list"
   ]
  },
  {
   "cell_type": "code",
   "execution_count": 32,
   "metadata": {},
   "outputs": [
    {
     "output_type": "stream",
     "name": "stdout",
     "text": [
      "[12, 5]\n"
     ]
    }
   ],
   "source": [
    "print(coded_notes[4274])"
   ]
  },
  {
   "source": [
    "## how to read coded_notes\n",
    "coded_notes is a dictionary with the keys representing ticks and values decoded as follows:\n",
    "\n",
    "| Value | Interpretation | Value | Interpretation |\n",
    "| --- | --- | ---|---|\n",
    "| 0 | green note | 5 | force note flag\n",
    "| 10 | green note hold | 6 | tap note flag\n",
    "| 20 | green note release |\n",
    "| 1 | red note | \n",
    "| 11 | red note hold |\n",
    "| 21 | red note release |\n",
    "| 2 | yellow note |\n",
    "| 12 | yellow note hold |\n",
    "| 22 | yellow note release | \n",
    "| 3 | blue note | \n",
    "| 13 | blue note hold |\n",
    "| 23 | blue note release |\n",
    "| 4 | orange note |\n",
    "| 14 | orange note hold |\n",
    "| 24 | orange note release |\n",
    "| 7 | open note\n",
    "\n",
    "The flags are always listed after a note value. For example, a 10 followed by a 5 says 'hold a tapped green note.'\n",
    "\n",
    "## next steps\n",
    "There are 15 notes and 3 flags (including a flag for regular notes), 15 \\* 3 + 1 = 46 possible combinations (including no note). These will be the 'bag of notes.' The next\n",
    "step is to translate coded_notes into a tensor with the features *timestamp, note event*, with a timestamp existing for every 10ms of the song."
   ],
   "cell_type": "markdown",
   "metadata": {}
  },
  {
   "cell_type": "code",
   "execution_count": 31,
   "metadata": {},
   "outputs": [
    {
     "output_type": "stream",
     "name": "stdout",
     "text": [
      "[12, 5]\n"
     ]
    }
   ],
   "source": [
    "print(coded_notes[4274]"
   ]
  }
 ]
}