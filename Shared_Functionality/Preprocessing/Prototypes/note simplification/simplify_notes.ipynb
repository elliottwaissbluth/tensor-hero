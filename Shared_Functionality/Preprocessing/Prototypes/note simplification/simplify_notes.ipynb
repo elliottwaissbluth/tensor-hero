{
 "cells": [
  {
   "cell_type": "markdown",
   "source": [
    "# NOTE: This workbook has been productionized in ./tensor-hero/Preprocessing/note simplification/simplify_notes.py\r\n"
   ],
   "metadata": {}
  },
  {
   "cell_type": "markdown",
   "source": [
    "## We need to create a dictionary of one hot encoding -> simplified one hot encoding\r\n",
    "## First we need to change all release notes to no note, then use the dictionary to repopulate the list"
   ],
   "metadata": {}
  },
  {
   "cell_type": "code",
   "execution_count": 1,
   "source": [
    "# Define path to test folder\r\n",
    "from pathlib import Path\r\n",
    "\r\n",
    "test_path = Path.cwd() / 'test'"
   ],
   "outputs": [],
   "metadata": {}
  },
  {
   "cell_type": "markdown",
   "source": [
    "## Save a new note_keys.csv with the simplified representations added"
   ],
   "metadata": {}
  },
  {
   "cell_type": "code",
   "execution_count": 3,
   "source": [
    "import pandas as pd\r\n",
    "import numpy as np\r\n",
    "import pickle\r\n",
    "from pathlib import Path\r\n",
    "\r\n",
    "note_keys = pd.read_csv(Path.cwd().parent.parent / 'Documentation' / 'note_keys.csv')\r\n",
    "\r\n",
    "regular_note_keys = note_keys[(note_keys.Modifier == 'regular') & (note_keys['Hold/Release'].isnull())].drop(columns=['Modifier', 'Hold/Release', 'Full Code']).set_index('Note').to_dict()['One Hot Representation']\r\n",
    "note_keys['Simplified One Hot'] = note_keys.apply(lambda row: regular_note_keys[row.Note], axis=1)\r\n",
    "\r\n",
    "note_keys.to_csv('./note_keys.csv', index=False)"
   ],
   "outputs": [],
   "metadata": {}
  },
  {
   "cell_type": "markdown",
   "source": [
    "## Generate a dictionary to translate notes"
   ],
   "metadata": {}
  },
  {
   "cell_type": "code",
   "execution_count": 58,
   "source": [
    "# Generate dictionary to map notes to notes\r\n",
    "import pandas as pd\r\n",
    "import numpy as np\r\n",
    "import pickle\r\n",
    "\r\n",
    "note_keys = pd.read_csv(Path.cwd().parent.parent / 'Documentation' / 'note_keys.csv')\r\n",
    "\r\n",
    "regular_note_keys = note_keys[(note_keys.Modifier == 'regular') & (note_keys['Hold/Release'].isnull())].drop(columns=['Modifier', 'Hold/Release', 'Full Code']).set_index('Note').to_dict()['One Hot Representation']\r\n",
    "note_keys['Simplified One Hot'] = note_keys.apply(lambda row: regular_note_keys[row.Note], axis=1)\r\n",
    "simplified_note_keys = note_keys.drop(columns=['Modifier', 'Hold/Release', 'Full Code', 'Note']).set_index('One Hot Representation').to_dict()['Simplified One Hot']\r\n",
    "\r\n",
    "with open(r'C:\\Users\\ewais\\Documents\\GitHub\\tensor-hero\\Resources\\simplified_note_dict.pkl', 'wb') as f:\r\n",
    "    pickle.dump(simplified_note_keys, f)\r\n",
    "f.close()\r\n",
    "\r\n",
    "print(simplified_note_keys)"
   ],
   "outputs": [
    {
     "output_type": "stream",
     "name": "stdout",
     "text": [
      "{1: 1, 2: 2, 3: 3, 4: 4, 5: 5, 6: 6, 7: 7, 8: 8, 9: 9, 10: 10, 11: 11, 12: 12, 13: 13, 14: 14, 15: 15, 16: 16, 17: 17, 18: 18, 19: 19, 20: 20, 21: 21, 22: 22, 23: 23, 24: 24, 25: 25, 26: 26, 27: 27, 28: 28, 29: 29, 30: 30, 31: 31, 32: 1, 33: 2, 34: 3, 35: 4, 36: 5, 37: 6, 38: 7, 39: 8, 40: 9, 41: 10, 42: 11, 43: 12, 44: 13, 45: 14, 46: 15, 47: 16, 48: 17, 49: 18, 50: 19, 51: 20, 52: 21, 53: 22, 54: 23, 55: 24, 56: 25, 57: 26, 58: 27, 59: 28, 60: 29, 61: 30, 62: 31, 63: 1, 64: 2, 65: 3, 66: 4, 67: 5, 68: 6, 69: 7, 70: 8, 71: 9, 72: 10, 73: 11, 74: 12, 75: 13, 76: 14, 77: 15, 78: 16, 79: 17, 80: 18, 81: 19, 82: 20, 83: 21, 84: 22, 85: 23, 86: 24, 87: 25, 88: 26, 89: 27, 90: 28, 91: 29, 92: 30, 93: 31, 94: 1, 95: 2, 96: 3, 97: 4, 98: 5, 99: 6, 100: 7, 101: 8, 102: 9, 103: 10, 104: 11, 105: 12, 106: 13, 107: 14, 108: 15, 109: 16, 110: 17, 111: 18, 112: 19, 113: 20, 114: 21, 115: 22, 116: 23, 117: 24, 118: 25, 119: 26, 120: 27, 121: 28, 122: 29, 123: 30, 124: 31, 125: 1, 126: 2, 127: 3, 128: 4, 129: 5, 130: 6, 131: 7, 132: 8, 133: 9, 134: 10, 135: 11, 136: 12, 137: 13, 138: 14, 139: 15, 140: 16, 141: 17, 142: 18, 143: 19, 144: 20, 145: 21, 146: 22, 147: 23, 148: 24, 149: 25, 150: 26, 151: 27, 152: 28, 153: 29, 154: 30, 155: 31, 156: 1, 157: 2, 158: 3, 159: 4, 160: 5, 161: 6, 162: 7, 163: 8, 164: 9, 165: 10, 166: 11, 167: 12, 168: 13, 169: 14, 170: 15, 171: 16, 172: 17, 173: 18, 174: 19, 175: 20, 176: 21, 177: 22, 178: 23, 179: 24, 180: 25, 181: 26, 182: 27, 183: 28, 184: 29, 185: 30, 186: 31, 187: 1, 188: 2, 189: 3, 190: 4, 191: 5, 192: 6, 193: 7, 194: 8, 195: 9, 196: 10, 197: 11, 198: 12, 199: 13, 200: 14, 201: 15, 202: 16, 203: 17, 204: 18, 205: 19, 206: 20, 207: 21, 208: 22, 209: 23, 210: 24, 211: 25, 212: 26, 213: 27, 214: 28, 215: 29, 216: 30, 217: 31, 218: 218, 219: 218, 220: 218, 221: 218, 222: 218, 223: 218, 224: 218}\n"
     ]
    }
   ],
   "metadata": {}
  },
  {
   "cell_type": "code",
   "execution_count": 54,
   "source": [
    "import numpy as np\r\n",
    "import os\r\n",
    "\r\n",
    "release_keys = list(np.arange(187, 218))\r\n",
    "release_keys.append(224)\r\n",
    "\r\n",
    "def remove_release_keys(notes_array):\r\n",
    "    '''Removes all notes corresponding to releases from notes_array'''\r\n",
    "    # new_notes = [x for x in notes_array if x not in release_keys]\r\n",
    "    new_notes = np.zeros(notes_array.size)\r\n",
    "    changed_notes = []\r\n",
    "    for x in range(notes_array.size):\r\n",
    "        if notes_array[x] not in release_keys:\r\n",
    "            new_notes[x] = notes_array[x]\r\n",
    "        else:\r\n",
    "            changed_notes.append(x)\r\n",
    "    return new_notes\r\n",
    "\r\n",
    "def simplify_notes(notes_array):\r\n",
    "    '''Maps modified and held notes to their regular counterparts'''\r\n",
    "    new_notes = np.zeros(notes_array.size)\r\n",
    "    for x in range(notes_array.size):\r\n",
    "        if notes_array[x]:\r\n",
    "            new_notes[x] = simplified_note_keys[notes_array[x]]\r\n",
    "    return new_notes\r\n"
   ],
   "outputs": [],
   "metadata": {}
  },
  {
   "cell_type": "code",
   "execution_count": 68,
   "source": [
    "PROCESSED_DIRECTORY = Path(r'X:\\Training Data\\Processed')\r\n",
    "\r\n",
    "# Parse through directory\r\n",
    "for x in os.listdir(PROCESSED_DIRECTORY):\r\n",
    "    for y in os.listdir(PROCESSED_DIRECTORY / x):\r\n",
    "        notes_array = np.load(PROCESSED_DIRECTORY / x / y / 'notes.npy')\r\n",
    "\r\n",
    "        new_notes = remove_release_keys(notes_array)\r\n",
    "        new_notes = simplify_notes(new_notes)\r\n",
    "\r\n",
    "        # Save to same directory\r\n",
    "        with open(str(PROCESSED_DIRECTORY / x / y / 'notes_simplified.npy'), 'wb') as f:\r\n",
    "            np.save(f, new_notes)\r\n",
    "        f.close()\r\n",
    "    break"
   ],
   "outputs": [],
   "metadata": {}
  },
  {
   "cell_type": "code",
   "execution_count": null,
   "source": [
    "for song_folder in os.listdir(test_path):\r\n",
    "    full_path = os.path.join(test_path, song_folder)\r\n",
    "    notes_array = np.load(full_path + '\\\\notes.npy')\r\n",
    "\r\n",
    "    # remove_release_keys test\r\n",
    "    new_notes = remove_release_keys(notes_array)\r\n",
    "\r\n",
    "    # simplify_notes test \r\n",
    "    new_notes = simplify_notes(new_notes)"
   ],
   "outputs": [],
   "metadata": {}
  }
 ],
 "metadata": {
  "orig_nbformat": 4,
  "language_info": {
   "name": "python",
   "version": "3.8.6",
   "mimetype": "text/x-python",
   "codemirror_mode": {
    "name": "ipython",
    "version": 3
   },
   "pygments_lexer": "ipython3",
   "nbconvert_exporter": "python",
   "file_extension": ".py"
  },
  "kernelspec": {
   "name": "python3",
   "display_name": "Python 3.8.6 64-bit"
  },
  "interpreter": {
   "hash": "1131efc7635b497546d7e8fbc76ad9d1f9d5d5d7857bcde935d6feea39d08984"
  }
 },
 "nbformat": 4,
 "nbformat_minor": 2
}