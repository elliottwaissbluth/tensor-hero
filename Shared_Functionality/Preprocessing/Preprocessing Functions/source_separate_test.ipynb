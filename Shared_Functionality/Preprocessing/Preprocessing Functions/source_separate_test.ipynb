{
 "cells": [
  {
   "cell_type": "code",
   "execution_count": 7,
   "metadata": {},
   "outputs": [
    {
     "name": "stdout",
     "output_type": "stream",
     "text": [
      "X:\\Training Data\\source_separated\\Angevil Hero II\\1. Andy McKee - Ouray\\other.wav\n"
     ]
    }
   ],
   "source": [
    "from preprocess_functions import *\n",
    "from spleeter.separator import Separator\n",
    "from spleeter.audio.adapter import AudioAdapter\n",
    "from scipy.io.wavfile import write\n",
    "\n",
    "unprocessed_path = Path(r'X:\\Training Data\\Unprocessed')\n",
    "\n",
    "def source_seperate_ogg(ogg_list: list):\n",
    "    separator = Separator('spleeter:4stems')\n",
    "    audio_loader = AudioAdapter.default()\n",
    "    sample_rate = 44100\n",
    "    range_ = 32767\n",
    "\n",
    "    for ogg in tqdm(ogg_list):\n",
    "        waveform, _ = audio_loader.load(ogg, sample_rate=sample_rate)\n",
    "        prediction = separator.separate(waveform)\n",
    "        prediction['other'] = prediction['other']*range_\n",
    "\n",
    "        save_path = Path(str(ogg).replace('Unprocessed', 'source_separated', 1)).parent / 'other.wav'\n",
    "        if not os.path.isdir(save_path.parent.parent.parent):\n",
    "            os.mkdir(save_path.parent.parent.parent)\n",
    "        if not os.path.isdir(save_path.parent.parent):\n",
    "            os.mkdir(save_path.parent.parent)\n",
    "        if not os.path.isdir(save_path.parent):\n",
    "            os.mkdir(save_path.parent)\n",
    "\n",
    "        write(save_path, sample_rate, prediction['other'].astype(np.int16)) \n",
    "\n",
    "ogg_list, _ = get_list_of_ogg_files(unprocessed_path)\n",
    "source_seperate_ogg(ogg_list)"
   ]
  },
  {
   "cell_type": "code",
   "execution_count": null,
   "metadata": {},
   "outputs": [
    {
     "ename": "Error",
     "evalue": "Kernel is dead",
     "output_type": "error",
     "traceback": [
      "Error: Kernel is dead",
      "at g._sendKernelShellControl (c:\\Users\\ewais\\.vscode\\extensions\\ms-toolsai.jupyter-2021.9.1101343141\\out\\client\\extension.js:52:1006305)",
      "at g.sendShellMessage (c:\\Users\\ewais\\.vscode\\extensions\\ms-toolsai.jupyter-2021.9.1101343141\\out\\client\\extension.js:52:1006074)",
      "at g.requestExecute (c:\\Users\\ewais\\.vscode\\extensions\\ms-toolsai.jupyter-2021.9.1101343141\\out\\client\\extension.js:52:1008616)",
      "at d.requestExecute (c:\\Users\\ewais\\.vscode\\extensions\\ms-toolsai.jupyter-2021.9.1101343141\\out\\client\\extension.js:37:328037)",
      "at S.requestExecute (c:\\Users\\ewais\\.vscode\\extensions\\ms-toolsai.jupyter-2021.9.1101343141\\out\\client\\extension.js:32:19306)",
      "at w.executeCodeCell (c:\\Users\\ewais\\.vscode\\extensions\\ms-toolsai.jupyter-2021.9.1101343141\\out\\client\\extension.js:52:300924)",
      "at w.execute (c:\\Users\\ewais\\.vscode\\extensions\\ms-toolsai.jupyter-2021.9.1101343141\\out\\client\\extension.js:52:300551)",
      "at w.start (c:\\Users\\ewais\\.vscode\\extensions\\ms-toolsai.jupyter-2021.9.1101343141\\out\\client\\extension.js:52:296215)",
      "at runMicrotasks (<anonymous>)",
      "at processTicksAndRejections (internal/process/task_queues.js:93:5)",
      "at t.CellExecutionQueue.executeQueuedCells (c:\\Users\\ewais\\.vscode\\extensions\\ms-toolsai.jupyter-2021.9.1101343141\\out\\client\\extension.js:52:310950)",
      "at t.CellExecutionQueue.start (c:\\Users\\ewais\\.vscode\\extensions\\ms-toolsai.jupyter-2021.9.1101343141\\out\\client\\extension.js:52:310490)"
     ]
    }
   ],
   "source": [
    "print(1)"
   ]
  },
  {
   "cell_type": "code",
   "execution_count": null,
   "metadata": {},
   "outputs": [],
   "source": []
  }
 ],
 "metadata": {
  "interpreter": {
   "hash": "1131efc7635b497546d7e8fbc76ad9d1f9d5d5d7857bcde935d6feea39d08984"
  },
  "kernelspec": {
   "display_name": "Python 3.8.6 64-bit",
   "name": "python3"
  },
  "language_info": {
   "codemirror_mode": {
    "name": "ipython",
    "version": 3
   },
   "file_extension": ".py",
   "mimetype": "text/x-python",
   "name": "python",
   "nbconvert_exporter": "python",
   "pygments_lexer": "ipython3",
   "version": "3.8.6"
  },
  "orig_nbformat": 4
 },
 "nbformat": 4,
 "nbformat_minor": 2
}
