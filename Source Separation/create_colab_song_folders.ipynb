{
 "cells": [
  {
   "cell_type": "markdown",
   "metadata": {},
   "source": [
    "## The purpose of this notebook is to separate the songs into folders within google drive\n",
    "\n",
    "Perhaps the best way to go about this is to just create a folder in the drive and then manually drop the songs in there. That way the folder upload won't need compression"
   ]
  },
  {
   "cell_type": "code",
   "execution_count": null,
   "metadata": {},
   "outputs": [],
   "source": [
    "import sys\n",
    "sys.path.insert(1, r'C:\\Users\\ewais\\Documents\\GitHub\\tensor-hero\\Shared_Functionality\\Preprocessing\\Preprocessing Functions')\n",
    "from pathlib import Path\n",
    "from preprocess_functions import *\n",
    "\n",
    "# Path to empty song folder\n",
    "folder_path = Path(r'X:\\Training Data\\all_songs_for_colab')\n",
    "unprocessed_path = Path(r'X:\\Training Data\\Unprocessed')\n",
    "\n",
    "# Get list of all songs\n",
    "ogg_file_paths, _ = get_list_of_ogg_files(unprocessed_path)\n",
    "print(ogg_file_paths)"
   ]
  },
  {
   "cell_type": "code",
   "execution_count": 14,
   "metadata": {},
   "outputs": [
    {
     "name": "stderr",
     "output_type": "stream",
     "text": [
      "100%|██████████| 906/906 [00:14<00:00, 61.22it/s]\n"
     ]
    }
   ],
   "source": [
    "from shutil import copyfile\n",
    "from tqdm import tqdm\n",
    "import os\n",
    "\n",
    "# file_dests = [str(x.parent).replace('Unprocessed', 'all_songs_for_colab', 1) for x in ogg_file_paths]\n",
    "\n",
    "colab_ogg_key_dict = {}\n",
    "for i, src in enumerate(tqdm(ogg_file_paths)):\n",
    "    dest = folder_path / (str(i)+'.ogg')\n",
    "    colab_ogg_key_dict[i] = src\n",
    "    copyfile(src, dest)"
   ]
  },
  {
   "cell_type": "code",
   "execution_count": 15,
   "metadata": {},
   "outputs": [],
   "source": [
    "import pickle\n",
    "\n",
    "with open('colab_ogg_key_dict.pkl', 'wb') as f:\n",
    "    pickle.dump(colab_ogg_key_dict, f)\n",
    "f.close()"
   ]
  },
  {
   "cell_type": "markdown",
   "metadata": {},
   "source": [
    "## This notebook can also be used to copy the separated songs back into their respective folders"
   ]
  },
  {
   "cell_type": "code",
   "execution_count": 10,
   "metadata": {},
   "outputs": [],
   "source": [
    "import pickle\n",
    "import shutil\n",
    "from pathlib import Path\n",
    "import os\n",
    "\n",
    "# Load the key dict\n",
    "with open('./colab_ogg_key_dict.pkl', 'rb') as f:\n",
    "    key_dict = pickle.load(f)\n",
    "f.close()\n",
    "\n",
    "source_separated_path = Path(r'X:\\Training Data\\source_separated_ogg')\n",
    "\n",
    "# We will save the .ogg files as \"separated.ogg\"\n",
    "for unseparated_path in [source_separated_path / x for x in os.listdir(source_separated_path)]:\n",
    "    separated_path = key_dict[int(unseparated_path.stem)].parent / 'separated.ogg'\n",
    "    shutil.move(unseparated_path, separated_path)"
   ]
  }
 ],
 "metadata": {
  "interpreter": {
   "hash": "1131efc7635b497546d7e8fbc76ad9d1f9d5d5d7857bcde935d6feea39d08984"
  },
  "kernelspec": {
   "display_name": "Python 3.8.6 64-bit",
   "language": "python",
   "name": "python3"
  },
  "language_info": {
   "codemirror_mode": {
    "name": "ipython",
    "version": 3
   },
   "file_extension": ".py",
   "mimetype": "text/x-python",
   "name": "python",
   "nbconvert_exporter": "python",
   "pygments_lexer": "ipython3",
   "version": "3.8.6"
  },
  "orig_nbformat": 4
 },
 "nbformat": 4,
 "nbformat_minor": 2
}
