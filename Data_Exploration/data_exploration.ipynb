{
 "cells": [
  {
   "cell_type": "markdown",
   "source": [
    "## Exploring new ways to represent data to the model"
   ],
   "metadata": {}
  },
  {
   "cell_type": "markdown",
   "source": [
    "### Get the simplified notes array and raw audio"
   ],
   "metadata": {}
  },
  {
   "cell_type": "code",
   "execution_count": 2,
   "source": [
    "from pathlib import Path\n",
    "import sys\n",
    "sys.path.insert(1, str(Path.cwd().parent))\n",
    "from tensor_hero.preprocessing.chart import chart2tensor\n",
    "from tensor_hero.preprocessing.data import __remove_modifiers, __remove_release_keys\n",
    "from tensor_hero.preprocessing.audio import compute_mel_spectrogram\n",
    "import numpy as np\n",
    "import librosa\n",
    "import matplotlib.pyplot as plt\n",
    "\n",
    "parent_data_path = Path.cwd().parent / 'Training_Data' / 'fully_curated' / 'full_curated'\n",
    "song_dirs = [parent_data_path / x for x in os.listdir(parent_data_path)]\n",
    "chart_paths = [x / 'notes.chart' for x in song_dirs]\n",
    "audio_paths = [x / 'other.wav' for x in song_dirs]\n",
    "spec = compute_mel_spectrogram(audio_paths[0])\n",
    "\n",
    "# Get the simplified notes array\n",
    "notes_array = chart2tensor(chart_paths[0])\n",
    "notes_array = __remove_modifiers(__remove_release_keys(notes_array))\n",
    "\n",
    "data, sr = librosa.load(str(audio_paths[0]))  # waveform, sample rate (samples/second)\n",
    "plt.plot(data[:(sr*10)])  # First 10 seconds of audio data"
   ],
   "outputs": [
    {
     "output_type": "execute_result",
     "data": {
      "text/plain": [
       "[<matplotlib.lines.Line2D at 0x7fbda190c580>]"
      ]
     },
     "metadata": {},
     "execution_count": 2
    },
    {
     "output_type": "display_data",
     "data": {
      "text/plain": [
       "<Figure size 432x288 with 1 Axes>"
      ],
      "image/png": "[encoded data removed]"
     },
     "metadata": {
      "needs_background": "light"
     }
    }
   ],
   "metadata": {}
  },
  {
   "cell_type": "code",
   "execution_count": 3,
   "source": [
    "# Compute spectrogram the exact way they did it in Hawthorne et al\n",
    "print(np.where(notes_array > 0))"
   ],
   "outputs": [
    {
     "output_type": "stream",
     "name": "stdout",
     "text": [
      "(array([  346,   381,   415, ..., 34202, 34237, 34271]),)\n"
     ]
    }
   ],
   "metadata": {}
  }
 ],
 "metadata": {
  "interpreter": {
   "hash": "aee8b7b246df8f9039afb4144a1f6fd8d2ca17a180786b69acc140d282b71a49"
  },
  "kernelspec": {
   "name": "python3",
   "display_name": "Python 3.9.6 64-bit"
  },
  "language_info": {
   "name": "python",
   "version": "3.9.6",
   "mimetype": "text/x-python",
   "codemirror_mode": {
    "name": "ipython",
    "version": 3
   },
   "pygments_lexer": "ipython3",
   "nbconvert_exporter": "python",
   "file_extension": ".py"
  },
  "orig_nbformat": 4
 },
 "nbformat": 4,
 "nbformat_minor": 2
}