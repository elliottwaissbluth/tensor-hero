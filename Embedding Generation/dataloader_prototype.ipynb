{
 "metadata": {
  "language_info": {
   "codemirror_mode": {
    "name": "ipython",
    "version": 3
   },
   "file_extension": ".py",
   "mimetype": "text/x-python",
   "name": "python",
   "nbconvert_exporter": "python",
   "pygments_lexer": "ipython3",
   "version": "3.8.6-final"
  },
  "orig_nbformat": 2,
  "kernelspec": {
   "name": "python3",
   "display_name": "Python 3.8.6 64-bit",
   "metadata": {
    "interpreter": {
     "hash": "1131efc7635b497546d7e8fbc76ad9d1f9d5d5d7857bcde935d6feea39d08984"
    }
   }
  }
 },
 "nbformat": 4,
 "nbformat_minor": 2,
 "cells": [
  {
   "source": [
    "This notebook guided by\n",
    "-   https://stanford.edu/~shervine/blog/pytorch-how-to-generate-data-parallel"
   ],
   "cell_type": "markdown",
   "metadata": {}
  },
  {
   "cell_type": "code",
   "execution_count": 1,
   "metadata": {},
   "outputs": [],
   "source": [
    "import torch\n",
    "import numpy as np\n",
    "from pathlib import Path\n",
    "import os"
   ]
  },
  {
   "cell_type": "code",
   "execution_count": 5,
   "metadata": {},
   "outputs": [],
   "source": [
    "# partition holds a list of training IDs and validation IDs\n",
    "partition = dict.fromkeys(['train', 'validation'])\n",
    "\n",
    "# labels holds the labels associated with each ID\n",
    "labels = {}"
   ]
  },
  {
   "cell_type": "code",
   "execution_count": null,
   "metadata": {},
   "outputs": [],
   "source": [
    "# Write initialization function of class\n",
    "\n",
    "class Dataset(Dataset):\n",
    "    def __init__(self, list_IDs, labels):\n",
    "        '''Initialization'''\n",
    "        self.labels = labels        # Just the labels\n",
    "        self.list_IDs = list_IDs    # List of IDs to generate at each pass\n",
    "\n",
    "    def __len__(self):\n",
    "        '''Denotes total number of samples'''\n",
    "        return len(self.list_IDs)\n",
    "    \n",
    "    def __getitem__(self, idx):\n",
    "        '''Generates one sample of data'''\n",
    "        # Select sample\n",
    "        ID = self.list_IDs[idx]\n",
    "\n",
    "        # Load data and get label\n",
    "         = torch.load()"
   ]
  },
  {
   "cell_type": "code",
   "execution_count": null,
   "metadata": {},
   "outputs": [],
   "source": [
    "class DistributedFolderDataset(Dataset):\n",
    "    def __init__(self, data_size, root):\n",
    "        '''Parses through data dispersed in distributed folders (root > subroots >> folders containing data >>>). Shuffles and returns single training examples.\n",
    "        root => path to root of folders\n",
    "        data_size => amount of data to load into dataset'''\n",
    "        self.root = root\n",
    "        self.data_size = data_size\n",
    "\n",
    "        # Get list of files in root\n",
    "        \n"
   ]
  }
 ]
}