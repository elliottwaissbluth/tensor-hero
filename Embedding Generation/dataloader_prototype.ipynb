{
 "metadata": {
  "language_info": {
   "codemirror_mode": {
    "name": "ipython",
    "version": 3
   },
   "file_extension": ".py",
   "mimetype": "text/x-python",
   "name": "python",
   "nbconvert_exporter": "python",
   "pygments_lexer": "ipython3",
   "version": "3.8.6-final"
  },
  "orig_nbformat": 2,
  "kernelspec": {
   "name": "python3",
   "display_name": "Python 3.8.6 64-bit",
   "metadata": {
    "interpreter": {
     "hash": "1131efc7635b497546d7e8fbc76ad9d1f9d5d5d7857bcde935d6feea39d08984"
    }
   }
  }
 },
 "nbformat": 4,
 "nbformat_minor": 2,
 "cells": [
  {
   "source": [
    "This notebook guided by\n",
    "-   https://stanford.edu/~shervine/blog/pytorch-how-to-generate-data-parallel"
   ],
   "cell_type": "markdown",
   "metadata": {}
  },
  {
   "cell_type": "code",
   "execution_count": 2,
   "metadata": {},
   "outputs": [],
   "source": [
    "import torch\n",
    "import numpy as np\n",
    "from pathlib import Path\n",
    "import os\n",
    "import random"
   ]
  },
  {
   "cell_type": "code",
   "execution_count": 3,
   "metadata": {},
   "outputs": [],
   "source": [
    "class DistributedFolderDataset(torch.utils.data.Dataset):\n",
    "    def __init__(self, data_size, root):\n",
    "        '''Parses through data dispersed in distributed folders (root > subroots >> folders containing data >>>). \n",
    "        Shuffles and returns single training examples.\n",
    "        root => path to root of folders\n",
    "        data_size => amount of data to load into dataset in Gigabytes'''\n",
    "        self.root = root\n",
    "        self.data_size = data_size\n",
    "        self.X = np.zeros((3, 81, 0))\n",
    "        self.y = np.zeros(0)\n",
    "\n",
    "        subroot_paths = []  # List of files in root\n",
    "        for dirName, subdirList, fileList in os.walk(root):  # Walk through training data directory\n",
    "            if not fileList:  # If file list is empty\n",
    "                continue\n",
    "            subroot_paths.append(dirName)\n",
    "        \n",
    "        # Shuffle subroots\n",
    "        random.shuffle(subroot_paths)\n",
    "\n",
    "        # Load data\n",
    "        data_loaded = 0     # Amount of data loaded so far\n",
    "        for subroot in subroot_paths:\n",
    "            # print('Loading {}'.format(subroot))\n",
    "\n",
    "            # Path to files, in this case src = song and target = notes\n",
    "            notes_path = Path(subroot) / 'notes.npy'\n",
    "            song_path = Path(subroot) / 'song.npy'\n",
    "            try:\n",
    "                data_loaded += notes_path.stat().st_size / 1e9  # Measure amount of data input\n",
    "                data_loaded += song_path.stat().st_size / 1e9\n",
    "            except WindowsError as err:  # If the files aren't all there\n",
    "                print('Windows Error: Data in {} not found, skipping\\n\\n'.format(subroot))\n",
    "\n",
    "            # Load numpy arrays\n",
    "            notes = np.load(notes_path)\n",
    "            song = np.load(song_path)\n",
    "\n",
    "            # Put all the note and all the song data into one big array\n",
    "            self.X = np.concatenate((self.X, song), axis=2)\n",
    "            self.y = np.concatenate((self.y, notes), axis=0)        \n",
    "            \n",
    "\n",
    "            print('{:3.2f} / {:3.2f} GB data loaded\\n'.format(data_loaded, self.data_size))\n",
    "            if data_loaded > self.data_size:  # Stop loading once data_size limit is reached\n",
    "                break\n",
    "\n",
    "    def __len__(self):\n",
    "        return self.y.shape[0]\n",
    "\n",
    "    def __getitem__(self, idx):\n",
    "        # Split song into 150 ms windows\n",
    "        X = torch.from_numpy(self.X[:,:, idx-7 : idx+8])\n",
    "        X = torch.squeeze(X)\n",
    "        y = self.y[idx]\n",
    "        return X, y\n",
    "\n"
   ]
  },
  {
   "cell_type": "code",
   "execution_count": 4,
   "metadata": {},
   "outputs": [
    {
     "output_type": "stream",
     "name": "stdout",
     "text": [
      "yeah!\n",
      "0.08 / 1.00 GB data loaded\n",
      "\n",
      "0.12 / 1.00 GB data loaded\n",
      "\n",
      "0.17 / 1.00 GB data loaded\n",
      "\n",
      "0.23 / 1.00 GB data loaded\n",
      "\n",
      "0.28 / 1.00 GB data loaded\n",
      "\n",
      "0.36 / 1.00 GB data loaded\n",
      "\n",
      "0.41 / 1.00 GB data loaded\n",
      "\n",
      "0.45 / 1.00 GB data loaded\n",
      "\n",
      "0.51 / 1.00 GB data loaded\n",
      "\n",
      "0.56 / 1.00 GB data loaded\n",
      "\n",
      "0.62 / 1.00 GB data loaded\n",
      "\n",
      "0.66 / 1.00 GB data loaded\n",
      "\n",
      "0.70 / 1.00 GB data loaded\n",
      "\n",
      "0.74 / 1.00 GB data loaded\n",
      "\n",
      "0.79 / 1.00 GB data loaded\n",
      "\n",
      "0.84 / 1.00 GB data loaded\n",
      "\n",
      "0.87 / 1.00 GB data loaded\n",
      "\n",
      "0.91 / 1.00 GB data loaded\n",
      "\n",
      "0.94 / 1.00 GB data loaded\n",
      "\n",
      "1.00 / 1.00 GB data loaded\n",
      "\n",
      "1.15 / 1.00 GB data loaded\n",
      "\n",
      "587048\n"
     ]
    }
   ],
   "source": [
    "root = Path(r'X:\\Training Data\\Processed')\n",
    "\n",
    "my_dataset = DistributedFolderDataset(1, root)\n",
    "loader = torch.utils.data.DataLoader(my_dataset, batch_size = 10, shuffle=True, num_workers=0)\n",
    "print(len(my_dataset))\n",
    "\n",
    "\n",
    "\n",
    "i = 0\n",
    "for batch in loader:\n",
    "    print('\\nX shape: {}'.format(batch[0].shape))\n",
    "    print('label: {}'.format(batch[1]))\n",
    "    i+=1\n",
    "    if i>50:\n",
    "        break\n",
    "    \n",
    "\n",
    "        "
   ]
  },
  {
   "cell_type": "code",
   "execution_count": null,
   "metadata": {},
   "outputs": [],
   "source": []
  }
 ]
}