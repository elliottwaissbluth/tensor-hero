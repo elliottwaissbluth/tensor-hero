{
 "metadata": {
  "language_info": {
   "codemirror_mode": {
    "name": "ipython",
    "version": 3
   },
   "file_extension": ".py",
   "mimetype": "text/x-python",
   "name": "python",
   "nbconvert_exporter": "python",
   "pygments_lexer": "ipython3",
   "version": "3.8.6-final"
  },
  "orig_nbformat": 2,
  "kernelspec": {
   "name": "python3",
   "display_name": "Python 3.8.6 64-bit",
   "metadata": {
    "interpreter": {
     "hash": "1131efc7635b497546d7e8fbc76ad9d1f9d5d5d7857bcde935d6feea39d08984"
    }
   }
  }
 },
 "nbformat": 4,
 "nbformat_minor": 2,
 "cells": [
  {
   "source": [
    "This notebook guided by\n",
    "-   https://stanford.edu/~shervine/blog/pytorch-how-to-generate-data-parallel"
   ],
   "cell_type": "markdown",
   "metadata": {}
  },
  {
   "cell_type": "code",
   "execution_count": 11,
   "metadata": {},
   "outputs": [],
   "source": [
    "import torch\n",
    "import numpy as np\n",
    "from pathlib import Path\n",
    "import os"
   ]
  },
  {
   "cell_type": "code",
   "execution_count": 3,
   "metadata": {},
   "outputs": [],
   "source": [
    "# partition holds a list of training IDs and validation IDs\n",
    "partition = dict.fromkeys(['train', 'validation'])\n",
    "\n",
    "# labels holds the labels associated with each ID\n",
    "labels = {}"
   ]
  },
  {
   "cell_type": "code",
   "execution_count": null,
   "metadata": {},
   "outputs": [],
   "source": [
    "# Write initialization function of class\n",
    "\n",
    "class Dataset(Dataset):\n",
    "    def __init__(self, list_IDs, labels):\n",
    "        '''Initialization'''\n",
    "        self.labels = labels        # Just the labels\n",
    "        self.list_IDs = list_IDs    # List of IDs to generate at each pass\n",
    "\n",
    "    def __len__(self):\n",
    "        '''Denotes total number of samples'''\n",
    "        return len(self.list_IDs)\n",
    "    \n",
    "    def __getitem__(self, idx):\n",
    "        '''Generates one sample of data'''\n",
    "        # Select sample\n",
    "        ID = self.list_IDs[idx]\n",
    "\n",
    "        # Load data and get label\n",
    "         = torch.load()"
   ]
  },
  {
   "cell_type": "code",
   "execution_count": null,
   "metadata": {},
   "outputs": [],
   "source": [
    "class DistributedFolderDataset(Dataset):\n",
    "    def __init__(self, data_size, root):\n",
    "        '''Parses through data dispersed in distributed folders (root > subroots >> folders containing data >>>). Shuffles and returns single training examples.\n",
    "        root => path to root of folders\n",
    "        data_size => amount of data to load into dataset'''\n",
    "        self.root = root\n",
    "        self.data_size = data_size\n",
    "\n",
    "        # Get list of files in root\n",
    "        files = [] \n",
    "        for dirName, subdirList, fileList in os.walk(root):  # Walk through training data directory\n",
    "            if not fileList:  # If file list is empty\n",
    "                continue\n",
    "            track_pack_ = str(Path(dirName).parent).split('\\\\')[3]\n",
    "            song_ = str(Path(dirName)).split('\\\\')[4]\n",
    "            processed_path = processed_data_path / track_pack_ / song_\n",
    "            unprocessed_path = unprocessed_data_path / track_pack_ / song_\n",
    "            processed_song_path = processed_path / 'song.npy'\n",
    "            processed_notes_path = processed_path / 'notes.npy'\n",
    "\n",
    "            print('\\n\\nProcessing {}, {}'.format(track_pack_, song_))\n",
    "            if processed_notes_path.exists():\n",
    "                os.remove(processed_notes_path)  # Delete because I accidentally saved the same array hundreds of times lol\n",
    "\n",
    "            # Skip creating the directory if there is more than one audio file\n",
    "            if check_multiple_audio_files(fileList):\n",
    "                multiple_audio_songs.append(unprocessed_song_path)\n",
    "                print('{}, {} contains multiple audio files, skipping'.format(track_pack_, song_))\n",
    "                continue\n",
    "            else:\n",
    "                audio_file_name = get_audio_file_name(fileList)\n",
    "                unprocessed_song_path = unprocessed_path / audio_file_name\n",
    "\n",
    "            # Create note tensor for song\n",
    "            try:\n",
    "                note_tensor = np.array(chart2tensor(unprocessed_path / 'notes.chart', print_release_notes = False)).astype(int)\n",
    "            except:\n",
    "                print('{}, {} .chart file is in the wrong format, skipping'.format(track_pack_, song_))\n",
    "                wrong_format_charts.append(unprocessed_song_path)\n",
    "                continue\n",
    "            \n",
    "            # Make folder in 'Processed' if it doesn't already exist\n",
    "            if not processed_path.exists():\n",
    "                os.mkdir(processed_path)\n",
    "\n",
    "            # Check if song has already been processed\n",
    "            if processed_song_path.exists():\n",
    "                print('{} audio has already been processed'.format(str(Path(processed_path)).split('\\\\')[-1]))\n",
    "                song_size += (processed_song_path.stat().st_size) / 1e9\n",
    "            else:\n",
    "                song = music2tensor(unprocessed_song_path)\n",
    "                np.save(processed_song_path, song)\n",
    "                song_size += (processed_song_path.stat().st_size) / 1e9\n",
    "            \n",
    "            # Check if notes have already been processed\n",
    "            if processed_notes_path.exists():\n",
    "                print('{} notes have already been procesed'.format(str(Path(processed_path)).split('\\\\')[-1]))\n",
    "                notes_size += (processed_notes_path.stat().st_size) / 1e9\n",
    "            else:\n",
    "                np.save(processed_notes_path, note_tensor)\n",
    "                notes_size += (processed_notes_path.stat().st_size) / 1e9\n",
    "                \n"
   ]
  },
  {
   "cell_type": "code",
   "execution_count": 10,
   "metadata": {},
   "outputs": [],
   "source": [
    "root = Path(r'X:\\Training Data\\Processed')\n",
    "\n",
    "i = 0\n",
    "\n",
    "files = []\n",
    "data_size = 0\n",
    "for dirName, subdirList, fileList in os.walk(root):  # Walk through training data directory\n",
    "    if not fileList:  # If file list is empty\n",
    "        continue\n",
    "    \n",
    "    notes = np.lo\n",
    "    data_size += (Path(dirname) / 'notes.npy').stat.st_size / 1e9\n",
    "    data_size += (Path(dirname) / 'song.npy').stat.st_size / 1e9\n",
    "    print(data_size)\n",
    "    break\n",
    "    \n",
    "\n",
    "        "
   ]
  }
 ]
}