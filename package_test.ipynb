{
 "cells": [
  {
   "cell_type": "code",
   "execution_count": 1,
   "source": [
    "import tensor_hero.visualization as vz\n",
    "import tensor_hero.preprocessing.data as data\n",
    "\n",
    "print('vizualization:')\n",
    "print(dir(vz))\n",
    "print('\\ndata')\n",
    "print(dir(data))"
   ],
   "outputs": [
    {
     "output_type": "stream",
     "name": "stdout",
     "text": [
      "vizualization:\n",
      "['Path', '__builtins__', '__cached__', '__doc__', '__file__', '__loader__', '__name__', '__package__', '__spec__', 'create_scatter_axes', 'note_idx_to_c', 'note_idx_to_y', 'np', 'plot_chart', 'plt', 'slice_notes', 'viz_dict']\n",
      "\n",
      "data\n",
      "['Path', '__builtins__', '__cached__', '__check_multiple_audio_files', '__doc__', '__file__', '__get_audio_file_name', '__loader__', '__match_tensor_lengths', '__name__', '__package__', '__spec__', 'chart2tensor', 'compute_mel_spectrogram', 'get_list_of_ogg_files', 'music2tensor', 'np', 'os', 'populate_processed_folder', 'populate_processed_folder_with_spectrograms', 'simplified_note_dict', 'sys', 'tqdm']\n"
     ]
    }
   ],
   "metadata": {}
  }
 ],
 "metadata": {
  "orig_nbformat": 4,
  "language_info": {
   "name": "python",
   "version": "3.9.6",
   "mimetype": "text/x-python",
   "codemirror_mode": {
    "name": "ipython",
    "version": 3
   },
   "pygments_lexer": "ipython3",
   "nbconvert_exporter": "python",
   "file_extension": ".py"
  },
  "kernelspec": {
   "name": "python3",
   "display_name": "Python 3.9.6 64-bit"
  },
  "interpreter": {
   "hash": "aee8b7b246df8f9039afb4144a1f6fd8d2ca17a180786b69acc140d282b71a49"
  }
 },
 "nbformat": 4,
 "nbformat_minor": 2
}