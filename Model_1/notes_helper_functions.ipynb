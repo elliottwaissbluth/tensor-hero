{
 "cells": [
  {
   "cell_type": "code",
   "execution_count": null,
   "source": [
    "#function to simplify one hot encoded arrays in notes.py\n",
    "#creates arrays 0-31 instead of 0-224 \n",
    "def simplify_ohc_notes(path):\n",
    "   notes_array = np.load(path)\n",
    "   notes_array = notes_array.astype(int)\n",
    "   for i in range(0,len(notes)):\n",
    "    if notes[i] in [31.62,93,124,155,186,217]:\n",
    "        notes[i] = 31\n",
    "   mod_array = notes_array % 31\n",
    "   return mod_array "
   ],
   "outputs": [],
   "metadata": {}
  },
  {
   "cell_type": "code",
   "execution_count": null,
   "source": [
    "#turn simplified 1d notes array into 31x400 matrix\n",
    "#each row in matrix corresponds to note value 0-31, one hot encoded so that on each timestep we know which note is played\n",
    "def create_matrix(array):\n",
    "    nb_classes = 31\n",
    "    targets = np.array([array]).reshape(-1)\n",
    "    one_hot_targets = np.eye(nb_classes)[targets]\n",
    "    return one_hot_targets.T"
   ],
   "outputs": [],
   "metadata": {}
  },
  {
   "cell_type": "code",
   "execution_count": null,
   "source": [
    "#create consecutive 431 dimensional arrays for each timestep/note combination in 400ms, outputs 400 431-d arrays\n",
    "def make_time_and_note_array(matrix):\n",
    "    rotate = matrix.T.astype(int)\n",
    "    output = []\n",
    "    #create consecutive array inputs consisting of a 400 dim timestep one-hot array + 31 note one-hot\n",
    "    for i in range(0,rotate.shape[0]):\n",
    "        time = np.zeros(400).astype(int)\n",
    "        time[i] = 1\n",
    "        new = np.concatenate((time,rotate[i]))\n",
    "        output.append(new)\n",
    "    output = np.array(output)\n",
    "    return output"
   ],
   "outputs": [],
   "metadata": {}
  },
  {
   "cell_type": "code",
   "execution_count": null,
   "source": [
    "def create_pairs(input_array_seq):\n",
    "    list_pairs = []\n",
    "    for array in input_array_seq:\n",
    "        pairs = []\n",
    "        for i in len(array):\n",
    "            if i != 0:\n",
    "                pairs.append(i)\n",
    "        list_pairs.append(pairs)\n",
    "    return list_pairs\n",
    "\n",
    "\n",
    "        \n"
   ],
   "outputs": [],
   "metadata": {}
  },
  {
   "cell_type": "code",
   "execution_count": null,
   "source": [
    "#takes output format (400 arrays of 431d) and returns 31x400 matrix of note,timestep\n",
    "def output_to_matrix(output):\n",
    "    #keep only the last 31 columns of the matrix (first 400 are timestep one-hots)\n",
    "    return output[:,400:].T"
   ],
   "outputs": [],
   "metadata": {}
  },
  {
   "cell_type": "code",
   "execution_count": null,
   "source": [
    "#convert 31note x 400ms matrix and compress down into notes array 1 x 400 with values 0-31 \n",
    "def matrix_to_notesarray(matrix):\n",
    "    #multiply by its index to change the one-hot value to 0-31 for each row\n",
    "    a = [matrix[i] * i for i in range(0,len(matrix))]\n",
    "    a = np.array(a)\n",
    "    #return the verticle sum across all columns\n",
    "    return a.sum(axis = 0)\n"
   ],
   "outputs": [],
   "metadata": {}
  }
 ],
 "metadata": {
  "orig_nbformat": 4,
  "language_info": {
   "name": "python"
  }
 },
 "nbformat": 4,
 "nbformat_minor": 2
}