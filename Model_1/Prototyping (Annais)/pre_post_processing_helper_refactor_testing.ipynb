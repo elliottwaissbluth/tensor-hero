{
 "cells": [
  {
   "cell_type": "code",
   "execution_count": 2,
   "source": [
    "import numpy as np\n",
    "from prototyping import *"
   ],
   "outputs": [],
   "metadata": {
    "collapsed": true
   }
  },
  {
   "cell_type": "code",
   "execution_count": 3,
   "source": [
    "# 1D array (not limited to 4s slots, rather full song)\n",
    "# Index: Time (in miliseconds)\n",
    "# Values: integer between 31 and 0 for keys played \n",
    "\n",
    "\n",
    "# TESTING spec_to_in_spec_list\n",
    "test_spec = np.random.randint(80, size=(512, 820))\n",
    "test_spec = test_spec*(-1)\n",
    "in_spec_list = spec_to_in_spec_list(test_spec)\n",
    "in_spec_list\n",
    "\n",
    "\n",
    "# TESTING notes_to_out_seq_list\n",
    "test_notes1 = np.zeros(420)\n",
    "test_notes1[2] = 1\n",
    "test_notes1[3] = 29\n",
    "\n",
    "test_notes2 = np.random.choice(32, 420)\n",
    "\n",
    "test_notes3 = np.zeros(420)\n",
    "test_notes3[2] = 31\n",
    "test_notes3[390] = 28\n",
    "test_notes3[399] = 18\n",
    "test_notes3[411] = 24"
   ],
   "outputs": [],
   "metadata": {}
  },
  {
   "cell_type": "code",
   "execution_count": 4,
   "source": [
    "# Spectrogram\n",
    "# Dimensions: 512 x length of song in ms\n",
    "\n",
    "test_spec = np.random.randint(80, size=(512, 820))\n",
    "test_spec = test_spec*(-1)\n",
    "print(test_spec)"
   ],
   "outputs": [
    {
     "output_type": "stream",
     "name": "stdout",
     "text": [
      "[[-16  -3 -21 ... -12 -51 -16]\n",
      " [-52 -34 -71 ... -24  -9 -15]\n",
      " [-77  -6 -43 ... -76 -50 -78]\n",
      " ...\n",
      " [-18 -57 -62 ... -27 -57 -78]\n",
      " [-70 -50 -33 ... -68 -57 -64]\n",
      " [-78 -61 -43 ... -69 -37 -39]]\n"
     ]
    }
   ],
   "metadata": {}
  },
  {
   "cell_type": "code",
   "execution_count": 5,
   "source": [
    "in_spec_list = spec_to_in_spec_list(test_spec)\n",
    "print(len(in_spec_list))\n",
    "print(in_spec_list[1].shape)"
   ],
   "outputs": [
    {
     "output_type": "stream",
     "name": "stdout",
     "text": [
      "2\n",
      "(512, 400)\n"
     ]
    }
   ],
   "metadata": {}
  },
  {
   "cell_type": "code",
   "execution_count": 6,
   "source": [
    "out_seq_list1 = notes_to_out_seq_list(test_notes1)\n",
    "out_seq_list1\n",
    "out_seq_list2 = notes_to_out_seq_list(test_notes2)\n",
    "out_seq_list2\n",
    "out_seq_list3 = notes_to_out_seq_list(test_notes3)\n",
    "out_seq_list3\n",
    "\n",
    "\n",
    "print(out_seq_list1[0].shape)\n",
    "print(out_seq_list2[0].shape)"
   ],
   "outputs": [
    {
     "output_type": "stream",
     "name": "stdout",
     "text": [
      "(432,)\n",
      "(432,)\n"
     ]
    }
   ],
   "metadata": {}
  },
  {
   "cell_type": "code",
   "execution_count": 7,
   "source": [
    "# TESTING out_seq_list_to_notes\n",
    "processed_notes1 = out_seq_list_to_notes(out_seq_list1)\n",
    "processed_notes2 = out_seq_list_to_notes(out_seq_list2)\n",
    "processed_notes3 = out_seq_list_to_notes(out_seq_list3)\n",
    "processed_notes1\n",
    "processed_notes2\n",
    "processed_notes3\n",
    "\n",
    "print(processed_notes1.shape, test_notes1.shape)\n",
    "print((processed_notes1[:400] == test_notes1[:400]).all())\n",
    "\n",
    "print((processed_notes2[:400] == test_notes2[:400]).all())\n",
    "print(processed_notes2.shape, test_notes2.shape)\n",
    "\n",
    "print((processed_notes3[:400] == test_notes3[:400]).all())\n",
    "print(processed_notes3.shape, test_notes3.shape)\n",
    "\n",
    "\n",
    "print(\"-----------\")\n",
    "#for i in range(800):\n",
    "#    print(i, processed_notes2[i], test_notes2[i])"
   ],
   "outputs": [
    {
     "output_type": "stream",
     "name": "stdout",
     "text": [
      "(400,) (420,)\n",
      "True\n",
      "True\n",
      "(800,) (420,)\n",
      "True\n",
      "(800,) (420,)\n",
      "-----------\n"
     ]
    }
   ],
   "metadata": {}
  },
  {
   "cell_type": "code",
   "execution_count": null,
   "source": [],
   "outputs": [],
   "metadata": {}
  },
  {
   "cell_type": "code",
   "execution_count": null,
   "source": [],
   "outputs": [],
   "metadata": {}
  }
 ],
 "metadata": {
  "kernelspec": {
   "name": "python3",
   "display_name": "Python 3.8.2 64-bit ('base': conda)"
  },
  "language_info": {
   "name": "python",
   "version": "3.8.2",
   "mimetype": "text/x-python",
   "codemirror_mode": {
    "name": "ipython",
    "version": 3
   },
   "pygments_lexer": "ipython3",
   "nbconvert_exporter": "python",
   "file_extension": ".py"
  },
  "interpreter": {
   "hash": "dca0ade3e726a953b501b15e8e990130d2b7799f14cfd9f4271676035ebe5511"
  }
 },
 "nbformat": 4,
 "nbformat_minor": 2
}