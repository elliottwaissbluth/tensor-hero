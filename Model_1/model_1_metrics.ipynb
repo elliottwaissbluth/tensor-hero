{
 "cells": [
  {
   "cell_type": "code",
   "execution_count": 4,
   "source": [
    "import numpy as np\n",
    "import pandas as pd\n",
    "import matplotlib.pyplot as plt\n",
    "path_new_notes = '../../files_tensorhero/Training Data/Processed/Facelift Pack 2/Stevie Ray Vaughan and Double Trouble - Texas Flood [xX760Xx]/notes.npy'\n",
    "notes1 = np.load((path_new_notes))"
   ],
   "outputs": [],
   "metadata": {}
  },
  {
   "cell_type": "code",
   "execution_count": 18,
   "source": [
    "\n",
    "notes_test = notes1\n",
    "# notes_test[361] = 0\n",
    "notes_test[1189] = 4\n",
    "notes_test[803] = 0\n",
    "notes_test[8010] = 2\n",
    "notes_test[1237] = 15\n",
    "notes_test[29885] = 4\n",
    "notes_test[611] = 2\n",
    "notes_test[8723] = 3\n",
    "notes_test[24618] =0\n",
    "notes_test[4400] = 5\n"
   ],
   "outputs": [],
   "metadata": {}
  },
  {
   "cell_type": "code",
   "execution_count": 19,
   "source": [
    "print(notes1[8010])"
   ],
   "outputs": [
    {
     "output_type": "stream",
     "name": "stdout",
     "text": [
      "2.0\n"
     ]
    }
   ],
   "metadata": {}
  },
  {
   "cell_type": "code",
   "execution_count": 28,
   "source": [
    "def freq_saturation(truth,output):\n",
    "    truth_nonzero = np.count_nonzero(truth)\n",
    "    output_nonzero = np.count_nonzero(output)\n",
    "    return output_nonzero/truth_nonzero\n",
    "    "
   ],
   "outputs": [],
   "metadata": {}
  },
  {
   "cell_type": "code",
   "execution_count": 30,
   "source": [
    "freq_saturation(notes1, notes_test)"
   ],
   "outputs": [
    {
     "output_type": "execute_result",
     "data": {
      "text/plain": [
       "0.9984313725490196"
      ]
     },
     "metadata": {},
     "execution_count": 30
    }
   ],
   "metadata": {}
  },
  {
   "cell_type": "code",
   "execution_count": 66,
   "source": [
    "np.unique(notes1)"
   ],
   "outputs": [
    {
     "output_type": "execute_result",
     "data": {
      "text/plain": [
       "array([  0.,   1.,   2.,   3.,   4.,   5.,  12.,  13.,  14.,  15.,  19.,\n",
       "        22.,  25.,  32.,  33.,  34.,  35.,  36.,  63.,  64.,  65.,  66.,\n",
       "        67.,  94.,  95.,  96.,  97.,  98., 103., 104., 106., 108., 109.,\n",
       "       112., 115., 117., 118., 125., 126., 127., 128., 129., 134., 135.,\n",
       "       137., 156., 157., 187., 188., 189., 190., 191., 193., 196., 197.,\n",
       "       199., 201., 202., 205., 208., 210., 211., 218., 219.])"
      ]
     },
     "metadata": {},
     "execution_count": 66
    }
   ],
   "metadata": {}
  },
  {
   "cell_type": "code",
   "execution_count": 7,
   "source": [
    "def simplify_ohc_notes(notes_array):\n",
    "   notes_array = notes_array.astype(int)\n",
    "   for i in range(0,len(notes_array)):\n",
    "    if notes_array[i] in [31.62,93,124,155,186,217]:\n",
    "        notes_array[i] = 31\n",
    "    elif notes_array[i] in [218,219,220,221,222,223,224]:\n",
    "        notes_array[i] = 32\n",
    "    else:\n",
    "        notes_array[i] =  notes_array[i] % 31\n",
    "   return notes_array "
   ],
   "outputs": [],
   "metadata": {}
  },
  {
   "cell_type": "code",
   "execution_count": 20,
   "source": [
    "notes_mod = simplify_ohc_notes(notes1)\n",
    "notes_testmod = simplify_ohc_notes(notes_test)"
   ],
   "outputs": [],
   "metadata": {}
  },
  {
   "cell_type": "code",
   "execution_count": 50,
   "source": [
    "true = np.histogram(notes_mod, bins = [0,1,6,16,26,31,31,33])\n",
    "observed = np.histogram(notes_testmod, bins = [0,1,6,16,26,31,31,33])\n"
   ],
   "outputs": [],
   "metadata": {}
  },
  {
   "cell_type": "code",
   "execution_count": 11,
   "source": [
    "true = np.histogram(notes_mod, bins = np.arange(0,34)[)\n",
    "observed = np.histogram(notes_testmod,] bins = np.arange(0,34))"
   ],
   "outputs": [],
   "metadata": {}
  },
  {
   "cell_type": "code",
   "execution_count": 56,
   "source": [
    "true[0]/np.sum(true[0])\n",
    "data = np.array((true[0], true[0]/np.sum(true[0]), observed[0], observed[0]/np.sum(true[0])))\n",
    "data"
   ],
   "outputs": [
    {
     "output_type": "execute_result",
     "data": {
      "text/plain": [
       "array([[3.10300000e+04, 1.17400000e+03, 7.10000000e+01, 2.70000000e+01,\n",
       "        0.00000000e+00, 0.00000000e+00, 3.00000000e+00],\n",
       "       [9.60532425e-01, 3.63411237e-02, 2.19780220e-03, 8.35783934e-04,\n",
       "        0.00000000e+00, 0.00000000e+00, 9.28648816e-05],\n",
       "       [3.10300000e+04, 1.17400000e+03, 7.10000000e+01, 2.70000000e+01,\n",
       "        0.00000000e+00, 0.00000000e+00, 3.00000000e+00],\n",
       "       [9.60532425e-01, 3.63411237e-02, 2.19780220e-03, 8.35783934e-04,\n",
       "        0.00000000e+00, 0.00000000e+00, 9.28648816e-05]])"
      ]
     },
     "metadata": {},
     "execution_count": 56
    }
   ],
   "metadata": {}
  },
  {
   "cell_type": "code",
   "execution_count": 59,
   "source": [
    "df = pd.DataFrame(data = data.T, columns = ['Truth', '% of total','Observed','% of total'], index= ['None', 'Single', 'Double', 'Triple', 'Four', 'Five', 'Open'])\n",
    "df"
   ],
   "outputs": [
    {
     "output_type": "execute_result",
     "data": {
      "text/html": [
       "<div>\n",
       "<style scoped>\n",
       "    .dataframe tbody tr th:only-of-type {\n",
       "        vertical-align: middle;\n",
       "    }\n",
       "\n",
       "    .dataframe tbody tr th {\n",
       "        vertical-align: top;\n",
       "    }\n",
       "\n",
       "    .dataframe thead th {\n",
       "        text-align: right;\n",
       "    }\n",
       "</style>\n",
       "<table border=\"1\" class=\"dataframe\">\n",
       "  <thead>\n",
       "    <tr style=\"text-align: right;\">\n",
       "      <th></th>\n",
       "      <th>Truth</th>\n",
       "      <th>% of total</th>\n",
       "      <th>Observed</th>\n",
       "      <th>% of total</th>\n",
       "    </tr>\n",
       "  </thead>\n",
       "  <tbody>\n",
       "    <tr>\n",
       "      <th>None</th>\n",
       "      <td>31030.0</td>\n",
       "      <td>0.960532</td>\n",
       "      <td>31030.0</td>\n",
       "      <td>0.960532</td>\n",
       "    </tr>\n",
       "    <tr>\n",
       "      <th>Single</th>\n",
       "      <td>1174.0</td>\n",
       "      <td>0.036341</td>\n",
       "      <td>1174.0</td>\n",
       "      <td>0.036341</td>\n",
       "    </tr>\n",
       "    <tr>\n",
       "      <th>Double</th>\n",
       "      <td>71.0</td>\n",
       "      <td>0.002198</td>\n",
       "      <td>71.0</td>\n",
       "      <td>0.002198</td>\n",
       "    </tr>\n",
       "    <tr>\n",
       "      <th>Triple</th>\n",
       "      <td>27.0</td>\n",
       "      <td>0.000836</td>\n",
       "      <td>27.0</td>\n",
       "      <td>0.000836</td>\n",
       "    </tr>\n",
       "    <tr>\n",
       "      <th>Four</th>\n",
       "      <td>0.0</td>\n",
       "      <td>0.000000</td>\n",
       "      <td>0.0</td>\n",
       "      <td>0.000000</td>\n",
       "    </tr>\n",
       "    <tr>\n",
       "      <th>Five</th>\n",
       "      <td>0.0</td>\n",
       "      <td>0.000000</td>\n",
       "      <td>0.0</td>\n",
       "      <td>0.000000</td>\n",
       "    </tr>\n",
       "    <tr>\n",
       "      <th>Open</th>\n",
       "      <td>3.0</td>\n",
       "      <td>0.000093</td>\n",
       "      <td>3.0</td>\n",
       "      <td>0.000093</td>\n",
       "    </tr>\n",
       "  </tbody>\n",
       "</table>\n",
       "</div>"
      ],
      "text/plain": [
       "          Truth  % of total  Observed  % of total\n",
       "None    31030.0    0.960532   31030.0    0.960532\n",
       "Single   1174.0    0.036341    1174.0    0.036341\n",
       "Double     71.0    0.002198      71.0    0.002198\n",
       "Triple     27.0    0.000836      27.0    0.000836\n",
       "Four        0.0    0.000000       0.0    0.000000\n",
       "Five        0.0    0.000000       0.0    0.000000\n",
       "Open        3.0    0.000093       3.0    0.000093"
      ]
     },
     "metadata": {},
     "execution_count": 59
    }
   ],
   "metadata": {}
  },
  {
   "cell_type": "code",
   "execution_count": 51,
   "source": [
    "# Position of bars on x-axis\n",
    "ind = np.array([0,1,2,3,4,5,6])\n",
    "\n",
    "ticks = ['None', 'Single', 'Double', 'Triple', 'Four', 'Five', 'Open']\n",
    "# Figure size\n",
    "plt.figure(figsize=(10,5))\n",
    "\n",
    "# Width of a bar \n",
    "width = 0.3       \n",
    "\n",
    "# Plotting\n",
    "plt.bar(ind, truth[0] , width,log = True, label='Truth')\n",
    "plt.bar(ind + width, observed[0], width,log = True, label='Observed')\n",
    "plt.legend()\n",
    "plt.xticks(ind,ticks)\n",
    "plt.show();\n",
    "\n"
   ],
   "outputs": [
    {
     "output_type": "display_data",
     "data": {
      "image/png": "[encoded data removed]",
      "text/plain": [
       "<Figure size 720x360 with 1 Axes>"
      ]
     },
     "metadata": {
      "needs_background": "light"
     }
    }
   ],
   "metadata": {}
  },
  {
   "cell_type": "code",
   "execution_count": 119,
   "source": [
    "def freq_histogram(truth, output):\n",
    "    true = np.histogram(truth, bins = np.arange(0,34))\n",
    "    observed = np.histogram(output, bins = np.arange(0,34))\n",
    "    # Position of bars on x-axis\n",
    "    ind = np.arange(0,33)\n",
    "\n",
    "    ticks = [str(val) for val in ind]\n",
    "    # Figure size\n",
    "    plt.figure(figsize=(10,5))\n",
    "\n",
    "    # Width of a bar \n",
    "    width = 0.3       \n",
    "\n",
    "    # Plotting\n",
    "    plt.bar(ind, true[0] , width,log = True, label='Truth')\n",
    "    plt.bar(ind + width, observed[0], width,log = True, label='Observed')\n",
    "\n",
    "    plt.xticks(ind + width / 2, ticks)\n",
    "    plt.legend()\n",
    "    plt.show();"
   ],
   "outputs": [],
   "metadata": {}
  },
  {
   "cell_type": "code",
   "execution_count": 120,
   "source": [
    "freq_histogram(notes_mod, notes_testmod)"
   ],
   "outputs": [
    {
     "output_type": "display_data",
     "data": {
      "image/png": "[encoded data removed]",
      "text/plain": [
       "<Figure size 720x360 with 1 Axes>"
      ]
     },
     "metadata": {
      "needs_background": "light"
     }
    }
   ],
   "metadata": {}
  },
  {
   "cell_type": "code",
   "execution_count": null,
   "source": [
    "import mir_eval\n"
   ],
   "outputs": [
    {
     "output_type": "error",
     "ename": "Error",
     "evalue": "Session cannot generate requests",
     "traceback": [
      "Error: Session cannot generate requests",
      "at w.executeCodeCell (/Users/scarr/.vscode/extensions/ms-toolsai.jupyter-2021.8.2041215044/out/client/extension.js:52:301310)",
      "at w.execute (/Users/scarr/.vscode/extensions/ms-toolsai.jupyter-2021.8.2041215044/out/client/extension.js:52:300703)",
      "at w.start (/Users/scarr/.vscode/extensions/ms-toolsai.jupyter-2021.8.2041215044/out/client/extension.js:52:296367)",
      "at runMicrotasks (<anonymous>)",
      "at processTicksAndRejections (internal/process/task_queues.js:93:5)",
      "at async t.CellExecutionQueue.executeQueuedCells (/Users/scarr/.vscode/extensions/ms-toolsai.jupyter-2021.8.2041215044/out/client/extension.js:52:311160)",
      "at async t.CellExecutionQueue.start (/Users/scarr/.vscode/extensions/ms-toolsai.jupyter-2021.8.2041215044/out/client/extension.js:52:310700)"
     ]
    }
   ],
   "metadata": {}
  },
  {
   "cell_type": "code",
   "execution_count": 1,
   "source": [
    "import mir_eval as mir"
   ],
   "outputs": [],
   "metadata": {}
  },
  {
   "cell_type": "code",
   "execution_count": 2,
   "source": [
    "notes1"
   ],
   "outputs": [
    {
     "output_type": "error",
     "ename": "NameError",
     "evalue": "name 'notes1' is not defined",
     "traceback": [
      "\u001b[0;31m---------------------------------------------------------------------------\u001b[0m",
      "\u001b[0;31mNameError\u001b[0m                                 Traceback (most recent call last)",
      "\u001b[0;32m/var/folders/qn/__y1rbdj3t7blhddlhxzylx80000gn/T/ipykernel_85151/375275039.py\u001b[0m in \u001b[0;36m<module>\u001b[0;34m\u001b[0m\n\u001b[0;32m----> 1\u001b[0;31m \u001b[0mnotes1\u001b[0m\u001b[0;34m\u001b[0m\u001b[0;34m\u001b[0m\u001b[0m\n\u001b[0m",
      "\u001b[0;31mNameError\u001b[0m: name 'notes1' is not defined"
     ]
    }
   ],
   "metadata": {}
  }
 ],
 "metadata": {
  "orig_nbformat": 4,
  "language_info": {
   "name": "python",
   "version": "3.9.2",
   "mimetype": "text/x-python",
   "codemirror_mode": {
    "name": "ipython",
    "version": 3
   },
   "pygments_lexer": "ipython3",
   "nbconvert_exporter": "python",
   "file_extension": ".py"
  },
  "kernelspec": {
   "name": "python3",
   "display_name": "Python 3.9.2 64-bit"
  },
  "interpreter": {
   "hash": "aee8b7b246df8f9039afb4144a1f6fd8d2ca17a180786b69acc140d282b71a49"
  }
 },
 "nbformat": 4,
 "nbformat_minor": 2
}