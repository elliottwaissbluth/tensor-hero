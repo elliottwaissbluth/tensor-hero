{
 "cells": [
  {
   "cell_type": "code",
   "execution_count": 35,
   "source": [
    "import numpy as np\n",
    "import pandas as pd\n",
    "import matplotlib.pyplot as plt\n",
    "path_new_notes = '../../files_tensorhero/Training Data/Processed/Facelift Pack 2/Stevie Ray Vaughan and Double Trouble - Texas Flood [xX760Xx]/notes.npy'\n",
    "notes1 = np.load((path_new_notes))"
   ],
   "outputs": [],
   "metadata": {}
  },
  {
   "cell_type": "code",
   "execution_count": 2,
   "source": [
    "\n",
    "notes_test = notes1\n",
    "# notes_test[361] = 0\n",
    "notes_test[1189] = 4\n",
    "notes_test[803] = 0\n",
    "notes_test[8010] = 2\n",
    "notes_test[1237] = 15\n",
    "notes_test[29885] = 4\n",
    "notes_test[611] = 2\n",
    "notes_test[8723] = 3\n",
    "notes_test[24618] =0\n"
   ],
   "outputs": [],
   "metadata": {}
  },
  {
   "cell_type": "code",
   "execution_count": 26,
   "source": [
    "print(notes1[8010])"
   ],
   "outputs": [
    {
     "output_type": "stream",
     "name": "stdout",
     "text": [
      "0.0\n"
     ]
    }
   ],
   "metadata": {}
  },
  {
   "cell_type": "code",
   "execution_count": 28,
   "source": [
    "def freq_saturation(truth,output):\n",
    "    truth_nonzero = np.count_nonzero(truth)\n",
    "    output_nonzero = np.count_nonzero(output)\n",
    "    return output_nonzero/truth_nonzero\n",
    "    "
   ],
   "outputs": [],
   "metadata": {}
  },
  {
   "cell_type": "code",
   "execution_count": 30,
   "source": [
    "freq_saturation(notes1, notes_test)"
   ],
   "outputs": [
    {
     "output_type": "execute_result",
     "data": {
      "text/plain": [
       "0.9984313725490196"
      ]
     },
     "metadata": {},
     "execution_count": 30
    }
   ],
   "metadata": {}
  },
  {
   "cell_type": "code",
   "execution_count": 66,
   "source": [
    "np.unique(notes1)"
   ],
   "outputs": [
    {
     "output_type": "execute_result",
     "data": {
      "text/plain": [
       "array([  0.,   1.,   2.,   3.,   4.,   5.,  12.,  13.,  14.,  15.,  19.,\n",
       "        22.,  25.,  32.,  33.,  34.,  35.,  36.,  63.,  64.,  65.,  66.,\n",
       "        67.,  94.,  95.,  96.,  97.,  98., 103., 104., 106., 108., 109.,\n",
       "       112., 115., 117., 118., 125., 126., 127., 128., 129., 134., 135.,\n",
       "       137., 156., 157., 187., 188., 189., 190., 191., 193., 196., 197.,\n",
       "       199., 201., 202., 205., 208., 210., 211., 218., 219.])"
      ]
     },
     "metadata": {},
     "execution_count": 66
    }
   ],
   "metadata": {}
  },
  {
   "cell_type": "code",
   "execution_count": 67,
   "source": [
    "def simplify_ohc_notes(notes_array):\n",
    "   notes_array = notes_array.astype(int)\n",
    "   for i in range(0,len(notes_array)):\n",
    "    if notes_array[i] in [31.62,93,124,155,186,217]:\n",
    "        notes_array[i] = 31\n",
    "    elif notes_array[i] in [218,219,220,221,222,223,224]:\n",
    "        notes_array[i] = 32\n",
    "    else:\n",
    "        notes_array[i] =  notes_array[i] % 31\n",
    "   return notes_array "
   ],
   "outputs": [],
   "metadata": {}
  },
  {
   "cell_type": "code",
   "execution_count": 89,
   "source": [
    "notes_mod = simplify_ohc_notes(notes1)\n",
    "notes_testmod = simplify_ohc_notes(notes_test)"
   ],
   "outputs": [],
   "metadata": {}
  },
  {
   "cell_type": "code",
   "execution_count": 108,
   "source": [
    "truth = np.histogram(notes_mod, bins = [0,1,6,16,26,31,32,33])\n",
    "observed = np.histogram(notes_testmod, bins = [0,1,6,16,26,31,32,33])\n"
   ],
   "outputs": [],
   "metadata": {}
  },
  {
   "cell_type": "code",
   "execution_count": 111,
   "source": [
    "truth[0], truth[1]"
   ],
   "outputs": [
    {
     "output_type": "execute_result",
     "data": {
      "text/plain": [
       "(array([31030,  1173,    72,    27,     0,     0,     3]),\n",
       " array([ 0,  1,  6, 16, 26, 31, 32, 33]))"
      ]
     },
     "metadata": {},
     "execution_count": 111
    }
   ],
   "metadata": {}
  },
  {
   "cell_type": "code",
   "execution_count": 118,
   "source": [
    "# Position of bars on x-axis\n",
    "ind = np.array([0,1,2,3,4,5,6])\n",
    "\n",
    "ticks = ['None', 'Single', 'Double', 'Triple', 'Four', 'Five', 'Open']\n",
    "# Figure size\n",
    "plt.figure(figsize=(10,5))\n",
    "\n",
    "# Width of a bar \n",
    "width = 0.3       \n",
    "\n",
    "# Plotting\n",
    "plt.bar(ind, truth[0] , width,log = True, label='Truth')\n",
    "plt.bar(ind + width, observed[0], width,log = True, label='Observed')\n",
    "plt.legend()\n",
    "plt.xticks(ind,ticks)\n",
    "plt.show();\n",
    "\n"
   ],
   "outputs": [
    {
     "output_type": "display_data",
     "data": {
      "image/png": "[encoded data removed]",
      "text/plain": [
       "<Figure size 720x360 with 1 Axes>"
      ]
     },
     "metadata": {
      "needs_background": "light"
     }
    }
   ],
   "metadata": {}
  },
  {
   "cell_type": "code",
   "execution_count": 119,
   "source": [
    "def freq_histogram(truth, output):\n",
    "    true = np.histogram(truth, bins = np.arange(0,34))\n",
    "    observed = np.histogram(output, bins = np.arange(0,34))\n",
    "    # Position of bars on x-axis\n",
    "    ind = np.arange(0,33)\n",
    "\n",
    "    ticks = [str(val) for val in ind]\n",
    "    # Figure size\n",
    "    plt.figure(figsize=(10,5))\n",
    "\n",
    "    # Width of a bar \n",
    "    width = 0.3       \n",
    "\n",
    "    # Plotting\n",
    "    plt.bar(ind, true[0] , width,log = True, label='Truth')\n",
    "    plt.bar(ind + width, observed[0], width,log = True, label='Observed')\n",
    "\n",
    "    plt.xticks(ind + width / 2, ticks)\n",
    "    plt.legend()\n",
    "    plt.show();"
   ],
   "outputs": [],
   "metadata": {}
  },
  {
   "cell_type": "code",
   "execution_count": 120,
   "source": [
    "freq_histogram(notes_mod, notes_testmod)"
   ],
   "outputs": [
    {
     "output_type": "display_data",
     "data": {
      "image/png": "[encoded data removed]",
      "text/plain": [
       "<Figure size 720x360 with 1 Axes>"
      ]
     },
     "metadata": {
      "needs_background": "light"
     }
    }
   ],
   "metadata": {}
  },
  {
   "cell_type": "code",
   "execution_count": null,
   "source": [],
   "outputs": [],
   "metadata": {}
  }
 ],
 "metadata": {
  "orig_nbformat": 4,
  "language_info": {
   "name": "python",
   "version": "3.8.2",
   "mimetype": "text/x-python",
   "codemirror_mode": {
    "name": "ipython",
    "version": 3
   },
   "pygments_lexer": "ipython3",
   "nbconvert_exporter": "python",
   "file_extension": ".py"
  },
  "kernelspec": {
   "name": "python3",
   "display_name": "Python 3.8.2 64-bit ('venv': venv)"
  },
  "interpreter": {
   "hash": "66a8ecd173b39be6b8fd551c8ad5f80441cf0c632f3f288161437702985bca7b"
  }
 },
 "nbformat": 4,
 "nbformat_minor": 2
}