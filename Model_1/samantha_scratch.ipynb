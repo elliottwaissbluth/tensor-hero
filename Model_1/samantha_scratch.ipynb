{
 "cells": [
  {
   "cell_type": "code",
   "execution_count": 1,
   "source": [
    "import torch\n",
    "import torch.nn as nn\n",
    "import matplotlib.pyplot as plt\n",
    "import numpy as np\n",
    "import os\n"
   ],
   "outputs": [],
   "metadata": {}
  },
  {
   "cell_type": "code",
   "execution_count": 2,
   "source": [
    "import sys\n",
    "# sys.path.insert(1, str(Path().resolve().parent) + r'\\Shared_Functionality\\Preprocessing\\Preprocessing Functions')\n",
    "# sys.path.append('/Shared_Functionality/Preprocessing/Preprocessing Functions/')\n",
    "sys.path.insert(0, \"/Users/scarr/MIMS/tensor-hero/Shared_Functionality/Preprocessing/Preprocessing Functions/\")\n",
    "# Shared_Functionality/Preprocessing/Preprocessing Functions/audio_functions.py\n",
    "# /Users/scarr/MIMS/tensor-hero/Shared_Functionality/Preprocessing/Preprocessing Functions/audio_functions.py\n",
    "from audio_functions import compute_mel_spectrogram\n",
    "song_path = \"/Users/scarr/MIMS/files_tensorhero/Training Data/Unprocessed/Facelift Pack 2/Affiance - Call to the Warrior [Chezy]/song.ogg\"\n"
   ],
   "outputs": [],
   "metadata": {}
  },
  {
   "cell_type": "code",
   "execution_count": 4,
   "source": [
    "spec = compute_mel_spectrogram(song_path)"
   ],
   "outputs": [],
   "metadata": {}
  },
  {
   "cell_type": "code",
   "execution_count": 5,
   "source": [
    "spec.shape"
   ],
   "outputs": [
    {
     "output_type": "execute_result",
     "data": {
      "text/plain": [
       "(512, 26823)"
      ]
     },
     "metadata": {},
     "execution_count": 5
    }
   ],
   "metadata": {}
  },
  {
   "cell_type": "code",
   "execution_count": 23,
   "source": [
    "# spec_real\n",
    "# plt.plot(spec[0][:500])\n",
    "for i in range(0,143):\n",
    "    for j in spec[:,i]:\n",
    "        if j != -80:\n",
    "            print(i)\n",
    "spec[:,0]\n"
   ],
   "outputs": [
    {
     "output_type": "execute_result",
     "data": {
      "text/plain": [
       "array([-80., -80., -80., -80., -80., -80., -80., -80., -80., -80., -80.,\n",
       "       -80., -80., -80., -80., -80., -80., -80., -80., -80., -80., -80.,\n",
       "       -80., -80., -80., -80., -80., -80., -80., -80., -80., -80., -80.,\n",
       "       -80., -80., -80., -80., -80., -80., -80., -80., -80., -80., -80.,\n",
       "       -80., -80., -80., -80., -80., -80., -80., -80., -80., -80., -80.,\n",
       "       -80., -80., -80., -80., -80., -80., -80., -80., -80., -80., -80.,\n",
       "       -80., -80., -80., -80., -80., -80., -80., -80., -80., -80., -80.,\n",
       "       -80., -80., -80., -80., -80., -80., -80., -80., -80., -80., -80.,\n",
       "       -80., -80., -80., -80., -80., -80., -80., -80., -80., -80., -80.,\n",
       "       -80., -80., -80., -80., -80., -80., -80., -80., -80., -80., -80.,\n",
       "       -80., -80., -80., -80., -80., -80., -80., -80., -80., -80., -80.,\n",
       "       -80., -80., -80., -80., -80., -80., -80., -80., -80., -80., -80.,\n",
       "       -80., -80., -80., -80., -80., -80., -80., -80., -80., -80., -80.,\n",
       "       -80., -80., -80., -80., -80., -80., -80., -80., -80., -80., -80.,\n",
       "       -80., -80., -80., -80., -80., -80., -80., -80., -80., -80., -80.,\n",
       "       -80., -80., -80., -80., -80., -80., -80., -80., -80., -80., -80.,\n",
       "       -80., -80., -80., -80., -80., -80., -80., -80., -80., -80., -80.,\n",
       "       -80., -80., -80., -80., -80., -80., -80., -80., -80., -80., -80.,\n",
       "       -80., -80., -80., -80., -80., -80., -80., -80., -80., -80., -80.,\n",
       "       -80., -80., -80., -80., -80., -80., -80., -80., -80., -80., -80.,\n",
       "       -80., -80., -80., -80., -80., -80., -80., -80., -80., -80., -80.,\n",
       "       -80., -80., -80., -80., -80., -80., -80., -80., -80., -80., -80.,\n",
       "       -80., -80., -80., -80., -80., -80., -80., -80., -80., -80., -80.,\n",
       "       -80., -80., -80., -80., -80., -80., -80., -80., -80., -80., -80.,\n",
       "       -80., -80., -80., -80., -80., -80., -80., -80., -80., -80., -80.,\n",
       "       -80., -80., -80., -80., -80., -80., -80., -80., -80., -80., -80.,\n",
       "       -80., -80., -80., -80., -80., -80., -80., -80., -80., -80., -80.,\n",
       "       -80., -80., -80., -80., -80., -80., -80., -80., -80., -80., -80.,\n",
       "       -80., -80., -80., -80., -80., -80., -80., -80., -80., -80., -80.,\n",
       "       -80., -80., -80., -80., -80., -80., -80., -80., -80., -80., -80.,\n",
       "       -80., -80., -80., -80., -80., -80., -80., -80., -80., -80., -80.,\n",
       "       -80., -80., -80., -80., -80., -80., -80., -80., -80., -80., -80.,\n",
       "       -80., -80., -80., -80., -80., -80., -80., -80., -80., -80., -80.,\n",
       "       -80., -80., -80., -80., -80., -80., -80., -80., -80., -80., -80.,\n",
       "       -80., -80., -80., -80., -80., -80., -80., -80., -80., -80., -80.,\n",
       "       -80., -80., -80., -80., -80., -80., -80., -80., -80., -80., -80.,\n",
       "       -80., -80., -80., -80., -80., -80., -80., -80., -80., -80., -80.,\n",
       "       -80., -80., -80., -80., -80., -80., -80., -80., -80., -80., -80.,\n",
       "       -80., -80., -80., -80., -80., -80., -80., -80., -80., -80., -80.,\n",
       "       -80., -80., -80., -80., -80., -80., -80., -80., -80., -80., -80.,\n",
       "       -80., -80., -80., -80., -80., -80., -80., -80., -80., -80., -80.,\n",
       "       -80., -80., -80., -80., -80., -80., -80., -80., -80., -80., -80.,\n",
       "       -80., -80., -80., -80., -80., -80., -80., -80., -80., -80., -80.,\n",
       "       -80., -80., -80., -80., -80., -80., -80., -80., -80., -80., -80.,\n",
       "       -80., -80., -80., -80., -80., -80., -80., -80., -80., -80., -80.,\n",
       "       -80., -80., -80., -80., -80., -80., -80., -80., -80., -80., -80.,\n",
       "       -80., -80., -80., -80., -80., -80.], dtype=float32)"
      ]
     },
     "metadata": {},
     "execution_count": 23
    }
   ],
   "metadata": {}
  },
  {
   "cell_type": "code",
   "execution_count": 379,
   "source": [
    "path_new_notes = '../../files_tensorhero/Training Data/Processed/Facelift Pack 2/Stevie Ray Vaughan and Double Trouble - Texas Flood [xX760Xx]/notes.npy'\n",
    "notes = np.load((path_new_notes))\n"
   ],
   "outputs": [],
   "metadata": {}
  },
  {
   "cell_type": "code",
   "execution_count": 380,
   "source": [
    "print(notes[400:800])"
   ],
   "outputs": [
    {
     "output_type": "stream",
     "name": "stdout",
     "text": [
      "[  0.   0.   0.   0.   0.   0.   0.   0.   0. 197.   0.   0.   0.   0.\n",
      "   0.   0.   0.   0.  13.   0.   0.   0.   0.   0.   0.   0.   0.   0.\n",
      "   0.   0.   0.   0.   0.   0.   0.   0.   0.   0.   0.   0.   0.   0.\n",
      "   0.   0.   0.   0.   0.   0.   0.   0. 104.   0.   0.   0.   0.   0.\n",
      "   0.   0.   0.   0.   0.   0.   0.   0.   0.   0.   0.   0.   0.   0.\n",
      "   0.   0.   0.   0.   0.   0.   0.   0.   0.   0.   0.   0.   0.   0.\n",
      "   0.   0.   0.   0.   0.   0.   0.   0.   0.   0.   0.   0.   0.   0.\n",
      "   0.   0.   0.   0.   0.   0.   0.   0.   0. 197.   0.   0.   0.   0.\n",
      "   0.   0.   0.  96.   0.   0.   0.   0.   0.   0.   0.   0.   0.   0.\n",
      "   0.   0.   0.   0.   0.   0.   0.   0.   0.   0.   0.   0.   0. 189.\n",
      "   0.   0.   0.   0.   0.   0.   0. 219.   0.   0.   0.   0.   0.   0.\n",
      "   0.   0.   0.   0.   0.   0.   0.   0.   0.   0.   0.   0.   0.   0.\n",
      "   0.   0.   0.   0.   0.   0.   0.   0.   0.   0.   0.  12.   0.   0.\n",
      "   0.   0.   0.   0.   0.   0.   0.   0.   0.   0.   0.   0.   0.   0.\n",
      "   0.   0.   0.   0.   0.   0.   0.   0.   0.   0.   0.   0.   0.   0.\n",
      "   0.  12.   0.   0.   0.   0.   0.   0.   0.   0.   0.   0.   0.   0.\n",
      "   0.   0.   0.   0.   0.   0.   0.   0.   0.   0.   0.   0.   0.   0.\n",
      "   0.   0.   0.   0.  32.   0.   0.   0.   0.   0.   0.   0.   2.   0.\n",
      "   0.   0.   0.   0.   0.   0.   0.   0.   0.   0.   0.   0.   0.   0.\n",
      "   0.   0.   0.   0.   0.   0.   0.   0.   0.  34.   0.   0.   0.   0.\n",
      "   0.   0.   0.   0.   0.   0.   0.   0.   0.   0.   0.   0.   0.   0.\n",
      "   0.   0.   0.   0.   0.   0.   0.   0.   0.   0.   0.   0.   0.  35.\n",
      "   0.   0.   0.   0.   0.   0.   0.   0.   0.   0.   0.   0.   0.   0.\n",
      "   0.   0.   0.   0.   0.   0.   0.   0.   0.   0.   0.   0.   0.   0.\n",
      "   0.   0.   0.   0.   0.   0.   0.   0.   0.   0.   0.   0. 137.   0.\n",
      "   0.   0.   0.   0.   0.   0.   0.   0.   0.   0.   0.   0.   0.   0.\n",
      "   0.   0.   0.   0.   0.   0.   0.   0.   0.   0.   0.   0.   0.   0.\n",
      "   0.   0.   0.   0.   0.   0.   0.   0.   0.   0.   0.   0.   0.   0.\n",
      "   0.   0.   0. 199.   0.   0.   0.   0.]\n"
     ]
    }
   ],
   "metadata": {}
  },
  {
   "cell_type": "code",
   "execution_count": 381,
   "source": [
    "for i in range(0,len(notes)):\n",
    "    if notes[i] in [31.62,93,124,155,186,217]:\n",
    "        notes[i] = 31\n",
    "array_mod = notes % 31\n",
    "\n"
   ],
   "outputs": [
    {
     "output_type": "stream",
     "name": "stdout",
     "text": [
      "[0. 0. 0. ... 0. 0. 0.]\n"
     ]
    }
   ],
   "metadata": {}
  },
  {
   "cell_type": "code",
   "execution_count": 386,
   "source": [
    "small = array_mod[800:1200]\n",
    "small = small.astype(int)\n",
    "print(small)"
   ],
   "outputs": [
    {
     "output_type": "stream",
     "name": "stdout",
     "text": [
      "[ 0  0  0 14  0  0  0  0  0  0  0  0  0  0  0  0  0  0  0  0  0  0  0  0\n",
      "  0  0  0  0  0  0  0  0  0  0 13  0  0  0  0  0  0  0  0  0  0  0  0  0\n",
      "  0  0  0  0  0  0  0  0  0  0  0  0  0  0  0  0  0  0  0  0  0  0  0  0\n",
      "  0  0  0  0  0  0  0  0  0  0  0  0  0  0  0  0  0  0  0 13  0  0  0  0\n",
      "  0  0  0  3  0  0  0  0  0  0  0  0  0  0  0  0  0  0  0  0  0  0  0  0\n",
      "  0  0  0  0  0  0  0  0  0  3  0  1  0  0  0  0  0  0  0  0  0  0  0  0\n",
      "  0  0  0  0  0  0  0  0  0  0  0  0  0  0  0  0  0  0  0 25  0  0  0  0\n",
      "  0  0  0  0  0  0  0  0  0  0  0  0  0  0  0  0  0  0  0  0  0  0  0  0\n",
      "  0  0 25  0  0  0  0  0  0  0  0  0  0  0  0  0  0  0  0  0  0  0  0  0\n",
      "  0  0  0  0  0  0  0  0  0  0 25  0  0  0  0  0  0  0  0  0  0  0  0  0\n",
      "  0  0  0  0  0  0  0  0  0  0  0  0  0  0  0  0  0  0  0 25  0  0  0  0\n",
      "  0  0  0  0  0  0  0  0  0  0  0  0  0  0  0  0  0  0  0  0 25  0  0  0\n",
      "  0  0  0  0 25  0  0  0  0  0  0  0  0  0  0  0  0  0  0  0  0  0  0  0\n",
      "  0  0  0  0  0  0  0  0  0  0  0  0  1  0  0  0  0  0  0  0  0  0  0  0\n",
      "  0  0  0  0  2  0  0  0  0  0  0  0  0  0  0  0  0  0  0  0  3  0  0  0\n",
      "  0  0  0  0  0  0  0  0  0  0  0  0  2  0  0  0  0  0  0  0  0  0  0  0\n",
      "  0  0  0  0  0  1  0  0  0  0  0  0  0  0  0  0]\n"
     ]
    }
   ],
   "metadata": {}
  },
  {
   "cell_type": "code",
   "execution_count": 390,
   "source": [
    "nb_classes = 32\n",
    "targets = np.array([small]).reshape(-1)\n",
    "one_hot_targets = np.eye(nb_classes)[targets]\n",
    "mat = one_hot_targets.T\n",
    "mat[14]"
   ],
   "outputs": [
    {
     "output_type": "execute_result",
     "data": {
      "text/plain": [
       "array([0., 0., 0., 1., 0., 0., 0., 0., 0., 0., 0., 0., 0., 0., 0., 0., 0.,\n",
       "       0., 0., 0., 0., 0., 0., 0., 0., 0., 0., 0., 0., 0., 0., 0., 0., 0.,\n",
       "       0., 0., 0., 0., 0., 0., 0., 0., 0., 0., 0., 0., 0., 0., 0., 0., 0.,\n",
       "       0., 0., 0., 0., 0., 0., 0., 0., 0., 0., 0., 0., 0., 0., 0., 0., 0.,\n",
       "       0., 0., 0., 0., 0., 0., 0., 0., 0., 0., 0., 0., 0., 0., 0., 0., 0.,\n",
       "       0., 0., 0., 0., 0., 0., 0., 0., 0., 0., 0., 0., 0., 0., 0., 0., 0.,\n",
       "       0., 0., 0., 0., 0., 0., 0., 0., 0., 0., 0., 0., 0., 0., 0., 0., 0.,\n",
       "       0., 0., 0., 0., 0., 0., 0., 0., 0., 0., 0., 0., 0., 0., 0., 0., 0.,\n",
       "       0., 0., 0., 0., 0., 0., 0., 0., 0., 0., 0., 0., 0., 0., 0., 0., 0.,\n",
       "       0., 0., 0., 0., 0., 0., 0., 0., 0., 0., 0., 0., 0., 0., 0., 0., 0.,\n",
       "       0., 0., 0., 0., 0., 0., 0., 0., 0., 0., 0., 0., 0., 0., 0., 0., 0.,\n",
       "       0., 0., 0., 0., 0., 0., 0., 0., 0., 0., 0., 0., 0., 0., 0., 0., 0.,\n",
       "       0., 0., 0., 0., 0., 0., 0., 0., 0., 0., 0., 0., 0., 0., 0., 0., 0.,\n",
       "       0., 0., 0., 0., 0., 0., 0., 0., 0., 0., 0., 0., 0., 0., 0., 0., 0.,\n",
       "       0., 0., 0., 0., 0., 0., 0., 0., 0., 0., 0., 0., 0., 0., 0., 0., 0.,\n",
       "       0., 0., 0., 0., 0., 0., 0., 0., 0., 0., 0., 0., 0., 0., 0., 0., 0.,\n",
       "       0., 0., 0., 0., 0., 0., 0., 0., 0., 0., 0., 0., 0., 0., 0., 0., 0.,\n",
       "       0., 0., 0., 0., 0., 0., 0., 0., 0., 0., 0., 0., 0., 0., 0., 0., 0.,\n",
       "       0., 0., 0., 0., 0., 0., 0., 0., 0., 0., 0., 0., 0., 0., 0., 0., 0.,\n",
       "       0., 0., 0., 0., 0., 0., 0., 0., 0., 0., 0., 0., 0., 0., 0., 0., 0.,\n",
       "       0., 0., 0., 0., 0., 0., 0., 0., 0., 0., 0., 0., 0., 0., 0., 0., 0.,\n",
       "       0., 0., 0., 0., 0., 0., 0., 0., 0., 0., 0., 0., 0., 0., 0., 0., 0.,\n",
       "       0., 0., 0., 0., 0., 0., 0., 0., 0., 0., 0., 0., 0., 0., 0., 0., 0.,\n",
       "       0., 0., 0., 0., 0., 0., 0., 0., 0.])"
      ]
     },
     "metadata": {},
     "execution_count": 390
    }
   ],
   "metadata": {}
  },
  {
   "cell_type": "code",
   "execution_count": 360,
   "source": [
    "mat.shape"
   ],
   "outputs": [
    {
     "output_type": "execute_result",
     "data": {
      "text/plain": [
       "(32, 400)"
      ]
     },
     "metadata": {},
     "execution_count": 360
    }
   ],
   "metadata": {}
  },
  {
   "cell_type": "code",
   "execution_count": 391,
   "source": [
    "\n",
    "def make_time_and_note_array(matrix):\n",
    "    rotate = matrix.T.astype(int)\n",
    "    output = []\n",
    "    for i in range(0,rotate.shape[0]):\n",
    "        time = np.zeros(400).astype(int)\n",
    "        time[i] = 1\n",
    "        new = np.concatenate((time,rotate[i]))\n",
    "        output.append(new)\n",
    "    output = np.array(output)\n",
    "    return output\n",
    "\n"
   ],
   "outputs": [],
   "metadata": {}
  },
  {
   "cell_type": "code",
   "execution_count": 403,
   "source": [
    "x = make_time_and_note_array(mat)\n",
    "x[:,400:].shape\n",
    "trans = x[:,400:].T\n",
    "trans.shape\n",
    "\n",
    "# nb_classes = 31\n",
    "# targets = np.array([small]).reshape(-1)\n",
    "# one_hot_targets = np.eye(nb_classes)[targets]\n",
    "# mat = one_hot_targets.T\n",
    "\n",
    "a = [trans[i] * i for i in range(0,len(trans))]\n",
    "a = np.array(a)\n"
   ],
   "outputs": [],
   "metadata": {}
  },
  {
   "cell_type": "code",
   "execution_count": 405,
   "source": [
    "b = a.sum(axis = 0)\n",
    "b == small"
   ],
   "outputs": [
    {
     "output_type": "execute_result",
     "data": {
      "text/plain": [
       "array([ True,  True,  True,  True,  True,  True,  True,  True,  True,\n",
       "        True,  True,  True,  True,  True,  True,  True,  True,  True,\n",
       "        True,  True,  True,  True,  True,  True,  True,  True,  True,\n",
       "        True,  True,  True,  True,  True,  True,  True,  True,  True,\n",
       "        True,  True,  True,  True,  True,  True,  True,  True,  True,\n",
       "        True,  True,  True,  True,  True,  True,  True,  True,  True,\n",
       "        True,  True,  True,  True,  True,  True,  True,  True,  True,\n",
       "        True,  True,  True,  True,  True,  True,  True,  True,  True,\n",
       "        True,  True,  True,  True,  True,  True,  True,  True,  True,\n",
       "        True,  True,  True,  True,  True,  True,  True,  True,  True,\n",
       "        True,  True,  True,  True,  True,  True,  True,  True,  True,\n",
       "        True,  True,  True,  True,  True,  True,  True,  True,  True,\n",
       "        True,  True,  True,  True,  True,  True,  True,  True,  True,\n",
       "        True,  True,  True,  True,  True,  True,  True,  True,  True,\n",
       "        True,  True,  True,  True,  True,  True,  True,  True,  True,\n",
       "        True,  True,  True,  True,  True,  True,  True,  True,  True,\n",
       "        True,  True,  True,  True,  True,  True,  True,  True,  True,\n",
       "        True,  True,  True,  True,  True,  True,  True,  True,  True,\n",
       "        True,  True,  True,  True,  True,  True,  True,  True,  True,\n",
       "        True,  True,  True,  True,  True,  True,  True,  True,  True,\n",
       "        True,  True,  True,  True,  True,  True,  True,  True,  True,\n",
       "        True,  True,  True,  True,  True,  True,  True,  True,  True,\n",
       "        True,  True,  True,  True,  True,  True,  True,  True,  True,\n",
       "        True,  True,  True,  True,  True,  True,  True,  True,  True,\n",
       "        True,  True,  True,  True,  True,  True,  True,  True,  True,\n",
       "        True,  True,  True,  True,  True,  True,  True,  True,  True,\n",
       "        True,  True,  True,  True,  True,  True,  True,  True,  True,\n",
       "        True,  True,  True,  True,  True,  True,  True,  True,  True,\n",
       "        True,  True,  True,  True,  True,  True,  True,  True,  True,\n",
       "        True,  True,  True,  True,  True,  True,  True,  True,  True,\n",
       "        True,  True,  True,  True,  True,  True,  True,  True,  True,\n",
       "        True,  True,  True,  True,  True,  True,  True,  True,  True,\n",
       "        True,  True,  True,  True,  True,  True,  True,  True,  True,\n",
       "        True,  True,  True,  True,  True,  True,  True,  True,  True,\n",
       "        True,  True,  True,  True,  True,  True,  True,  True,  True,\n",
       "        True,  True,  True,  True,  True,  True,  True,  True,  True,\n",
       "        True,  True,  True,  True,  True,  True,  True,  True,  True,\n",
       "        True,  True,  True,  True,  True,  True,  True,  True,  True,\n",
       "        True,  True,  True,  True,  True,  True,  True,  True,  True,\n",
       "        True,  True,  True,  True,  True,  True,  True,  True,  True,\n",
       "        True,  True,  True,  True,  True,  True,  True,  True,  True,\n",
       "        True,  True,  True,  True,  True,  True,  True,  True,  True,\n",
       "        True,  True,  True,  True,  True,  True,  True,  True,  True,\n",
       "        True,  True,  True,  True,  True,  True,  True,  True,  True,\n",
       "        True,  True,  True,  True])"
      ]
     },
     "metadata": {},
     "execution_count": 405
    }
   ],
   "metadata": {}
  },
  {
   "cell_type": "code",
   "execution_count": 20,
   "source": [
    "from torchtext.legacy.data import Field\n",
    "from torchtext.datasets import Multi30k\n",
    "\n"
   ],
   "outputs": [],
   "metadata": {}
  },
  {
   "cell_type": "code",
   "execution_count": 10,
   "source": [
    "def tokenize_eng(text):\n",
    "    return [tok.text for tok in spacy_eng.tokenizer(text)]\n",
    "english = Field(\n",
    "    tokenize=tokenize_eng, lower=True, init_token=\"<sos>\", eos_token=\"<eos>\"\n",
    ")"
   ],
   "outputs": [],
   "metadata": {}
  },
  {
   "cell_type": "code",
   "execution_count": 18,
   "source": [
    "train_data, valid_data, test_data = Multi30k.splits(\n",
    "    exts=(\".en\"), fields=(english)\n",
    ")\n",
    "english.build_vocab(train_data, max_size=10000, min_freq=2)"
   ],
   "outputs": [
    {
     "output_type": "error",
     "ename": "AttributeError",
     "evalue": "'function' object has no attribute 'splits'",
     "traceback": [
      "\u001b[0;31m---------------------------------------------------------------------------\u001b[0m",
      "\u001b[0;31mAttributeError\u001b[0m                            Traceback (most recent call last)",
      "\u001b[0;32m/var/folders/qn/__y1rbdj3t7blhddlhxzylx80000gn/T/ipykernel_75597/2504369617.py\u001b[0m in \u001b[0;36m<module>\u001b[0;34m\u001b[0m\n\u001b[0;32m----> 1\u001b[0;31m train_data, valid_data, test_data = Multi30k.splits(\n\u001b[0m\u001b[1;32m      2\u001b[0m     \u001b[0mexts\u001b[0m\u001b[0;34m=\u001b[0m\u001b[0;34m(\u001b[0m\u001b[0;34m\".en\"\u001b[0m\u001b[0;34m)\u001b[0m\u001b[0;34m,\u001b[0m \u001b[0mfields\u001b[0m\u001b[0;34m=\u001b[0m\u001b[0;34m(\u001b[0m\u001b[0menglish\u001b[0m\u001b[0;34m)\u001b[0m\u001b[0;34m\u001b[0m\u001b[0;34m\u001b[0m\u001b[0m\n\u001b[1;32m      3\u001b[0m )\n\u001b[1;32m      4\u001b[0m \u001b[0menglish\u001b[0m\u001b[0;34m.\u001b[0m\u001b[0mbuild_vocab\u001b[0m\u001b[0;34m(\u001b[0m\u001b[0mtrain_data\u001b[0m\u001b[0;34m,\u001b[0m \u001b[0mmax_size\u001b[0m\u001b[0;34m=\u001b[0m\u001b[0;36m10000\u001b[0m\u001b[0;34m,\u001b[0m \u001b[0mmin_freq\u001b[0m\u001b[0;34m=\u001b[0m\u001b[0;36m2\u001b[0m\u001b[0;34m)\u001b[0m\u001b[0;34m\u001b[0m\u001b[0;34m\u001b[0m\u001b[0m\n",
      "\u001b[0;31mAttributeError\u001b[0m: 'function' object has no attribute 'splits'"
     ]
    }
   ],
   "metadata": {}
  },
  {
   "cell_type": "code",
   "execution_count": null,
   "source": [],
   "outputs": [],
   "metadata": {}
  }
 ],
 "metadata": {
  "orig_nbformat": 4,
  "language_info": {
   "name": "python",
   "version": "3.9.2",
   "mimetype": "text/x-python",
   "codemirror_mode": {
    "name": "ipython",
    "version": 3
   },
   "pygments_lexer": "ipython3",
   "nbconvert_exporter": "python",
   "file_extension": ".py"
  },
  "kernelspec": {
   "name": "python3",
   "display_name": "Python 3.9.2 64-bit"
  },
  "interpreter": {
   "hash": "aee8b7b246df8f9039afb4144a1f6fd8d2ca17a180786b69acc140d282b71a49"
  }
 },
 "nbformat": 4,
 "nbformat_minor": 2
}