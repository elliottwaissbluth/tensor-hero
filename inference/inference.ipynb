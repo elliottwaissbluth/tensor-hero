{
 "cells": [
  {
   "cell_type": "code",
   "execution_count": null,
   "metadata": {},
   "outputs": [],
   "source": [
    "import pickle\n",
    "import sys\n",
    "import json\n",
    "from pathlib import Path\n",
    "sys.path.insert(1, str(Path.cwd().parent))\n",
    "from tensor_hero.model import Transformer\n",
    "from tensor_hero.inference import full_song_prediction\n",
    "import torch\n",
    "import os\n",
    "\n",
    "source_song = Path.cwd().parent / 'example_song'\n",
    "model_to_load = 'model13'\n",
    "name_of_song = 'model13 - Ouray'\n",
    "outfolder = Path.cwd() / 'generated_songs' / name_of_song\n",
    "assert not os.path.isdir(outfolder), 'ERROR: Song already exists, enter new name'\n",
    "os.mkdir(outfolder)\n",
    "audio_file = source_song / 'separated.ogg'\n",
    "\n",
    "# First, let's load the model's parameters and define a Transformer model with them\n",
    "# Let's take a look at these parameters, they're stored in a dictionary\n",
    "\n",
    "model_path = Path.cwd().parent / 'model' / 'saved_models_backup' / model_to_load\n",
    "with open(model_path / 'params.pkl', 'rb') as f:\n",
    "    params = pickle.load(f)\n",
    "print(json.dumps(params, indent=4))\n",
    "\n",
    "# We use these parameters to define the skeleton of the model, then load the weights into it\n",
    "device = 'cuda' if torch.cuda.is_available() else 'cpu'\n",
    "print(f'device = {device}')\n",
    "\n",
    "# Model hyperparameters are derived from the params dictionary\n",
    "trg_vocab_size = params['trg_vocab_size']\n",
    "embedding_size = params['embedding_size']\n",
    "num_heads = params['num_heads']\n",
    "num_encoder_layers = params['num_encoder_layers']\n",
    "num_decoder_layers = params['num_decoder_layers']\n",
    "dropout = params['dropout']\n",
    "max_len = params['max_trg_len']\n",
    "forward_expansion = params['embedding_size']*params['forward_expansion']\n",
    "\n",
    "model = Transformer(\n",
    "    embedding_size,\n",
    "    trg_vocab_size,\n",
    "    num_heads,\n",
    "    num_encoder_layers,\n",
    "    num_decoder_layers,\n",
    "    forward_expansion,\n",
    "    dropout,\n",
    "    max_len,\n",
    "    device,\n",
    ").to(device)  # Always send the model to the GPU\n",
    "\n",
    "# Load the weights into the model\n",
    "model.load_state_dict(torch.load(model_path / (str(model_to_load)+'.pt'), map_location=device))\n",
    "\n",
    "print(model)\n",
    "\n",
    "\n",
    "# We have to define some things for the .chart file so it's actually playable\n",
    "# just some dummy metadata for now\n",
    "song_metadata = {'Name' : name_of_song,\n",
    "                'Artist' : 'Forrest',       # Forrest is the honorary author of all of our output\n",
    "                'Charter' : 'tensorhero',\n",
    "                'Offset' : 0,\n",
    "                'Resolution' : 192,\n",
    "                'Genre' : 'electronic',\n",
    "                'MediaType' : 'cd',\n",
    "                'MusicStream' : 'song.ogg'}\n",
    "\n",
    "_, raw_output = full_song_prediction(song_path = audio_file,\n",
    "                         model=model,\n",
    "                         device=device,\n",
    "                         sos_idx=432,\n",
    "                         max_len=500,\n",
    "                         song_metadata=song_metadata,\n",
    "                         outfolder=outfolder,\n",
    "                         RETURN_RAW_OUTPUT=True)"
   ]
  },
  {
   "cell_type": "code",
   "execution_count": 11,
   "metadata": {},
   "outputs": [
    {
     "name": "stdout",
     "output_type": "stream",
     "text": [
      "tensor([[433]])\n"
     ]
    },
    {
     "ename": "NameError",
     "evalue": "name 'output' is not defined",
     "output_type": "error",
     "traceback": [
      "\u001b[0;31m---------------------------------------------------------------------------\u001b[0m",
      "\u001b[0;31mNameError\u001b[0m                                 Traceback (most recent call last)",
      "\u001b[0;32m/var/folders/bw/hxvf80f91fl0nsn__wdv81400000gr/T/ipykernel_33652/274930348.py\u001b[0m in \u001b[0;36m<module>\u001b[0;34m\u001b[0m\n\u001b[1;32m      5\u001b[0m \u001b[0;34m\u001b[0m\u001b[0m\n\u001b[1;32m      6\u001b[0m \u001b[0;34m\u001b[0m\u001b[0m\n\u001b[0;32m----> 7\u001b[0;31m \u001b[0mnotes_array\u001b[0m \u001b[0;34m=\u001b[0m \u001b[0mtransformer_output_to_notes_array\u001b[0m\u001b[0;34m(\u001b[0m\u001b[0moutput\u001b[0m\u001b[0;34m)\u001b[0m\u001b[0;34m\u001b[0m\u001b[0;34m\u001b[0m\u001b[0m\n\u001b[0m\u001b[1;32m      8\u001b[0m \u001b[0mprint\u001b[0m\u001b[0;34m(\u001b[0m\u001b[0mnotes_array\u001b[0m\u001b[0;34m)\u001b[0m\u001b[0;34m\u001b[0m\u001b[0;34m\u001b[0m\u001b[0m\n",
      "\u001b[0;31mNameError\u001b[0m: name 'output' is not defined"
     ]
    }
   ],
   "source": []
  }
 ],
 "metadata": {
  "interpreter": {
   "hash": "aee8b7b246df8f9039afb4144a1f6fd8d2ca17a180786b69acc140d282b71a49"
  },
  "kernelspec": {
   "display_name": "Python 3.9.6 64-bit",
   "name": "python3"
  },
  "language_info": {
   "codemirror_mode": {
    "name": "ipython",
    "version": 3
   },
   "file_extension": ".py",
   "mimetype": "text/x-python",
   "name": "python",
   "nbconvert_exporter": "python",
   "pygments_lexer": "ipython3",
   "version": "3.8.6"
  },
  "orig_nbformat": 4
 },
 "nbformat": 4,
 "nbformat_minor": 2
}
