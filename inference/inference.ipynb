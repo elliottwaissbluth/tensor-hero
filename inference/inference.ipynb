{
 "cells": [
  {
   "cell_type": "code",
   "execution_count": 1,
   "metadata": {},
   "outputs": [
    {
     "name": "stdout",
     "output_type": "stream",
     "text": [
      "{\n",
      "    \"training_data\": \"train separated\",\n",
      "    \"model_name\": \"model13\",\n",
      "    \"optimizer\": \"Adam\",\n",
      "    \"train_path\": \"X:\\\\Training Data\\\\Model 1 Training Separated\\\\train\",\n",
      "    \"num_epochs\": 500,\n",
      "    \"batch_size\": 12,\n",
      "    \"shuffle\": true,\n",
      "    \"num_workers\": 4,\n",
      "    \"drop_last\": true,\n",
      "    \"last_global_step\": 1490580,\n",
      "    \"max_trg_len\": 500,\n",
      "    \"max_src_len\": 500,\n",
      "    \"trg_vocab_size\": 435,\n",
      "    \"pad_idx\": 434,\n",
      "    \"embedding_size\": 512,\n",
      "    \"lr\": 0.0001,\n",
      "    \"num_heads\": 8,\n",
      "    \"num_encoder_layers\": 2,\n",
      "    \"num_decoder_layers\": 2,\n",
      "    \"dropout\": 0.1,\n",
      "    \"forward_expansion\": 4,\n",
      "    \"date\": \"27/01/2022 20:36:21\",\n",
      "    \"LOAD\": true,\n",
      "    \"model_file_name\": \"model13.pt\",\n",
      "    \"model_outfile\": \"C:\\\\Users\\\\ewais\\\\Documents\\\\GitHub\\\\tensor-hero\\\\model\\\\saved_models\\\\model13\\\\model13.pt\",\n",
      "    \"experiment_description\": \"Just getting a better model trained for experimentation\"\n",
      "}\n",
      "device = cuda\n",
      "Transformer(\n",
      "  (src_position_embedding): Embedding(500, 512)\n",
      "  (trg_position_embedding): Embedding(500, 512)\n",
      "  (trg_word_embedding): Embedding(435, 512)\n",
      "  (src_spec_embedding): InputEmbedding(\n",
      "    (linear): Sequential(\n",
      "      (0): Linear(in_features=512, out_features=512, bias=True)\n",
      "      (1): Sigmoid()\n",
      "    )\n",
      "  )\n",
      "  (transformer): Transformer(\n",
      "    (encoder): TransformerEncoder(\n",
      "      (layers): ModuleList(\n",
      "        (0): TransformerEncoderLayer(\n",
      "          (self_attn): MultiheadAttention(\n",
      "            (out_proj): NonDynamicallyQuantizableLinear(in_features=512, out_features=512, bias=True)\n",
      "          )\n",
      "          (linear1): Linear(in_features=512, out_features=2048, bias=True)\n",
      "          (dropout): Dropout(p=0.1, inplace=False)\n",
      "          (linear2): Linear(in_features=2048, out_features=512, bias=True)\n",
      "          (norm1): LayerNorm((512,), eps=1e-05, elementwise_affine=True)\n",
      "          (norm2): LayerNorm((512,), eps=1e-05, elementwise_affine=True)\n",
      "          (dropout1): Dropout(p=0.1, inplace=False)\n",
      "          (dropout2): Dropout(p=0.1, inplace=False)\n",
      "        )\n",
      "        (1): TransformerEncoderLayer(\n",
      "          (self_attn): MultiheadAttention(\n",
      "            (out_proj): NonDynamicallyQuantizableLinear(in_features=512, out_features=512, bias=True)\n",
      "          )\n",
      "          (linear1): Linear(in_features=512, out_features=2048, bias=True)\n",
      "          (dropout): Dropout(p=0.1, inplace=False)\n",
      "          (linear2): Linear(in_features=2048, out_features=512, bias=True)\n",
      "          (norm1): LayerNorm((512,), eps=1e-05, elementwise_affine=True)\n",
      "          (norm2): LayerNorm((512,), eps=1e-05, elementwise_affine=True)\n",
      "          (dropout1): Dropout(p=0.1, inplace=False)\n",
      "          (dropout2): Dropout(p=0.1, inplace=False)\n",
      "        )\n",
      "      )\n",
      "      (norm): LayerNorm((512,), eps=1e-05, elementwise_affine=True)\n",
      "    )\n",
      "    (decoder): TransformerDecoder(\n",
      "      (layers): ModuleList(\n",
      "        (0): TransformerDecoderLayer(\n",
      "          (self_attn): MultiheadAttention(\n",
      "            (out_proj): NonDynamicallyQuantizableLinear(in_features=512, out_features=512, bias=True)\n",
      "          )\n",
      "          (multihead_attn): MultiheadAttention(\n",
      "            (out_proj): NonDynamicallyQuantizableLinear(in_features=512, out_features=512, bias=True)\n",
      "          )\n",
      "          (linear1): Linear(in_features=512, out_features=2048, bias=True)\n",
      "          (dropout): Dropout(p=0.1, inplace=False)\n",
      "          (linear2): Linear(in_features=2048, out_features=512, bias=True)\n",
      "          (norm1): LayerNorm((512,), eps=1e-05, elementwise_affine=True)\n",
      "          (norm2): LayerNorm((512,), eps=1e-05, elementwise_affine=True)\n",
      "          (norm3): LayerNorm((512,), eps=1e-05, elementwise_affine=True)\n",
      "          (dropout1): Dropout(p=0.1, inplace=False)\n",
      "          (dropout2): Dropout(p=0.1, inplace=False)\n",
      "          (dropout3): Dropout(p=0.1, inplace=False)\n",
      "        )\n",
      "        (1): TransformerDecoderLayer(\n",
      "          (self_attn): MultiheadAttention(\n",
      "            (out_proj): NonDynamicallyQuantizableLinear(in_features=512, out_features=512, bias=True)\n",
      "          )\n",
      "          (multihead_attn): MultiheadAttention(\n",
      "            (out_proj): NonDynamicallyQuantizableLinear(in_features=512, out_features=512, bias=True)\n",
      "          )\n",
      "          (linear1): Linear(in_features=512, out_features=2048, bias=True)\n",
      "          (dropout): Dropout(p=0.1, inplace=False)\n",
      "          (linear2): Linear(in_features=2048, out_features=512, bias=True)\n",
      "          (norm1): LayerNorm((512,), eps=1e-05, elementwise_affine=True)\n",
      "          (norm2): LayerNorm((512,), eps=1e-05, elementwise_affine=True)\n",
      "          (norm3): LayerNorm((512,), eps=1e-05, elementwise_affine=True)\n",
      "          (dropout1): Dropout(p=0.1, inplace=False)\n",
      "          (dropout2): Dropout(p=0.1, inplace=False)\n",
      "          (dropout3): Dropout(p=0.1, inplace=False)\n",
      "        )\n",
      "      )\n",
      "      (norm): LayerNorm((512,), eps=1e-05, elementwise_affine=True)\n",
      "    )\n",
      "  )\n",
      "  (fc_out): Linear(in_features=512, out_features=435, bias=True)\n",
      "  (dropout): Dropout(p=0.1, inplace=False)\n",
      ")\n"
     ]
    },
    {
     "name": "stderr",
     "output_type": "stream",
     "text": [
      "  0%|          | 0/500 [00:00<?, ?it/s]"
     ]
    },
    {
     "name": "stdout",
     "output_type": "stream",
     "text": [
      "predicting segment 0/35\n"
     ]
    },
    {
     "name": "stderr",
     "output_type": "stream",
     "text": [
      "  0%|          | 0/500 [00:01<?, ?it/s]\n",
      "  1%|          | 3/500 [00:00<00:19, 25.64it/s]"
     ]
    },
    {
     "name": "stdout",
     "output_type": "stream",
     "text": [
      "predicting segment 1/35\n"
     ]
    },
    {
     "name": "stderr",
     "output_type": "stream",
     "text": [
      "  9%|▉         | 46/500 [00:01<00:17, 25.66it/s]\n",
      "  1%|          | 3/500 [00:00<00:19, 25.86it/s]"
     ]
    },
    {
     "name": "stdout",
     "output_type": "stream",
     "text": [
      "predicting segment 2/35\n"
     ]
    },
    {
     "name": "stderr",
     "output_type": "stream",
     "text": [
      " 10%|█         | 50/500 [00:01<00:17, 26.18it/s]\n",
      "  1%|          | 3/500 [00:00<00:17, 28.57it/s]"
     ]
    },
    {
     "name": "stdout",
     "output_type": "stream",
     "text": [
      "predicting segment 3/35\n"
     ]
    },
    {
     "name": "stderr",
     "output_type": "stream",
     "text": [
      "  2%|▏         | 10/500 [00:00<00:19, 25.06it/s]\n",
      "  1%|          | 3/500 [00:00<00:17, 27.78it/s]"
     ]
    },
    {
     "name": "stdout",
     "output_type": "stream",
     "text": [
      "predicting segment 4/35\n"
     ]
    },
    {
     "name": "stderr",
     "output_type": "stream",
     "text": [
      " 10%|█         | 50/500 [00:01<00:17, 26.34it/s]\n",
      "  1%|          | 3/500 [00:00<00:17, 28.04it/s]"
     ]
    },
    {
     "name": "stdout",
     "output_type": "stream",
     "text": [
      "predicting segment 5/35\n"
     ]
    },
    {
     "name": "stderr",
     "output_type": "stream",
     "text": [
      " 11%|█         | 56/500 [00:02<00:16, 26.13it/s]\n",
      "  1%|          | 3/500 [00:00<00:17, 28.04it/s]"
     ]
    },
    {
     "name": "stdout",
     "output_type": "stream",
     "text": [
      "predicting segment 6/35\n"
     ]
    },
    {
     "name": "stderr",
     "output_type": "stream",
     "text": [
      "  9%|▉         | 46/500 [00:01<00:17, 26.51it/s]\n",
      "  1%|          | 3/500 [00:00<00:19, 25.86it/s]"
     ]
    },
    {
     "name": "stdout",
     "output_type": "stream",
     "text": [
      "predicting segment 7/35\n"
     ]
    },
    {
     "name": "stderr",
     "output_type": "stream",
     "text": [
      " 10%|█         | 52/500 [00:01<00:17, 26.05it/s]\n",
      "  1%|          | 3/500 [00:00<00:19, 25.64it/s]"
     ]
    },
    {
     "name": "stdout",
     "output_type": "stream",
     "text": [
      "predicting segment 8/35\n"
     ]
    },
    {
     "name": "stderr",
     "output_type": "stream",
     "text": [
      " 12%|█▏        | 58/500 [00:02<00:16, 26.17it/s]\n",
      "  1%|          | 3/500 [00:00<00:17, 28.57it/s]"
     ]
    },
    {
     "name": "stdout",
     "output_type": "stream",
     "text": [
      "predicting segment 9/35\n"
     ]
    },
    {
     "name": "stderr",
     "output_type": "stream",
     "text": [
      "  7%|▋         | 36/500 [00:01<00:17, 26.34it/s]\n",
      "  1%|          | 3/500 [00:00<00:19, 25.00it/s]"
     ]
    },
    {
     "name": "stdout",
     "output_type": "stream",
     "text": [
      "predicting segment 10/35\n"
     ]
    },
    {
     "name": "stderr",
     "output_type": "stream",
     "text": [
      " 11%|█         | 54/500 [00:02<00:18, 23.89it/s]\n",
      "  1%|          | 3/500 [00:00<00:22, 22.22it/s]"
     ]
    },
    {
     "name": "stdout",
     "output_type": "stream",
     "text": [
      "predicting segment 11/35\n"
     ]
    },
    {
     "name": "stderr",
     "output_type": "stream",
     "text": [
      "  9%|▉         | 46/500 [00:01<00:19, 23.78it/s]\n",
      "  1%|          | 3/500 [00:00<00:19, 25.00it/s]"
     ]
    },
    {
     "name": "stdout",
     "output_type": "stream",
     "text": [
      "predicting segment 12/35\n"
     ]
    },
    {
     "name": "stderr",
     "output_type": "stream",
     "text": [
      " 10%|█         | 52/500 [00:02<00:17, 25.05it/s]\n",
      "  1%|          | 3/500 [00:00<00:19, 25.21it/s]"
     ]
    },
    {
     "name": "stdout",
     "output_type": "stream",
     "text": [
      "predicting segment 13/35\n"
     ]
    },
    {
     "name": "stderr",
     "output_type": "stream",
     "text": [
      " 13%|█▎        | 64/500 [00:02<00:17, 24.22it/s]\n",
      "  1%|          | 3/500 [00:00<00:20, 24.39it/s]"
     ]
    },
    {
     "name": "stdout",
     "output_type": "stream",
     "text": [
      "predicting segment 14/35\n"
     ]
    },
    {
     "name": "stderr",
     "output_type": "stream",
     "text": [
      " 10%|█         | 50/500 [00:01<00:17, 25.25it/s]\n",
      "  1%|          | 3/500 [00:00<00:18, 27.03it/s]"
     ]
    },
    {
     "name": "stdout",
     "output_type": "stream",
     "text": [
      "predicting segment 15/35\n"
     ]
    },
    {
     "name": "stderr",
     "output_type": "stream",
     "text": [
      " 10%|█         | 52/500 [00:02<00:17, 25.72it/s]\n",
      "  1%|          | 3/500 [00:00<00:19, 25.86it/s]"
     ]
    },
    {
     "name": "stdout",
     "output_type": "stream",
     "text": [
      "predicting segment 16/35\n"
     ]
    },
    {
     "name": "stderr",
     "output_type": "stream",
     "text": [
      "  8%|▊         | 40/500 [00:01<00:17, 25.91it/s]\n",
      "  1%|          | 3/500 [00:00<00:19, 25.64it/s]"
     ]
    },
    {
     "name": "stdout",
     "output_type": "stream",
     "text": [
      "predicting segment 17/35\n"
     ]
    },
    {
     "name": "stderr",
     "output_type": "stream",
     "text": [
      "  8%|▊         | 38/500 [00:01<00:17, 25.96it/s]\n",
      "  1%|          | 3/500 [00:00<00:18, 27.03it/s]"
     ]
    },
    {
     "name": "stdout",
     "output_type": "stream",
     "text": [
      "predicting segment 18/35\n"
     ]
    },
    {
     "name": "stderr",
     "output_type": "stream",
     "text": [
      " 12%|█▏        | 62/500 [00:02<00:16, 26.12it/s]\n",
      "  1%|          | 3/500 [00:00<00:18, 26.55it/s]"
     ]
    },
    {
     "name": "stdout",
     "output_type": "stream",
     "text": [
      "predicting segment 19/35\n"
     ]
    },
    {
     "name": "stderr",
     "output_type": "stream",
     "text": [
      " 10%|█         | 52/500 [00:02<00:17, 25.84it/s]\n",
      "  1%|          | 3/500 [00:00<00:19, 26.09it/s]"
     ]
    },
    {
     "name": "stdout",
     "output_type": "stream",
     "text": [
      "predicting segment 20/35\n"
     ]
    },
    {
     "name": "stderr",
     "output_type": "stream",
     "text": [
      " 11%|█         | 54/500 [00:02<00:17, 25.87it/s]\n",
      "  1%|          | 3/500 [00:00<00:18, 27.52it/s]"
     ]
    },
    {
     "name": "stdout",
     "output_type": "stream",
     "text": [
      "predicting segment 21/35\n"
     ]
    },
    {
     "name": "stderr",
     "output_type": "stream",
     "text": [
      "  9%|▉         | 44/500 [00:01<00:17, 25.69it/s]\n",
      "  1%|          | 3/500 [00:00<00:18, 26.79it/s]"
     ]
    },
    {
     "name": "stdout",
     "output_type": "stream",
     "text": [
      "predicting segment 22/35\n"
     ]
    },
    {
     "name": "stderr",
     "output_type": "stream",
     "text": [
      " 14%|█▍        | 70/500 [00:02<00:16, 26.06it/s]\n",
      "  1%|          | 3/500 [00:00<00:17, 28.30it/s]"
     ]
    },
    {
     "name": "stdout",
     "output_type": "stream",
     "text": [
      "predicting segment 23/35\n"
     ]
    },
    {
     "name": "stderr",
     "output_type": "stream",
     "text": [
      " 14%|█▎        | 68/500 [00:02<00:16, 26.43it/s]\n",
      "  1%|          | 3/500 [00:00<00:18, 26.79it/s]"
     ]
    },
    {
     "name": "stdout",
     "output_type": "stream",
     "text": [
      "predicting segment 24/35\n"
     ]
    },
    {
     "name": "stderr",
     "output_type": "stream",
     "text": [
      " 10%|█         | 52/500 [00:02<00:17, 25.18it/s]\n",
      "  1%|          | 3/500 [00:00<00:19, 25.21it/s]"
     ]
    },
    {
     "name": "stdout",
     "output_type": "stream",
     "text": [
      "predicting segment 25/35\n"
     ]
    },
    {
     "name": "stderr",
     "output_type": "stream",
     "text": [
      " 12%|█▏        | 58/500 [00:02<00:16, 26.19it/s]\n",
      "  1%|          | 3/500 [00:00<00:18, 27.03it/s]"
     ]
    },
    {
     "name": "stdout",
     "output_type": "stream",
     "text": [
      "predicting segment 26/35\n"
     ]
    },
    {
     "name": "stderr",
     "output_type": "stream",
     "text": [
      " 11%|█         | 56/500 [00:02<00:16, 26.45it/s]\n",
      "  1%|          | 3/500 [00:00<00:17, 28.30it/s]"
     ]
    },
    {
     "name": "stdout",
     "output_type": "stream",
     "text": [
      "predicting segment 27/35\n"
     ]
    },
    {
     "name": "stderr",
     "output_type": "stream",
     "text": [
      " 11%|█         | 54/500 [00:02<00:16, 26.35it/s]\n",
      "  1%|          | 3/500 [00:00<00:18, 26.79it/s]"
     ]
    },
    {
     "name": "stdout",
     "output_type": "stream",
     "text": [
      "predicting segment 28/35\n"
     ]
    },
    {
     "name": "stderr",
     "output_type": "stream",
     "text": [
      " 13%|█▎        | 64/500 [00:02<00:16, 26.55it/s]\n",
      "  1%|          | 3/500 [00:00<00:18, 26.55it/s]"
     ]
    },
    {
     "name": "stdout",
     "output_type": "stream",
     "text": [
      "predicting segment 29/35\n"
     ]
    },
    {
     "name": "stderr",
     "output_type": "stream",
     "text": [
      " 12%|█▏        | 58/500 [00:02<00:16, 26.21it/s]\n",
      "  1%|          | 3/500 [00:00<00:18, 26.55it/s]"
     ]
    },
    {
     "name": "stdout",
     "output_type": "stream",
     "text": [
      "predicting segment 30/35\n"
     ]
    },
    {
     "name": "stderr",
     "output_type": "stream",
     "text": [
      "  8%|▊         | 42/500 [00:01<00:17, 26.01it/s]\n",
      "  1%|          | 3/500 [00:00<00:17, 28.04it/s]"
     ]
    },
    {
     "name": "stdout",
     "output_type": "stream",
     "text": [
      "predicting segment 31/35\n"
     ]
    },
    {
     "name": "stderr",
     "output_type": "stream",
     "text": [
      "  6%|▋         | 32/500 [00:01<00:17, 26.23it/s]\n",
      "  1%|          | 3/500 [00:00<00:18, 27.03it/s]"
     ]
    },
    {
     "name": "stdout",
     "output_type": "stream",
     "text": [
      "predicting segment 32/35\n"
     ]
    },
    {
     "name": "stderr",
     "output_type": "stream",
     "text": [
      "  6%|▋         | 32/500 [00:01<00:17, 26.34it/s]\n",
      "  0%|          | 0/500 [00:00<?, ?it/s]\n",
      "  0%|          | 0/500 [00:00<?, ?it/s]"
     ]
    },
    {
     "name": "stdout",
     "output_type": "stream",
     "text": [
      "predicting segment 33/35\n",
      "predicting segment 34/35\n"
     ]
    },
    {
     "name": "stderr",
     "output_type": "stream",
     "text": [
      "\n"
     ]
    }
   ],
   "source": [
    "import pickle\n",
    "import sys\n",
    "import json\n",
    "from pathlib import Path\n",
    "sys.path.insert(1, str(Path.cwd().parent))\n",
    "from tensor_hero.model import Transformer\n",
    "from tensor_hero.inference import full_song_prediction\n",
    "import torch\n",
    "import os\n",
    "\n",
    "source_song = Path.cwd().parent / 'Experiments' / 'Test_Songs' / '1. Andy McKee - Ouray'\n",
    "model_to_load = 'model13'\n",
    "name_of_song = 'model13 - Ouray'\n",
    "outfolder = Path.cwd() / 'generated_songs' / name_of_song\n",
    "assert not os.path.isdir(outfolder), 'ERROR: Song already exists, enter new name'\n",
    "os.mkdir(outfolder)\n",
    "audio_file = source_song / 'separated.ogg'\n",
    "\n",
    "# First, let's load the model's parameters and define a Transformer model with them\n",
    "# Let's take a look at these parameters, they're stored in a dictionary\n",
    "\n",
    "model_path = Path.cwd().parent / 'model' / 'saved_models' / model_to_load\n",
    "with open(model_path / 'params.pkl', 'rb') as f:\n",
    "    params = pickle.load(f)\n",
    "print(json.dumps(params, indent=4))\n",
    "\n",
    "# We use these parameters to define the skeleton of the model, then load the weights into it\n",
    "device = 'cuda' if torch.cuda.is_available() else 'cpu'\n",
    "print(f'device = {device}')\n",
    "\n",
    "# Model hyperparameters are derived from the params dictionary\n",
    "trg_vocab_size = params['trg_vocab_size']\n",
    "embedding_size = params['embedding_size']\n",
    "num_heads = params['num_heads']\n",
    "num_encoder_layers = params['num_encoder_layers']\n",
    "num_decoder_layers = params['num_decoder_layers']\n",
    "dropout = params['dropout']\n",
    "max_len = params['max_trg_len']\n",
    "forward_expansion = params['embedding_size']*params['forward_expansion']\n",
    "\n",
    "model = Transformer(\n",
    "    embedding_size,\n",
    "    trg_vocab_size,\n",
    "    num_heads,\n",
    "    num_encoder_layers,\n",
    "    num_decoder_layers,\n",
    "    forward_expansion,\n",
    "    dropout,\n",
    "    max_len,\n",
    "    device,\n",
    ").to(device)  # Always send the model to the GPU\n",
    "\n",
    "# Load the weights into the model\n",
    "model.load_state_dict(torch.load(model_path / (str(model_to_load)+'.pt')))\n",
    "\n",
    "print(model)\n",
    "\n",
    "\n",
    "# We have to define some things for the .chart file so it's actually playable\n",
    "# just some dummy metadata for now\n",
    "song_metadata = {'Name' : name_of_song,\n",
    "                'Artist' : 'Forrest',       # Forrest is the honorary author of all of our output\n",
    "                'Charter' : 'tensorhero',\n",
    "                'Offset' : 0,\n",
    "                'Resolution' : 192,\n",
    "                'Genre' : 'electronic',\n",
    "                'MediaType' : 'cd',\n",
    "                'MusicStream' : 'song.ogg'}\n",
    "\n",
    "_ = full_song_prediction(song_path = audio_file,\n",
    "                         model=model,\n",
    "                         device=device,\n",
    "                         sos_idx=432,\n",
    "                         max_len=500,\n",
    "                         song_metadata=song_metadata,\n",
    "                         outfolder=outfolder)"
   ]
  }
 ],
 "metadata": {
  "interpreter": {
   "hash": "1131efc7635b497546d7e8fbc76ad9d1f9d5d5d7857bcde935d6feea39d08984"
  },
  "kernelspec": {
   "display_name": "Python 3.8.6 64-bit",
   "language": "python",
   "name": "python3"
  },
  "language_info": {
   "codemirror_mode": {
    "name": "ipython",
    "version": 3
   },
   "file_extension": ".py",
   "mimetype": "text/x-python",
   "name": "python",
   "nbconvert_exporter": "python",
   "pygments_lexer": "ipython3",
   "version": "3.8.6"
  },
  "orig_nbformat": 4
 },
 "nbformat": 4,
 "nbformat_minor": 2
}
