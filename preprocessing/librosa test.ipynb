{
 "metadata": {
  "language_info": {
   "codemirror_mode": {
    "name": "ipython",
    "version": 3
   },
   "file_extension": ".py",
   "mimetype": "text/x-python",
   "name": "python",
   "nbconvert_exporter": "python",
   "pygments_lexer": "ipython3",
   "version": "3.8.6-final"
  },
  "orig_nbformat": 2,
  "kernelspec": {
   "name": "python3",
   "display_name": "Python 3",
   "language": "python"
  }
 },
 "nbformat": 4,
 "nbformat_minor": 2,
 "cells": [
  {
   "source": [
    "## This notebook implements a basic preprocessing algorithm for audio files\n",
    "\n",
    "Audio is taken as input and converted to a spectrogram with...\n",
    "* 80 frequency bins\n",
    "* Song data organized into 10 ms slices\n",
    "    * So each matrix is has shape (80, song length / 10ms)\n",
    "* 70 ms of empty data appended and 70ms prepended\n",
    "    * The algorithm will consider 70ms before and 70ms after each 10ms time step\n",
    "\n",
    "This currently produces a single channel corresponding to an STFT window length of 96 ms.\n",
    "By modulating the n_fft parameter in the \"S = np.abs(librosa.stft(data_new, n_fft = 2048, hop_length = 441))\"\n",
    "line it will be possible to produce extra channels corresponding to window lengths 46 ms and 23 ms.\n",
    "\n",
    "| n_fft | window length |\n",
    "| -------- | ---------- |\n",
    "| 2048 | 93 ms |\n",
    "| 1024 | 46 ms |\n",
    "| 512 | 23 ms |\n",
    "\n",
    "This is with hop length = 441 and sample rate = 44100"
   ],
   "cell_type": "markdown",
   "metadata": {}
  },
  {
   "cell_type": "code",
   "execution_count": 1,
   "metadata": {},
   "outputs": [],
   "source": [
    "import librosa\n",
    "import librosa.display\n",
    "import matplotlib.pyplot as plt\n",
    "import numpy as np\n",
    "\n",
    "# Try out a song from Training Data\n",
    "# data = the song data\n",
    "# sr = sample rate\n",
    "data, sr = librosa.load('/Users/ewais/Documents/Github/tensor-hero/Preprocessing/Training Data/Audioslave - Exploder (Chezy)/song.ogg')\n"
   ]
  },
  {
   "cell_type": "code",
   "execution_count": 2,
   "metadata": {},
   "outputs": [
    {
     "output_type": "stream",
     "name": "stdout",
     "text": [
      "The original data shape is (4594459,)\n",
      "The original sampling rate is 22050\n",
      "After resampling, data shape is (9188918,)\n",
      "And the new sr is 44100\n",
      "After taking the STFT w/ 10 ms stride, the shape of the data is (1025, 20837)\n",
      "The shape of the mel filter is (80, 1025)\n",
      "The shape of the new filtered data is (80, 20837)\n",
      "Before appending zeros, the shape was (80, 20837)\n",
      "After appending zeros, the shape is (80, 20851)\n"
     ]
    }
   ],
   "source": [
    "\n",
    "# This is a 1D array, with as many elements as there are samples\n",
    "print('The original data shape is', data.shape)\n",
    "print('The original sampling rate is', sr)       # sr is 22050 for .ogg files I believe\n",
    "\n",
    "# Let's upsample to 44.1k so that mp3 files can be handled and to make the 10ms window more accurate when computing STFT w/ hop length\n",
    "data_new = librosa.resample(data, sr, 44100)\n",
    "print('After resampling, data shape is', data_new.shape)\n",
    "print('And the new sr is 44100')\n",
    "\n",
    "# Take the STFT (Short Time Fourier Transform)\n",
    "S = np.abs(librosa.stft(data_new, n_fft = 2048, hop_length = 441))\n",
    "print('After taking the STFT w/ 10 ms stride, the shape of the data is', S.shape)\n",
    "\n",
    "# Create mel filter\n",
    "melfilter = librosa.filters.mel(44100, n_fft = 2048, n_mels = 80)\n",
    "print('The shape of the mel filter is', melfilter.shape)\n",
    "\n",
    "# Let's transform the STFT matrix to the mel filterbank, reducing the dimensionality of the columns to 80\n",
    "S_filtered = np.matmul(melfilter,S)\n",
    "print('The shape of the new filtered data is', S_filtered.shape)\n",
    "\n",
    "# Take the log of the data to better represent human perception\n",
    "S_filtered = librosa.amplitude_to_db(S_filtered, ref=np.max)\n",
    "\n",
    "# Prepend and append 7 columns of zeros (corresponding to 70ms of silence before and after song starts)\n",
    "S_for_parsing = np.c_[np.zeros((80,7)), S_filtered, np.zeros((80,7))]\n",
    "\n",
    "\n",
    "#S_for_parsing = np.insert(S_for_parsing, range(np.size(S_for_parsing,1)-1,(np.size(S_for_parsing,1)+6)), 0)\n",
    "print('Before appending zeros, the shape was', S_filtered.shape)\n",
    "print('After appending zeros, the shape is', S_for_parsing.shape)"
   ]
  }
 ]
}