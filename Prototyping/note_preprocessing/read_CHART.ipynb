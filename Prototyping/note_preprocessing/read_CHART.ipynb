{
 "metadata": {
  "language_info": {
   "codemirror_mode": {
    "name": "ipython",
    "version": 3
   },
   "file_extension": ".py",
   "mimetype": "text/x-python",
   "name": "python",
   "nbconvert_exporter": "python",
   "pygments_lexer": "ipython3",
   "version": "3.8.6-final"
  },
  "orig_nbformat": 2,
  "kernelspec": {
   "name": "python3",
   "display_name": "Python 3",
   "language": "python"
  }
 },
 "nbformat": 4,
 "nbformat_minor": 2,
 "cells": [
  {
   "source": [
    "# This notebook has been productionized in .\\tensor-hero\\Preprocessing\\chart_functions.py\n",
    "\n",
    "see function chart2dict()"
   ],
   "cell_type": "markdown",
   "metadata": {}
  },
  {
   "source": [
    "# 1. Get data from the .chart file"
   ],
   "cell_type": "markdown",
   "metadata": {}
  },
  {
   "cell_type": "code",
   "execution_count": 1,
   "metadata": {},
   "outputs": [],
   "source": [
    "from pathlib import Path"
   ]
  },
  {
   "cell_type": "code",
   "execution_count": 2,
   "metadata": {
    "tags": []
   },
   "outputs": [],
   "source": [
    "# Let's start by opening a .chart file and reading it\n",
    "\n",
    "# Define path to chart\n",
    "unprocessed_data_path = Path(r'X:\\Training Data\\Unprocessed')\n",
    "chartpath = r'X:\\Training Data\\Unprocessed\\Anti Hero\\Noel Pix - Die Legende (m9)\\notes.chart'\n",
    "# chartpath = unprocessed_data_path / 'Anti Hero' / '01. Brave This Storm (Miscellany)' / 'notes.chart'\n",
    "\n",
    "# d = str(Path().resolve().parent)\n",
    "# chartpath = d+'\\\\tensor-hero\\Training Data\\Audioslave - Exploder (Chezy)\\\\notes.chart'\n",
    "\n",
    "# Read chart into array\n",
    "with open(chartpath, 'r', encoding='utf-8') as file:\n",
    "    raw_chart = file.readlines()\n",
    "file.close()\n",
    "\n",
    "# Strip lines of \\n character\n",
    "for i in range(len(raw_chart)):\n",
    "    raw_chart[i] = raw_chart[i].replace('\\n', '')"
   ]
  },
  {
   "cell_type": "code",
   "execution_count": 3,
   "metadata": {
    "tags": []
   },
   "outputs": [],
   "source": [
    "# Create lists to hold sections of of the chart file\n",
    "song = []\n",
    "synctrack = []\n",
    "expertsingle = []\n",
    "\n",
    "# Parse chart file, populating lists\n",
    "i = 0\n",
    "for data in raw_chart:\n",
    "    if '[Song]' in data:\n",
    "        i = 1\n",
    "    elif data == '[SyncTrack]':\n",
    "        i = 2\n",
    "    elif data in ['[Events]', '[EasySingle]', '[MediumSingle]','[HardSingle]']:\n",
    "        i = 3\n",
    "    elif data == '[ExpertSingle]':\n",
    "        i = 4\n",
    "    \n",
    "    if data in ['{', '}', '[Song]', 'ï»¿[Song]', '[SyncTrack]', '[Events]', '[ExpertSingle]']:\n",
    "        continue\n",
    "    if data[0] == ' ':\n",
    "        if i == 1:\n",
    "            song.append(data[2:])\n",
    "        elif i == 2:\n",
    "            synctrack.append(data[2:])\n",
    "        elif i == 3:\n",
    "            continue\n",
    "        elif i == 4:\n",
    "            expertsingle.append(data[2:])\n",
    "    else:\n",
    "        if i == 1:\n",
    "            song.append(data[0:].strip('\\t'))\n",
    "        elif i == 2:\n",
    "            synctrack.append(data[0:].strip('\\t'))\n",
    "        elif i == 3:\n",
    "            continue\n",
    "        elif i == 4:\n",
    "            expertsingle.append(data[0:].strip('\\t'))\n",
    "\n",
    "time_signatures = {'tick' : [],\n",
    "                    'TS' : []}\n",
    "BPMs = {'tick' : [],\n",
    "        'BPM' : []}\n",
    "\n",
    "for event in synctrack:\n",
    "    line = event.split(' ')\n",
    "    if line[2] == 'TS':\n",
    "        time_signatures['tick'].append(int(line[0]))\n",
    "        time_signatures['TS'].append(int(line[3]))\n",
    "    elif line[2] == 'R':\n",
    "        raise NameError('Error - Resolution changes during this song')\n",
    "    else:\n",
    "        try:\n",
    "            BPMs['tick'].append(int(line[0]))\n",
    "            BPMs['BPM'].append(int(line[3]))\n",
    "        except:\n",
    "            # print(line)\n",
    "            # print(expertsingle)\n",
    "            # print(time_signatures)\n",
    "            raise NameError('Chart file may have improper indentation')\n",
    "\n",
    "\n"
   ]
  },
  {
   "cell_type": "code",
   "execution_count": 7,
   "metadata": {},
   "outputs": [
    {
     "output_type": "stream",
     "name": "stdout",
     "text": [
      "['Offset = 0', 'Resolution = 480', 'Player2 = bass', 'Difficulty = 0', 'PreviewStart = 0', 'PreviewEnd = 0', 'Genre = \"rock\"', 'MediaType = \"cd\"', 'GuitarStream = \"guitar.ogg\"']\n"
     ]
    }
   ],
   "source": [
    "print(song)"
   ]
  },
  {
   "cell_type": "code",
   "execution_count": 8,
   "metadata": {},
   "outputs": [
    {
     "output_type": "stream",
     "name": "stdout",
     "text": [
      "['0', '=', 'TS', '4']\n['0', '=', 'B', '102040']\n['1920', '=', 'B', '166232']\n['7680', '=', 'B', '165451']\n['26880', '=', 'B', '170000']\n"
     ]
    }
   ],
   "source": [
    "# Parse the 'synctrack' section of the .chart file for timing information\n",
    "time_signatures = {'tick' : [],\n",
    "                   'TS' : []}\n",
    "BPMs = {'tick' : [],\n",
    "        'BPM' : []}\n",
    "\n",
    "for event in synctrack:\n",
    "    line = event.split(' ')\n",
    "    print(line)\n",
    "    if line[2] == 'TS':\n",
    "        time_signatures['tick'].append(int(line[0]))\n",
    "        time_signatures['TS'].append(int(line[3]))\n",
    "    elif line[2] == 'R':\n",
    "        raise NameError('Error - Resolution changes during this song')\n",
    "    else:\n",
    "        BPMs['tick'].append(int(line[0]))\n",
    "        BPMs['BPM'].append(int(line[3]))"
   ]
  },
  {
   "cell_type": "code",
   "execution_count": 9,
   "metadata": {
    "tags": []
   },
   "outputs": [],
   "source": [
    "# Parse the 'expertsingle' section of the .chart file for note information\n",
    "notes = {'tick' : [],        # What tick the note is at\n",
    "         'N_S' : [],         # Whether it is a note (N) or star power (S)\n",
    "         'note' : [],        # What the note is \n",
    "         'duration': []}     # tick duration of the note or star power\n",
    "\n",
    "for note in expertsingle:\n",
    "    line = note.split(' ')\n",
    "    if len(line) < 2:\n",
    "        break\n",
    "    if line[2] == 'E':       # skip the lines that mark events\n",
    "        continue\n",
    "    else:\n",
    "        if \"=\" in line:\n",
    "            notes['tick'].append(int(line[0]))\n",
    "            notes['N_S'].append(line[2])\n",
    "            notes['note'].append(line[3])\n",
    "            notes['duration'].append(int(line[4]))\n",
    "        else:\n",
    "            notes['tick'].append(int(line[0]))\n",
    "            notes['N_S'].append(line[1])\n",
    "            notes['note'].append(line[2])\n",
    "            notes['duration'].append(int(line[3]))\n"
   ]
  },
  {
   "cell_type": "code",
   "execution_count": 10,
   "metadata": {
    "tags": []
   },
   "outputs": [],
   "source": [
    "# Parse the 'song' section of the .chart file to get relevent chart information\n",
    "song_metadata = {'Name' : '',\n",
    "                 'Artist' : '',\n",
    "                 'Charter' : '',\n",
    "                 'Offset' : '',\n",
    "                 'Resolution' : '',\n",
    "                 'Genre' : '',\n",
    "                 'MediaType' : '',\n",
    "                 'MusicStream' : ''}\n",
    "\n",
    "for data in song:\n",
    "    line = data.split(' ')\n",
    "    if line[0] in song_metadata.keys():\n",
    "        song_metadata[line[0]] = line[-1]\n",
    "song_metadata['Offset'] = int(float(song_metadata['Offset']))\n",
    "song_metadata['Resolution'] = int(float(song_metadata['Resolution']))"
   ]
  },
  {
   "source": [
    "# 2. Convert ticks, resolution, and BPM to fit system requirements\n",
    "\n",
    "Each tick must correspond to 10ms of time with BPM = 120. \n",
    "\n",
    "The tensors each correspond to a 10ms window of time. \n",
    "\n",
    "This is why it is useful to change the ticks to represent 10ms each.\n",
    "\n",
    "## Tick Conversion Formula\n",
    "We'll say each 'bin' of a particular BPM and time signature corresponds to a section, $n$, of the song with $N$ sections total.\n",
    "\n",
    "To get the rate the ticks, $R$, we use the following formula:\n",
    "\n",
    "$R \\frac{seconds}{tick} = resolution^{-1} \\frac{beats}{tick} *  BPM^{-1} \\frac{minutes}{beat} * 60 \\frac{seconds}{minute}$\n",
    "\n",
    "$R = \\frac{60}{res * BPM}$\n",
    "\n",
    "We want the tick rate to be, $R = .01 \\frac{seconds}{tick}$\n",
    "\n",
    "To achieve this, we must adjust $BPM$\n",
    "\n",
    "If $res = 192$, $BPM_{new} = 31.25$\n",
    "\n",
    "If $res = 480$, $BPM_{new} = 12.5$\n",
    "\n",
    "Generally, $BPM_{new} = \\frac{60}{res \\cdot R}$\n",
    "\n",
    "Let $X$ be the conversion factor.\n",
    "\n",
    "$X = \\frac{BPM_{new}}{BPM}$\n",
    "\n",
    "Multiplying all points by this conversion factor, doing some fancy shifting, then setting BPM = 31250 will produce the correct result."
   ],
   "cell_type": "markdown",
   "metadata": {}
  },
  {
   "cell_type": "code",
   "execution_count": 11,
   "metadata": {
    "tags": []
   },
   "outputs": [],
   "source": [
    "# Split the song into bins corresponding to particular time signatures and BPMs\n",
    "\n",
    "# First, assemble some lists from the preprocessing step\n",
    "note_keys = list(zip(notes['tick'], notes['N_S'], \n",
    "                notes['note'], notes['duration']))                    # (tick, 'N_S', note)\n",
    "TS_events = list(zip(time_signatures['tick'], time_signatures['TS']))  # (tick, TS)\n",
    "BPM_events = list(zip(BPMs['tick'], BPMs['BPM']))                      # (tick, BPM)\n",
    "\n",
    "# Append None at the end of these lists so the loop knows where to stop\n",
    "TS_events.append(None)\n",
    "BPM_events.append(None)\n",
    "\n",
    "# Loop through all the notes in the song\n",
    "TS_index = 0\n",
    "BPM_index = 0\n",
    "\n",
    "cur_TS = TS_events[TS_index]                # Current time signature\n",
    "cur_BPM = BPM_events[BPM_index]             # Current BPM\n",
    "next_TS = None                              # Next time signature\n",
    "next_BPM = None                             # Next BPM\n",
    "if len(TS_events) > 1:\n",
    "    next_TS = TS_events[TS_index + 1]\n",
    "if len(BPM_events) > 1:\n",
    "    next_BPM = BPM_events[BPM_index + 1]\n",
    "\n",
    "\n",
    "# bins['TS'][0] corresponds to the time signature of bin 0\n",
    "# bins['notes'] is a list of lists of notes in each bin\n",
    "bins = {\n",
    "    'TS' : [],              # time signature\n",
    "    'BPM' : [],             # BPM\n",
    "    'shift_tick' : [],      # The first tick where the TS / BPM combo starts\n",
    "    'notes' : [[]],         # The notes in the bin\n",
    "}\n",
    "\n",
    "# Append the first element of each array before looping\n",
    "event_index = 0     # Counts how many times either BPM or TS change\n",
    "bins['TS'].append(cur_TS[1])\n",
    "bins['BPM'].append(cur_BPM[1])\n",
    "bins['shift_tick'].append(cur_BPM[0])\n",
    "bins['notes'][event_index].append(note_keys[0])\n",
    "\n",
    "# Initialize ticks\n",
    "cur_TS_tick = cur_TS[0]\n",
    "if next_TS != None:\n",
    "    next_TS_tick = next_TS[0]\n",
    "else:\n",
    "    next_TS_tick = None\n",
    "cur_BPM_tick = cur_BPM[0]\n",
    "if next_BPM != None:\n",
    "    next_BPM_tick = next_BPM[0]\n",
    "else:\n",
    "    next_BPM_tick = None\n",
    "\n",
    "for i in range(1, len(note_keys)):\n",
    "    if next_BPM_tick == None and next_TS_tick == None:     # If in the last bin\n",
    "        bins['notes'][-1].append(note_keys[i])             # Add notes until there are no more to add\n",
    "        continue\n",
    "    \n",
    "    if next_TS_tick != None:                        # If there is a time signature change in the future\n",
    "        if note_keys[i][0] >= next_TS_tick:         # If the current note is past that change                            \n",
    "            if next_BPM_tick != None:                   # If there is a BPM change in the future\n",
    "                if note_keys[i][0] >= next_BPM_tick:    # If the current note is past that change\n",
    "                    TS_index += 1                       # Update time signature and BPM, they changed at the same time\n",
    "                    cur_TS = TS_events[TS_index]\n",
    "                    cur_TS_tick = cur_TS[0]\n",
    "                    next_TS = TS_events[TS_index + 1]\n",
    "                    if next_TS != None:\n",
    "                        next_TS_tick = next_TS[0]\n",
    "                    else:\n",
    "                        next_TS_tick = None\n",
    "\n",
    "                    BPM_index += 1\n",
    "                    cur_BPM = BPM_events[BPM_index]\n",
    "                    cur_BPM_tick = cur_BPM[0]\n",
    "                    next_BPM = BPM_events[BPM_index + 1]\n",
    "                    if next_BPM != None:\n",
    "                        next_BPM_tick = next_BPM[0]\n",
    "                    else:\n",
    "                        next_BPM_tick = None\n",
    "\n",
    "                    bins['TS'].append(cur_TS[1])\n",
    "                    bins['BPM'].append(cur_BPM[1])\n",
    "                    bins['shift_tick'].append(min(cur_TS[0], cur_BPM[0]))\n",
    "                    bins['notes'].append([])\n",
    "                    bins['notes'][-1].append(note_keys[i])\n",
    "                    continue\n",
    "\n",
    "                else:                                   # If the time signature changed but the BPM didn't\n",
    "                    TS_index += 1                       # Update the time signature, but not the BPM\n",
    "                    cur_TS = TS_events[TS_index]\n",
    "                    cur_TS_tick = cur_TS[0]\n",
    "                    next_TS = TS_events[TS_index + 1]\n",
    "                    if next_TS != None:\n",
    "                        next_TS_tick = next_TS[0]\n",
    "                    else:\n",
    "                        next_TS_tick = None\n",
    "\n",
    "                    bins['TS'].append(cur_TS[1])\n",
    "                    bins['BPM'].append(cur_BPM[1])\n",
    "                    bins['shift_tick'].append(min(cur_TS[0], cur_BPM[0]))\n",
    "                    bins['notes'].append([])\n",
    "                    bins['notes'][-1].append(note_keys[i])\n",
    "                    continue\n",
    "\n",
    "            else:                               # If the next BPM tick = None but the note tick is past the time signature\n",
    "                TS_index += 1                   # Update the time signature, but not the BPM\n",
    "                cur_TS = TS_events[TS_index]\n",
    "                cur_TS_tick = cur_TS[0]\n",
    "                next_TS = TS_events[TS_index + 1]\n",
    "                if next_TS != None:\n",
    "                    next_TS_tick = next_TS[0]\n",
    "                else:\n",
    "                    next_TS_tick = None       \n",
    "\n",
    "                bins['TS'].append(cur_TS[1])\n",
    "                bins['BPM'].append(cur_BPM[1])\n",
    "                bins['shift_tick'].append(cur_TS[0])\n",
    "                bins['notes'].append([])\n",
    "                bins['notes'][-1].append(note_keys[i])\n",
    "                continue\n",
    "\n",
    "        else:  # If there is a time signature change in the future but the note is not past it\n",
    "            if next_BPM_tick != None:                   # If there is a BPM change in the future\n",
    "                if note_keys[i][0] >= next_BPM_tick:    # If the note is past that BPM change    \n",
    "                    BPM_index += 1                      # Update the BPM but not the time signature\n",
    "                    cur_BPM = BPM_events[BPM_index]\n",
    "                    cur_BPM_tick = cur_BPM[0]\n",
    "                    next_BPM = BPM_events[BPM_index + 1]\n",
    "                    if next_BPM != None:\n",
    "                        next_BPM_tick = next_BPM[0]\n",
    "                    else:\n",
    "                        next_BPM_tick = None\n",
    "\n",
    "                    bins['TS'].append(cur_TS[1])\n",
    "                    bins['BPM'].append(cur_BPM[1])\n",
    "                    bins['shift_tick'].append(cur_BPM[0])\n",
    "                    bins['notes'].append([])\n",
    "                    bins['notes'][-1].append(note_keys[i])\n",
    "                    continue\n",
    "\n",
    "                else:  # If the time signature did not change and the BPM also did not change\n",
    "                    bins['notes'][-1].append(note_keys[i])  # Add note and continue\n",
    "                    continue\n",
    "\n",
    "    #-------------------------------------------------------------------------------------------------------#\n",
    "    # The second half of the ifzilla:\n",
    "    # If there is not a time signature change in the future\n",
    "\n",
    "    else:                        # If there is NOT a time signature change in the future                              \n",
    "        if next_BPM_tick != None:                   # If there is a BPM change in the future\n",
    "            if note_keys[i][0] >= next_BPM_tick:    # If the current note is past that change\n",
    "                BPM_index += 1                      # Update the BPM\n",
    "                cur_BPM = BPM_events[BPM_index]\n",
    "                cur_BPM_tick = cur_BPM[0]\n",
    "                next_BPM = BPM_events[BPM_index + 1]\n",
    "                if next_BPM != None:\n",
    "                    next_BPM_tick = next_BPM[0]\n",
    "                else:\n",
    "                    next_BPM_tick = None\n",
    "\n",
    "                bins['TS'].append(cur_TS[1])\n",
    "                bins['BPM'].append(cur_BPM[1])\n",
    "                bins['shift_tick'].append(cur_BPM[0])\n",
    "                bins['notes'].append([])\n",
    "                bins['notes'][-1].append(note_keys[i])\n",
    "                continue\n",
    "\n",
    "            else:  # If the current note is not past the BPM change\n",
    "                bins['notes'][-1].append(note_keys[i])  # Add note and continue\n",
    "                continue\n",
    "\n",
    "        else:                               # If the next BPM tick = None and the next TS tick = None\n",
    "                                            # Then the if statement at the beginning of this thing should have fired off\n",
    "            raise NameError('Error: Tick Conversion Failure')"
   ]
  },
  {
   "cell_type": "code",
   "execution_count": 23,
   "metadata": {},
   "outputs": [
    {
     "output_type": "stream",
     "name": "stdout",
     "text": [
      "None\n"
     ]
    }
   ],
   "source": [
    "print(next_TS_tick)"
   ]
  },
  {
   "cell_type": "code",
   "execution_count": 18,
   "metadata": {
    "tags": []
   },
   "outputs": [
    {
     "output_type": "stream",
     "name": "stdout",
     "text": [
      "12500\n"
     ]
    }
   ],
   "source": [
    "bins['X'] = []                # Tick conversion factor\n",
    "bins['sync_tick'] = []        # The tick value that the first note in 'notes' should have\n",
    "res = song_metadata['Resolution'] # resolution\n",
    "BPM_new = int(60000 / (res*0.01))\n",
    "print(BPM_new)\n",
    "# Populate 'X' and 'sync_tick' field of bins\n",
    "for i in range(len(bins['shift_tick'])):\n",
    "    bins['X'].append(BPM_new / bins['BPM'][i])  # 31250 = 31.25 beats/minute * 1000, this BPM corresponds to 10ms per tick\n",
    "\n",
    "    if i == 0:\n",
    "        bins['sync_tick'].append(0)\n",
    "    else:\n",
    "        bins['sync_tick'].append(round(bins['notes'][i][0][0] * bins['X'][i-1]))\n"
   ]
  },
  {
   "cell_type": "code",
   "execution_count": 20,
   "metadata": {},
   "outputs": [
    {
     "output_type": "stream",
     "name": "stdout",
     "text": [
      "[0, 235, 578, 2031]\n[0, 1920, 7680, 26880]\n[0.12250098000784006, 0.07519611145868425, 0.07555106950093986, 0.07352941176470588]\n"
     ]
    }
   ],
   "source": [
    "# Sanity check\n",
    "print(bins['sync_tick'])\n",
    "print(bins['shift_tick'])\n",
    "print(bins['X'])"
   ]
  },
  {
   "cell_type": "code",
   "execution_count": 21,
   "metadata": {
    "tags": []
   },
   "outputs": [],
   "source": [
    "# Create array in bins for 'shift'\n",
    "bins['shift'] = [0]  # Don't shift the first bin\n",
    "\n",
    "# Convert note ticks to using conversion factor X\n",
    "for i in range(len(bins['shift_tick'])):\n",
    "    for j in range(len(bins['notes'][i])):\n",
    "        bins['notes'][i][j] = list(bins['notes'][i][j])  # Convert to list\n",
    "        \n",
    "        # Construct shift length\n",
    "        if j == 0 and i != 0:\n",
    "            bins['shift'].append(round((bins['shift_tick'][i] * bins['X'][i])) - (round((bins['shift_tick'][i] * bins['X'][i-1])) - bins['shift'][i-1]))\n",
    "\n",
    "        bins['notes'][i][j][0] = round(bins['notes'][i][j][0]*bins['X'][i])  # Scale tick mark\n",
    "        bins['notes'][i][j][3] = round(bins['notes'][i][j][3]*bins['X'][i])  # Scale duration\n",
    "        bins['notes'][i][j][0] -= bins['shift'][i]                           # Shift"
   ]
  },
  {
   "cell_type": "code",
   "execution_count": 22,
   "metadata": {},
   "outputs": [
    {
     "output_type": "stream",
     "name": "stdout",
     "text": [
      "{'tick': [235, 235, 253, 253, 271, 271, 290, 290, 308, 308, 326, 326, 344, 344, 362, 362, 380, 380, 398, 398, 416, 416, 434, 434, 452, 452, 470, 470, 488, 488, 506, 506, 524, 524, 542, 542, 560, 560, 578, 578, 596, 596, 614, 614, 632, 632, 650, 650, 669, 669, 687, 687, 705, 705, 724, 724, 742, 742, 760, 760, 778, 778, 796, 796, 814, 814, 832, 832, 851, 851, 869, 869, 887, 887, 905, 905, 923, 923, 941, 941, 959, 959, 977, 977, 996, 996, 1014, 1014, 1032, 1032, 1050, 1050, 1068, 1068, 1086, 1086, 1104, 1104, 1104, 1123, 1123, 1141, 1141, 1159, 1159, 1177, 1177, 1195, 1195, 1213, 1213, 1231, 1231, 1249, 1249, 1268, 1268, 1286, 1286, 1304, 1304, 1322, 1322, 1340, 1340, 1358, 1358, 1376, 1376, 1395, 1395, 1413, 1413, 1431, 1431, 1449, 1449, 1467, 1467, 1485, 1485, 1503, 1503, 1521, 1521, 1540, 1540, 1558, 1558, 1576, 1576, 1594, 1594, 1612, 1612, 1630, 1630, 1648, 1648, 1667, 1667, 1685, 1685, 1703, 1703, 1721, 1721, 1739, 1739, 1757, 1757, 1775, 1775, 1793, 1793, 1811, 1811, 1830, 1830, 1848, 1848, 1866, 1866, 1884, 1884, 1902, 1902, 1920, 1920, 1938, 1938, 1957, 1957, 1975, 1975, 1993, 1993, 2011, 2011, 2029, 2029, 2047, 2047, 2065, 2065, 2084, 2084, 2102, 2102, 2120, 2138, 2156, 2173, 2191, 2209, 2226, 2244, 2262, 2279, 2297, 2315, 2332, 2350, 2368, 2385, 2403, 2420, 2438, 2456, 2473, 2491, 2509, 2526, 2544, 2544, 2562, 2579, 2597, 2615, 2632, 2650, 2668, 2668, 2685, 2703, 2720, 2738, 2756, 2773, 2791, 2809, 2826, 2844, 2862, 2879, 2897, 2915, 2932, 2950, 2968, 2985, 3003, 3020, 3038, 3056, 3073, 3091, 3109, 3126, 3144, 3162, 3179, 3197, 3215, 3232, 3232, 3250, 3303, 3391, 3444, 3532, 3585, 3673, 3726, 3815, 3868, 3956, 3956, 4009, 4097, 4150, 4238, 4291, 4379, 4432, 4520, 4573, 4662, 4715, 4803, 4856, 4944, 4997, 5085, 5138, 5226, 5279, 5368, 5368, 5420, 5509, 5562, 5650, 5703, 5791, 5844, 5932, 5985, 6215, 6215, 6303, 6303, 6338, 6338, 6497, 6497, 6532, 6532, 6585, 6585, 6620, 6620, 6815, 6815, 6815, 6850, 6850, 6868, 6868, 6903, 6903, 6956, 6956, 6991, 6991, 7009, 7009, 7097, 7097, 7132, 7132, 7150, 7150, 7185, 7185, 7203, 7203, 7220, 7220, 7238, 7238, 7256, 7256, 7273, 7273, 7291, 7291, 7309, 7309, 7326, 7326, 7379, 7379, 7415, 7415, 7432, 7432, 7468, 7468, 7520, 7520, 7556, 7556, 7573, 7573, 7662, 7662, 7697, 7697, 7715, 7715, 7750, 7750, 7768, 7768, 7785, 7785, 7803, 7803, 7820, 7820, 7838, 7838, 7856, 7856, 7873, 7873, 7891, 7891, 7944, 7944, 7979, 7979, 7997, 7997, 8032, 8032, 8085, 8085, 8120, 8120, 8138, 8138, 8226, 8226, 8226, 8262, 8262, 8279, 8279, 8315, 8315, 8332, 8332, 8350, 8350, 8368, 8368, 8385, 8385, 8403, 8403, 8420, 8420, 8438, 8438, 8456, 8456, 8473, 8526, 8615, 8667, 8756, 8809, 8897, 8950, 9038, 9091, 9179, 9232, 9320, 9373, 9462, 9515, 9603, 9603, 9656, 9744, 9797, 9885, 9938, 10026, 10079, 10168, 10220, 10309, 10362, 10450, 10503, 10591, 10644, 10732, 10785, 10873, 10926, 11015, 11015, 11067, 11156, 11209, 11438, 11438, 11526, 11526, 11562, 11562, 11720, 11720, 11756, 11756, 11809, 11809, 11844, 11844, 12038, 12038, 12073, 12073, 12091, 12091, 12126, 12126, 12179, 12179, 12215, 12215, 12232, 12232, 12320, 12320, 12356, 12356, 12373, 12373, 12409, 12409, 12426, 12426, 12426, 12444, 12444, 12462, 12462, 12479, 12479, 12497, 12497, 12515, 12515, 12532, 12532, 12550, 12550, 12603, 12603, 12638, 12638, 12656, 12656, 12691, 12691, 12744, 12744, 12779, 12779, 12797, 12797, 12885, 12885, 12920, 12920, 12938, 12938, 12973, 12973, 12991, 12991, 13009, 13009, 13026, 13026, 13044, 13044, 13062, 13062, 13079, 13079, 13097, 13097, 13115, 13115, 13168, 13168, 13203, 13203, 13220, 13220, 13256, 13256, 13309, 13309, 13344, 13344, 13362, 13362, 13450, 13450, 13485, 13485, 13503, 13503, 13538, 13538, 13556, 13556, 13573, 13573, 13591, 13591, 13609, 13609, 13626, 13626, 13644, 13644, 13662, 13662, 13679, 13679, 13697, 13715, 13732, 13750, 13768, 13785, 13803, 13820, 13838, 13838, 13856, 13873, 13891, 13909, 13926, 13944, 13962, 13979, 13997, 14015, 14032, 14050, 14068, 14085, 14103, 14120, 14138, 14156, 14173, 14191, 14209, 14226, 14244, 14244, 14262, 14279, 14297, 14315, 14332, 14350, 14368, 14385, 14403, 14420, 14438, 14456, 14473, 14491, 14509, 14526, 14544, 14562, 14579, 14597, 14615, 14632, 14650, 14668, 14685, 14703, 14720, 14738, 14756, 14756, 14765, 14765, 14773, 14773, 14782, 14782, 14791, 14791, 14800, 14800, 14809, 14809, 14818, 14818, 14826, 14826, 14844, 14862, 14879, 14897, 14915, 14932, 14950, 14959, 14985, 15020, 15029, 15056, 15109, 15118, 15179, 15197, 15215, 15232, 15268, 15268, 15285, 15303, 15391, 15404, 15404, 15462, 15479, 15497, 15515, 15523, 15550, 15585, 15594, 15620, 15673, 15744, 15762, 15779, 15797, 15832, 15850, 15867, 15903, 15920, 15938, 16238, 16256, 16273, 16291, 16309, 16326, 16344, 16362, 16379, 16397, 16415, 16432, 16450, 16468, 16485, 16503, 16503, 16520, 16538, 16556, 16573, 16591, 16609, 16626, 16644, 16662, 16662, 16679, 16697, 16715, 16732, 16750, 16768, 16785, 16803, 16820, 16838, 16856, 16873, 16891, 16909, 16926, 16944, 16962, 16979, 16997, 17015, 17032, 17050, 17068, 17068, 17085, 17103, 17120, 17138, 17156, 17173, 17191, 17209, 17226, 17244, 17262, 17279, 17297, 17315, 17332, 17350, 17368, 17385, 17403, 17420, 17438, 17456, 17473, 17491, 17509, 17526, 17544, 17562, 17579, 17597, 17615, 17632, 17632, 17650, 17668, 17685, 17703, 17720, 17738, 17756, 17773, 17791, 17809, 17826, 17844, 17862, 17879, 17897, 17915, 17932, 17950, 17968, 17985, 18003, 18020, 18038, 18056, 18073, 18073, 18091, 18109, 18126, 18144, 18162, 18179, 18197, 18197, 18215, 18232, 18250, 18268, 18285, 18303, 18320, 18338, 18356, 18373, 18391, 18409, 18426, 18444, 18462, 18479, 18497, 18515, 18532, 18550, 18568, 18585, 18603, 18620, 18638, 18656, 18673, 18691, 18709, 18726, 18744, 18762, 18762, 18779, 18797, 18815, 18832, 18850, 18868, 18885, 18903, 18920, 18938, 18956, 18973, 18991, 19009, 19026, 19044, 19062, 19079, 19097, 19115, 19132, 19150, 19168, 19185, 19203, 19220, 19238, 19256, 19273, 19291, 19309, 19326, 19326, 19344, 19344, 19362, 19362, 19379, 19379, 19397, 19397, 19415, 19415, 19432, 19432, 19450, 19450, 19468, 19468, 19485, 19485, 19520, 19520, 19556, 19556, 19591, 19591, 19626, 19626, 19626], 'N_S': ['N', 'N', 'N', 'N', 'N', 'N', 'N', 'N', 'N', 'N', 'N', 'N', 'N', 'N', 'N', 'N', 'N', 'N', 'N', 'N', 'N', 'N', 'N', 'N', 'N', 'N', 'N', 'N', 'N', 'N', 'N', 'N', 'N', 'N', 'N', 'N', 'N', 'N', 'N', 'N', 'N', 'N', 'N', 'N', 'N', 'N', 'N', 'N', 'N', 'N', 'N', 'N', 'N', 'N', 'N', 'N', 'N', 'N', 'N', 'N', 'N', 'N', 'N', 'N', 'N', 'N', 'N', 'N', 'N', 'N', 'N', 'N', 'N', 'N', 'N', 'N', 'N', 'N', 'N', 'N', 'N', 'N', 'N', 'N', 'N', 'N', 'N', 'N', 'N', 'N', 'N', 'N', 'N', 'N', 'N', 'N', 'N', 'N', 'S', 'N', 'N', 'N', 'N', 'N', 'N', 'N', 'N', 'N', 'N', 'N', 'N', 'N', 'N', 'N', 'N', 'N', 'N', 'N', 'N', 'N', 'N', 'N', 'N', 'N', 'N', 'N', 'N', 'N', 'N', 'N', 'N', 'N', 'N', 'N', 'N', 'N', 'N', 'N', 'N', 'N', 'N', 'N', 'N', 'N', 'N', 'N', 'N', 'N', 'N', 'N', 'N', 'N', 'N', 'N', 'N', 'N', 'N', 'N', 'N', 'N', 'N', 'N', 'N', 'N', 'N', 'N', 'N', 'N', 'N', 'N', 'N', 'N', 'N', 'N', 'N', 'N', 'N', 'N', 'N', 'N', 'N', 'N', 'N', 'N', 'N', 'N', 'N', 'N', 'N', 'N', 'N', 'N', 'N', 'N', 'N', 'N', 'N', 'N', 'N', 'N', 'N', 'N', 'N', 'N', 'N', 'N', 'N', 'N', 'N', 'N', 'N', 'N', 'N', 'N', 'N', 'N', 'N', 'N', 'N', 'N', 'N', 'N', 'N', 'N', 'N', 'N', 'N', 'N', 'N', 'N', 'N', 'N', 'N', 'N', 'S', 'N', 'N', 'N', 'N', 'N', 'N', 'N', 'N', 'N', 'N', 'N', 'N', 'N', 'N', 'N', 'N', 'N', 'N', 'N', 'N', 'N', 'N', 'N', 'N', 'N', 'N', 'N', 'N', 'N', 'N', 'N', 'N', 'N', 'N', 'N', 'N', 'N', 'N', 'N', 'N', 'N', 'N', 'N', 'N', 'N', 'N', 'N', 'N', 'N', 'N', 'N', 'N', 'S', 'N', 'N', 'N', 'N', 'N', 'N', 'N', 'N', 'N', 'N', 'N', 'N', 'N', 'N', 'N', 'N', 'N', 'N', 'N', 'N', 'S', 'N', 'N', 'N', 'N', 'N', 'N', 'N', 'N', 'N', 'N', 'N', 'N', 'N', 'N', 'N', 'N', 'N', 'N', 'N', 'N', 'N', 'N', 'N', 'N', 'N', 'S', 'N', 'N', 'N', 'N', 'N', 'N', 'N', 'N', 'N', 'N', 'N', 'N', 'N', 'N', 'N', 'N', 'N', 'N', 'N', 'N', 'N', 'N', 'N', 'N', 'N', 'N', 'N', 'N', 'N', 'N', 'N', 'N', 'N', 'N', 'N', 'N', 'N', 'N', 'N', 'N', 'N', 'N', 'N', 'N', 'N', 'N', 'N', 'N', 'N', 'N', 'N', 'N', 'N', 'N', 'N', 'N', 'N', 'N', 'N', 'N', 'N', 'N', 'N', 'N', 'N', 'N', 'N', 'N', 'N', 'N', 'N', 'N', 'N', 'N', 'N', 'N', 'N', 'N', 'N', 'N', 'N', 'N', 'N', 'N', 'N', 'N', 'N', 'N', 'N', 'N', 'S', 'N', 'N', 'N', 'N', 'N', 'N', 'N', 'N', 'N', 'N', 'N', 'N', 'N', 'N', 'N', 'N', 'N', 'N', 'N', 'N', 'N', 'N', 'N', 'N', 'N', 'N', 'N', 'N', 'N', 'N', 'N', 'N', 'N', 'N', 'N', 'N', 'N', 'N', 'N', 'S', 'N', 'N', 'N', 'N', 'N', 'N', 'N', 'N', 'N', 'N', 'N', 'N', 'N', 'N', 'N', 'N', 'N', 'N', 'N', 'N', 'S', 'N', 'N', 'N', 'N', 'N', 'N', 'N', 'N', 'N', 'N', 'N', 'N', 'N', 'N', 'N', 'N', 'N', 'N', 'N', 'N', 'N', 'N', 'N', 'N', 'N', 'N', 'N', 'N', 'N', 'N', 'N', 'N', 'N', 'N', 'N', 'N', 'N', 'N', 'N', 'N', 'N', 'S', 'N', 'N', 'N', 'N', 'N', 'N', 'N', 'N', 'N', 'N', 'N', 'N', 'N', 'N', 'N', 'N', 'N', 'N', 'N', 'N', 'N', 'N', 'N', 'N', 'N', 'N', 'N', 'N', 'N', 'N', 'N', 'N', 'N', 'N', 'N', 'N', 'N', 'N', 'N', 'N', 'N', 'N', 'N', 'N', 'N', 'N', 'N', 'N', 'N', 'N', 'N', 'N', 'N', 'N', 'N', 'N', 'N', 'N', 'N', 'N', 'N', 'N', 'N', 'N', 'N', 'N', 'N', 'N', 'N', 'N', 'N', 'N', 'N', 'N', 'N', 'N', 'N', 'N', 'N', 'N', 'N', 'N', 'N', 'N', 'N', 'N', 'N', 'N', 'N', 'N', 'N', 'N', 'N', 'N', 'N', 'N', 'N', 'N', 'N', 'S', 'N', 'N', 'N', 'N', 'N', 'N', 'N', 'N', 'N', 'N', 'N', 'N', 'N', 'N', 'N', 'N', 'N', 'N', 'N', 'N', 'N', 'N', 'N', 'N', 'N', 'N', 'N', 'N', 'N', 'N', 'N', 'N', 'N', 'N', 'N', 'N', 'N', 'N', 'N', 'N', 'N', 'N', 'N', 'N', 'N', 'N', 'N', 'N', 'N', 'N', 'N', 'N', 'N', 'N', 'N', 'N', 'N', 'N', 'N', 'N', 'N', 'N', 'N', 'N', 'N', 'N', 'N', 'N', 'N', 'N', 'N', 'N', 'N', 'N', 'N', 'N', 'N', 'N', 'N', 'N', 'N', 'N', 'N', 'N', 'N', 'N', 'N', 'N', 'N', 'S', 'N', 'N', 'N', 'N', 'N', 'N', 'N', 'N', 'N', 'N', 'N', 'N', 'N', 'N', 'N', 'N', 'N', 'N', 'N', 'N', 'N', 'N', 'N', 'N', 'N', 'N', 'N', 'N', 'N', 'N', 'N', 'N', 'N', 'N', 'N', 'N', 'N', 'N', 'N', 'N', 'N', 'N', 'N', 'N', 'N', 'N', 'N', 'N', 'N', 'N', 'N', 'S', 'N', 'N', 'N', 'N', 'N', 'N', 'N', 'N', 'N', 'N', 'N', 'N', 'N', 'N', 'N', 'N', 'N', 'N', 'N', 'N', 'N', 'N', 'N', 'N', 'N', 'N', 'N', 'N', 'N', 'N', 'N', 'N', 'N', 'N', 'N', 'N', 'N', 'N', 'N', 'N', 'N', 'N', 'N', 'N', 'N', 'N', 'N', 'N', 'N', 'N', 'N', 'N', 'N', 'N', 'N', 'N', 'N', 'N', 'N', 'N', 'N', 'N', 'N', 'N', 'N', 'N', 'N', 'N', 'N', 'N', 'N', 'N', 'N', 'N', 'N', 'N', 'N', 'N', 'N', 'N', 'N', 'N', 'S', 'N', 'N', 'N', 'N', 'N', 'N', 'N', 'N', 'N', 'N', 'N', 'N', 'N', 'N', 'N', 'N', 'N', 'N', 'N', 'N', 'N', 'N', 'N', 'N', 'N', 'N', 'N', 'N', 'N', 'N', 'N', 'N', 'N', 'N', 'N', 'N', 'N', 'N', 'N', 'N', 'N', 'N', 'N', 'N', 'N', 'N', 'N', 'N', 'N', 'N', 'N', 'N', 'N', 'N', 'N', 'N', 'N', 'N', 'N', 'N', 'N', 'N', 'N', 'N', 'N', 'N', 'N', 'N', 'N', 'N', 'N', 'N', 'N', 'N', 'N', 'N', 'N', 'N', 'N', 'N', 'N', 'N', 'N', 'N', 'N', 'N', 'N', 'N', 'N', 'N', 'N', 'N', 'N', 'N', 'N', 'N', 'N', 'N', 'N', 'N', 'N'], 'note': ['0', '6', '4', '6', '3', '6', '4', '6', '2', '6', '4', '6', '1', '6', '4', '6', '0', '6', '4', '6', '3', '6', '4', '6', '2', '6', '4', '6', '1', '6', '4', '6', '0', '6', '4', '6', '3', '6', '4', '6', '2', '6', '4', '6', '1', '6', '4', '6', '0', '6', '4', '6', '3', '6', '4', '6', '2', '6', '4', '6', '1', '6', '4', '6', '0', '6', '4', '6', '3', '6', '4', '6', '2', '6', '4', '6', '1', '6', '4', '6', '0', '6', '4', '6', '3', '6', '4', '6', '2', '6', '4', '6', '1', '6', '4', '6', '0', '6', '2', '4', '6', '3', '6', '4', '6', '2', '6', '4', '6', '1', '6', '4', '6', '0', '6', '4', '6', '3', '6', '4', '6', '2', '6', '4', '6', '1', '6', '4', '6', '0', '6', '4', '6', '3', '6', '4', '6', '2', '6', '4', '6', '1', '6', '4', '6', '0', '6', '4', '6', '3', '6', '4', '6', '2', '6', '4', '6', '1', '6', '4', '6', '0', '6', '4', '6', '3', '6', '4', '6', '2', '6', '4', '6', '1', '6', '4', '6', '0', '6', '4', '6', '3', '6', '4', '6', '2', '6', '4', '6', '1', '6', '4', '6', '0', '6', '4', '6', '3', '6', '4', '6', '2', '6', '4', '6', '1', '6', '4', '6', '1', '1', '1', '1', '1', '1', '1', '1', '2', '2', '2', '2', '2', '2', '2', '2', '3', '3', '3', '3', '3', '3', '3', '3', '4', '2', '4', '4', '4', '4', '4', '4', '2', '5', '1', '1', '1', '1', '1', '1', '1', '1', '2', '2', '2', '2', '2', '2', '2', '2', '3', '3', '3', '3', '3', '3', '3', '3', '4', '4', '4', '4', '4', '4', '4', '2', '5', '3', '4', '2', '4', '1', '4', '0', '4', '3', '4', '2', '2', '4', '1', '4', '0', '4', '3', '4', '2', '4', '1', '4', '0', '4', '3', '4', '2', '4', '1', '4', '0', '2', '4', '3', '4', '2', '4', '1', '4', '0', '4', '1', '3', '1', '3', '1', '2', '0', '2', '0', '2', '0', '2', '0', '1', '2', '3', '2', '2', '3', '1', '3', '1', '2', '2', '3', '2', '3', '1', '3', '2', '3', '2', '3', '1', '3', '1', '2', '0', '6', '4', '6', '3', '6', '4', '6', '2', '6', '4', '6', '1', '6', '4', '6', '2', '3', '2', '3', '1', '3', '1', '2', '2', '3', '2', '3', '1', '3', '2', '3', '2', '3', '1', '3', '1', '2', '0', '6', '4', '6', '3', '6', '4', '6', '2', '6', '4', '6', '1', '6', '4', '6', '2', '3', '2', '3', '1', '3', '1', '2', '2', '3', '2', '3', '1', '3', '2', '3', '2', '2', '3', '1', '3', '1', '2', '0', '6', '4', '6', '3', '6', '4', '6', '2', '6', '4', '6', '1', '6', '4', '6', '3', '4', '2', '4', '1', '4', '0', '4', '3', '4', '2', '4', '1', '4', '0', '4', '3', '2', '4', '2', '4', '1', '4', '0', '4', '3', '4', '2', '4', '1', '4', '0', '4', '3', '4', '2', '4', '1', '2', '4', '0', '4', '1', '3', '1', '3', '1', '2', '0', '2', '0', '2', '0', '2', '0', '1', '2', '3', '2', '3', '1', '3', '1', '2', '2', '3', '2', '3', '1', '3', '2', '3', '2', '3', '1', '3', '1', '2', '0', '6', '2', '4', '6', '3', '6', '4', '6', '2', '6', '4', '6', '1', '6', '4', '6', '2', '3', '2', '3', '1', '3', '1', '2', '2', '3', '2', '3', '1', '3', '2', '3', '2', '3', '1', '3', '1', '2', '0', '6', '4', '6', '3', '6', '4', '6', '2', '6', '4', '6', '1', '6', '4', '6', '2', '3', '2', '3', '1', '3', '1', '2', '2', '3', '2', '3', '1', '3', '2', '3', '2', '3', '1', '3', '1', '2', '0', '6', '4', '6', '3', '6', '4', '6', '2', '6', '4', '6', '1', '6', '4', '6', '1', '1', '1', '1', '1', '1', '1', '1', '2', '2', '2', '2', '2', '2', '2', '2', '2', '3', '3', '3', '3', '3', '3', '3', '3', '4', '4', '4', '4', '4', '4', '4', '2', '5', '1', '1', '1', '1', '1', '1', '1', '1', '2', '2', '2', '2', '2', '2', '2', '2', '3', '3', '3', '3', '3', '3', '3', '3', '4', '4', '4', '4', '4', '6', '3', '6', '2', '6', '1', '6', '3', '6', '2', '6', '1', '6', '0', '6', '3', '5', '3', '3', '3', '3', '2', '3', '3', '4', '2', '1', '2', '3', '3', '4', '3', '2', '1', '2', '1', '2', '0', '1', '3', '4', '5', '3', '2', '3', '3', '4', '2', '1', '2', '3', '1', '1', '0', '1', '2', '1', '2', '3', '2', '3', '4', '3', '3', '3', '3', '3', '3', '3', '3', '4', '4', '4', '4', '4', '4', '4', '2', '5', '1', '1', '1', '1', '1', '1', '1', '1', '2', '2', '2', '2', '2', '2', '2', '2', '2', '3', '3', '3', '3', '3', '3', '3', '3', '4', '4', '4', '4', '4', '4', '4', '2', '5', '1', '1', '1', '1', '1', '1', '1', '1', '2', '2', '2', '2', '2', '2', '2', '2', '3', '3', '3', '3', '3', '3', '3', '3', '4', '4', '4', '4', '4', '4', '4', '2', '5', '1', '1', '1', '1', '1', '1', '1', '1', '2', '2', '2', '2', '2', '2', '2', '2', '3', '3', '3', '3', '3', '3', '3', '3', '4', '2', '4', '4', '4', '4', '4', '4', '2', '5', '1', '1', '1', '1', '1', '1', '1', '1', '2', '2', '2', '2', '2', '2', '2', '2', '3', '3', '3', '3', '3', '3', '3', '3', '4', '4', '4', '4', '4', '4', '4', '2', '5', '1', '1', '1', '1', '1', '1', '1', '1', '2', '2', '2', '2', '2', '2', '2', '2', '3', '3', '3', '3', '3', '3', '3', '3', '4', '4', '4', '4', '4', '4', '4', '2', '5', '1', '4', '1', '4', '1', '4', '1', '4', '1', '4', '1', '4', '1', '4', '1', '4', '1', '2', '1', '3', '0', '1', '0', '2', '1', '2', '4'], 'duration': [0, 0, 0, 0, 0, 0, 0, 0, 0, 0, 0, 0, 0, 0, 0, 0, 0, 0, 0, 0, 0, 0, 0, 0, 0, 0, 0, 0, 0, 0, 0, 0, 0, 0, 0, 0, 0, 0, 0, 0, 0, 0, 0, 0, 0, 0, 0, 0, 0, 0, 0, 0, 0, 0, 0, 0, 0, 0, 0, 0, 0, 0, 0, 0, 0, 0, 0, 0, 0, 0, 0, 0, 0, 0, 0, 0, 0, 0, 0, 0, 0, 0, 0, 0, 0, 0, 0, 0, 0, 0, 0, 0, 0, 0, 0, 0, 0, 0, 290, 0, 0, 0, 0, 0, 0, 0, 0, 0, 0, 0, 0, 0, 0, 0, 0, 0, 0, 0, 0, 0, 0, 0, 0, 0, 0, 0, 0, 0, 0, 0, 0, 0, 0, 0, 0, 0, 0, 0, 0, 0, 0, 0, 0, 0, 0, 0, 0, 0, 0, 0, 0, 0, 0, 0, 0, 0, 0, 0, 0, 0, 0, 0, 0, 0, 0, 0, 0, 0, 0, 0, 0, 0, 0, 0, 0, 0, 0, 0, 0, 0, 0, 0, 0, 0, 0, 0, 0, 0, 0, 0, 0, 0, 0, 0, 0, 0, 0, 0, 0, 0, 0, 0, 0, 0, 0, 0, 0, 0, 0, 0, 0, 0, 0, 0, 0, 0, 0, 0, 0, 0, 0, 0, 0, 0, 0, 0, 0, 0, 0, 0, 0, 0, 0, 0, 282, 0, 0, 0, 0, 0, 0, 0, 0, 0, 0, 0, 0, 0, 0, 0, 0, 0, 0, 0, 0, 0, 0, 0, 0, 0, 0, 0, 0, 0, 0, 0, 0, 0, 0, 0, 0, 0, 0, 0, 0, 0, 132, 79, 132, 79, 132, 79, 132, 79, 132, 79, 132, 415, 79, 132, 79, 132, 79, 132, 79, 132, 79, 132, 79, 132, 79, 132, 79, 132, 79, 132, 79, 132, 415, 79, 132, 79, 132, 79, 132, 79, 132, 79, 0, 0, 0, 0, 0, 0, 0, 0, 0, 0, 0, 0, 0, 0, 0, 0, 194, 0, 0, 0, 0, 0, 0, 0, 0, 0, 0, 0, 0, 0, 0, 0, 0, 0, 0, 0, 0, 0, 0, 0, 0, 0, 0, 0, 0, 0, 0, 0, 0, 0, 0, 0, 0, 0, 0, 0, 0, 0, 0, 0, 0, 0, 0, 0, 0, 0, 0, 0, 0, 0, 0, 0, 0, 0, 0, 0, 0, 0, 0, 0, 0, 0, 0, 0, 0, 0, 0, 0, 0, 0, 0, 0, 0, 0, 0, 0, 0, 0, 0, 0, 0, 0, 0, 0, 0, 0, 0, 379, 0, 0, 0, 0, 0, 0, 0, 0, 0, 0, 0, 0, 0, 0, 0, 0, 0, 0, 0, 0, 0, 0, 132, 79, 132, 79, 132, 79, 132, 79, 132, 79, 132, 79, 132, 79, 132, 79, 132, 415, 79, 132, 79, 132, 79, 132, 79, 132, 79, 132, 79, 132, 79, 132, 79, 132, 79, 132, 79, 132, 274, 79, 132, 79, 0, 0, 0, 0, 0, 0, 0, 0, 0, 0, 0, 0, 0, 0, 0, 0, 0, 0, 0, 0, 0, 0, 0, 0, 0, 0, 0, 0, 0, 0, 0, 0, 0, 0, 0, 0, 0, 0, 265, 0, 0, 0, 0, 0, 0, 0, 0, 0, 0, 0, 0, 0, 0, 0, 0, 0, 0, 0, 0, 0, 0, 0, 0, 0, 0, 0, 0, 0, 0, 0, 0, 0, 0, 0, 0, 0, 0, 0, 0, 0, 0, 0, 0, 0, 0, 0, 0, 0, 0, 0, 0, 0, 0, 0, 0, 0, 0, 0, 0, 0, 0, 0, 0, 0, 0, 0, 0, 0, 0, 0, 0, 0, 0, 0, 0, 0, 0, 0, 0, 0, 0, 0, 0, 0, 0, 0, 0, 0, 0, 0, 0, 0, 0, 0, 0, 0, 0, 0, 282, 0, 0, 0, 0, 0, 0, 0, 0, 0, 0, 0, 0, 0, 0, 0, 0, 0, 0, 0, 0, 0, 0, 0, 0, 0, 0, 0, 0, 0, 0, 0, 0, 0, 0, 0, 0, 0, 0, 0, 0, 0, 0, 0, 0, 0, 0, 0, 0, 0, 0, 0, 0, 0, 0, 0, 0, 0, 0, 0, 0, 0, 0, 0, 0, 0, 0, 0, 0, 0, 0, 0, 0, 0, 0, 0, 0, 0, 0, 0, 0, 0, 44, 0, 53, 0, 0, 0, 26, 0, 256, 0, 79, 62, 49, 0, 0, 0, 0, 0, 0, 0, 0, 0, 44, 62, 0, 0, 0, 26, 0, 0, 27, 0, 0, 256, 0, 0, 0, 0, 0, 0, 0, 0, 0, 0, 0, 0, 0, 0, 0, 0, 0, 0, 0, 0, 0, 0, 0, 0, 0, 0, 282, 0, 0, 0, 0, 0, 0, 0, 0, 0, 0, 0, 0, 0, 0, 0, 0, 0, 0, 0, 0, 0, 0, 0, 0, 0, 0, 0, 0, 0, 0, 0, 0, 0, 0, 0, 0, 0, 0, 0, 0, 0, 0, 0, 0, 0, 0, 0, 0, 0, 0, 0, 0, 0, 0, 0, 0, 0, 0, 0, 0, 0, 0, 0, 0, 0, 0, 0, 0, 0, 0, 0, 0, 0, 0, 0, 0, 0, 0, 0, 0, 0, 0, 282, 0, 0, 0, 0, 0, 0, 0, 0, 0, 0, 0, 0, 0, 0, 0, 0, 0, 0, 0, 0, 0, 0, 0, 0, 0, 0, 0, 0, 0, 0, 0, 0, 0, 0, 0, 0, 0, 0, 0, 0, 0, 0, 0, 0, 0, 0, 0, 0, 0, 0, 0, 0, 0, 0, 0, 0, 0, 0, 0, 0, 0, 0, 0, 0, 0, 0, 0, 0, 0, 0, 0, 0, 0, 0, 0, 0, 0, 0, 0, 0, 0, 0, 0, 0, 0, 0, 0, 0, 0, 0, 0, 0, 0, 0, 0, 0, 0, 0, 62, 62, 62]}\n"
     ]
    }
   ],
   "source": [
    "# Convert back to dictionary format\n",
    "shifted_notes = {'tick' : [],        # What tick the note is at\n",
    "                  'N_S' : [],         # Whether it is a note (N) or star power (S)\n",
    "                  'note' : [],        # What the note is \n",
    "                  'duration': []}     # tick duration of the note or star power\n",
    "\n",
    "last_tick = bins['notes'][-1][-1][0]\n",
    "\n",
    "for T_bin in bins['notes']:\n",
    "    for n in T_bin:\n",
    "        shifted_notes['tick'].append(n[0])\n",
    "        shifted_notes['N_S'].append(n[1])\n",
    "        shifted_notes['note'].append(n[2])\n",
    "        shifted_notes['duration'].append(n[3])\n",
    "\n",
    "print(shifted_notes)"
   ]
  },
  {
   "cell_type": "code",
   "execution_count": 27,
   "metadata": {},
   "outputs": [
    {
     "output_type": "error",
     "ename": "AttributeError",
     "evalue": "'list' object has no attribute 'shape'",
     "traceback": [
      "\u001b[1;31m---------------------------------------------------------------------------\u001b[0m",
      "\u001b[1;31mAttributeError\u001b[0m                            Traceback (most recent call last)",
      "\u001b[1;32m<ipython-input-27-a5eee53d2210>\u001b[0m in \u001b[0;36m<module>\u001b[1;34m\u001b[0m\n\u001b[1;32m----> 1\u001b[1;33m \u001b[0mprint\u001b[0m\u001b[1;33m(\u001b[0m\u001b[0mbins\u001b[0m\u001b[1;33m[\u001b[0m\u001b[1;34m'notes'\u001b[0m\u001b[1;33m]\u001b[0m\u001b[1;33m.\u001b[0m\u001b[0mshape\u001b[0m\u001b[1;33m)\u001b[0m\u001b[1;33m\u001b[0m\u001b[1;33m\u001b[0m\u001b[0m\n\u001b[0m",
      "\u001b[1;31mAttributeError\u001b[0m: 'list' object has no attribute 'shape'"
     ]
    }
   ],
   "source": [
    "print(bins['notes'].shape)"
   ]
  },
  {
   "source": [
    "### Now we have all the components we need to write the new file"
   ],
   "cell_type": "markdown",
   "metadata": {}
  },
  {
   "cell_type": "code",
   "execution_count": 45,
   "metadata": {},
   "outputs": [],
   "source": [
    "f = open('new song.chart', 'w')\n",
    "\n",
    "# populate '[Song]' portion of file\n",
    "f.writelines(['[Song]\\n', '{\\n'])\n",
    "for k, v in song_metadata.items():\n",
    "    f.writelines('  ' + k + ' = ' + str(v) + '\\n')\n",
    "f.writelines('}\\n')\n",
    "\n",
    "# Populate '[SyncTrack]' portion of file, skip [Events]\n",
    "f.writelines('[SyncTrack]\\n{\\n  0 = TS 1\\n  0 = B 31250\\n}\\n[Events]\\n{\\n}\\n')\n",
    "\n",
    "# Populate notes in '[ExpertSingle]'\n",
    "f.writelines('[ExpertSingle]\\n{\\n')\n",
    "for i in range(len(bins['shift_tick'])):\n",
    "    for j in range(len(bins['notes'][i])):\n",
    "        f.writelines('  ' + str(bins['notes'][i][j][0]) + ' = ' +\n",
    "                     str(bins['notes'][i][j][1]) + ' ' + \n",
    "                     str(bins['notes'][i][j][2]) + ' ' +\n",
    "                     str(bins['notes'][i][j][3]) + '\\n')\n",
    "f.writelines('}')\n",
    "f.close()"
   ]
  },
  {
   "source": [
    "### It works! Note that it will be advantageous to convert songs back to a more reasonable BPM like 120 after processing them. This is because everything turns into a hammer on with a BPM as slow as 31.25"
   ],
   "cell_type": "markdown",
   "metadata": {}
  },
  {
   "cell_type": "code",
   "execution_count": 74,
   "metadata": {},
   "outputs": [
    {
     "output_type": "stream",
     "name": "stdout",
     "text": [
      "N\n"
     ]
    }
   ],
   "source": [
    "# Test chart2dict to evaluate output\n",
    "sys.path.insert(1, str(Path().resolve().parent) + r'\\Preprocessing')\n",
    "from chart_functions import chart2dict\n",
    "\n",
    "notes, _, _, _ = chart2dict(chartpath)\n",
    "\n",
    "print(notes['N_S'][i])"
   ]
  }
 ]
}