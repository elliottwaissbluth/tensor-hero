{
 "cells": [
  {
   "cell_type": "code",
   "execution_count": 2,
   "metadata": {},
   "outputs": [],
   "source": [
    "import sys\n",
    "from pathlib import Path\n",
    "sys.path.insert(1, str(Path.cwd().parent.parent))\n",
    "from tensor_hero.preprocessing.audio import ninos, onset_select\n",
    "from tensor_hero.preprocessing.chart import chart2tensor\n",
    "from tensor_hero.preprocessing.data import __remove_release_keys, __remove_modifiers\n",
    "from tensor_hero.visualization import plot_chart\n",
    "import librosa\n",
    "from mir_eval.onset import f_measure\n",
    "from tqdm import tqdm\n",
    "import numpy as np\n",
    "import matplotlib.pyplot as plt\n",
    "import pickle\n",
    "if not sys.warnoptions:\n",
    "    import warnings\n",
    "    warnings.simplefilter(\"ignore\")\n",
    "\n",
    "def onset_frames_to_time(onsets, sr, hop_len):\n",
    "    time_per_frame = hop_len/sr\n",
    "    return [x*time_per_frame for x in onsets]\n",
    "\n",
    "def onset_times_to_bins(onset_times):\n",
    "    onset_times = [round(x*100) for x in onset_times]\n",
    "    return onset_times\n",
    "\n",
    "def compare_onsets(audio, sr, notes_array, start, end,\n",
    "                   w1=3, w2=3, w3=7, w4=1, w5=0, delta=0,\n",
    "                   plot= False):\n",
    "    \n",
    "    # Measure onsets using spectral sparsity\n",
    "    odf, _, hop_len = ninos(audio[sr*start:sr*end], sr)\n",
    "    onsets = onset_select(odf, w1, w2, w3, w4, w5, delta, plot=False)\n",
    "    onset_times = onset_frames_to_time(onsets, sr, hop_len)\n",
    "    onset_time_bins = onset_times_to_bins(onset_times)\n",
    "\n",
    "    # Get ground truth clone hero onsets\n",
    "    ch_onsets = np.where(notes_array[start*100:end*100] > 0)[0]\n",
    "    ch_onset_times = [x/100 for x in ch_onsets]\n",
    "    \n",
    "    # Compare with f_measure\n",
    "    f1, _, _ = f_measure(np.array(ch_onset_times), np.array(onset_times))\n",
    "    \n",
    "    # plot\n",
    "    if plot:\n",
    "        plt.figure(figsize=(15,5))\n",
    "        for o in ch_onsets:\n",
    "            plt.axvline(x=o, ymin=0, ymax=0.5, color='r')\n",
    "        for o in onset_time_bins:\n",
    "            plt.axvline(x=o, ymin=0.5, ymax=1, color='g')\n",
    "    \n",
    "    return f1\n",
    "\n",
    "# Get a few 10 second song segments to try out (10 seconds defined below)\n",
    "anberlin_path = Path.cwd().parent.parent / 'Training_Data' / 'fully_curated' / 'full_curated' \\\n",
    "    / 'Anberlin - The Feel Good Drag'\n",
    "notes_array_anberlin = chart2tensor(anberlin_path / 'notes.chart')\n",
    "notes_array_anberlin = __remove_modifiers(__remove_release_keys(notes_array_anberlin))\n",
    "anberlin, sr_anberlin = librosa.load(str(anberlin_path / 'other.wav'))\n",
    "\n",
    "infected_path = Path.cwd().parent.parent / 'Training_Data' / 'fully_curated' / 'full_curated' \\\n",
    "    / 'Bad Religion - Infected'\n",
    "notes_array_infected = chart2tensor(infected_path / 'notes.chart')\n",
    "notes_array_infected = __remove_modifiers(__remove_release_keys(notes_array_infected))\n",
    "infected, sr_infected = librosa.load(str(infected_path / 'other.wav'))\n",
    "\n",
    "number_path = Path.cwd().parent.parent / 'Training_Data' / 'fully_curated' / 'full_curated' \\\n",
    "    / 'Ben Harper and Relentless7 - Number with No Name'\n",
    "notes_array_number = chart2tensor(number_path / 'notes.chart')\n",
    "notes_array_number = __remove_modifiers(__remove_release_keys(notes_array_number))\n",
    "number, sr_number = librosa.load(str(number_path / 'other.wav'))\n",
    "\n",
    "soothsayer_path = Path.cwd().parent.parent / 'Training_Data' / 'fully_curated' / 'full_curated' \\\n",
    "    / 'Buckethead - Soothsayer (xX760Xx)'\n",
    "notes_array_soothsayer = chart2tensor(soothsayer_path / 'notes.chart')\n",
    "notes_array_soothsayer = __remove_modifiers(__remove_release_keys(notes_array_soothsayer))\n",
    "soothsayer, sr_soothsayer = librosa.load(str(soothsayer_path / 'other.wav'))\n",
    "\n",
    "misirlou_path = Path.cwd().parent.parent / 'Training_Data' / 'fully_curated' / 'full_curated' \\\n",
    "    / 'Dick Dale - Misirlou'\n",
    "notes_array_misirlou = chart2tensor(misirlou_path / 'notes.chart')\n",
    "notes_array_misirlou = __remove_modifiers(__remove_release_keys(notes_array_misirlou))\n",
    "misirlou, sr_misirlou = librosa.load(str(misirlou_path / 'other.wav'))\n",
    "\n",
    "littlewing_path = Path.cwd().parent.parent / 'Training_Data' / 'fully_curated' / 'full_curated' \\\n",
    "    / 'Jimi Hendrix - Little Wing'\n",
    "notes_array_littlewing = chart2tensor(littlewing_path / 'notes.chart')\n",
    "notes_array_littlewing = __remove_modifiers(__remove_release_keys(notes_array_littlewing))\n",
    "littlewing, sr_littlewing = librosa.load(str(littlewing_path / 'other.wav'))\n",
    "\n",
    "\n",
    "names = ['anberlin', 'infected', 'number', 'soothsayer','misirlou', 'littlewing', 'mean']"
   ]
  },
  {
   "cell_type": "code",
   "execution_count": 3,
   "metadata": {},
   "outputs": [
    {
     "name": "stdout",
     "output_type": "stream",
     "text": [
      "\n",
      "anberlin\n",
      "{'w1': 10, 'w2': 7, 'w3': 6, 'w4': 10, 'w5': 0, 'delta': 1.2000000000000002, 'best_f1': 0.835820895522388}\n",
      "\n",
      "infected\n",
      "{'w1': 4, 'w2': 10, 'w3': 1, 'w4': 5, 'w5': 0, 'delta': 1.2000000000000002, 'best_f1': 0.6285714285714286}\n",
      "\n",
      "number\n",
      "{'w1': 4, 'w2': 6, 'w3': 4, 'w4': 2, 'w5': 0, 'delta': 0.2, 'best_f1': 0.6041666666666666}\n",
      "\n",
      "soothsayer\n",
      "{'w1': 7, 'w2': 6, 'w3': 9, 'w4': 5, 'w5': 0, 'delta': 1.8, 'best_f1': 0.8597285067873304}\n",
      "\n",
      "misirlou\n",
      "{'w1': 3, 'w2': 7, 'w3': 8, 'w4': 8, 'w5': 0, 'delta': 1.0, 'best_f1': 0.869158878504673}\n",
      "\n",
      "littlewing\n",
      "{'w1': 10, 'w2': 9, 'w3': 1, 'w4': 1, 'w5': 0, 'delta': 0.0, 'best_f1': 0.6382978723404255}\n",
      "\n",
      "mean\n",
      "{'w1': 10, 'w2': 9, 'w3': 4, 'w4': 2, 'w5': 0, 'delta': 0.2, 'best_f1': 0.6751567656514306}\n"
     ]
    }
   ],
   "source": [
    "\n",
    "h = {}\n",
    "for name in names:\n",
    "    with open('best_hyperparams_' + name + '.pkl', 'rb') as f:\n",
    "        h[name] = pickle.load(f)\n",
    "\n",
    "for name, best_params in h.items():\n",
    "    print(f'\\n{name}\\n{best_params}')\n",
    "# best_hyperparams_mean = {\n",
    "    # 'w1' : 0,\n",
    "    # 'w2' : 0,\n",
    "    # 'w3' : 0,\n",
    "    # 'w4' : 0,\n",
    "    # 'w5' : 0,\n",
    "    # 'delta' : 0\n",
    "# }"
   ]
  },
  {
   "cell_type": "code",
   "execution_count": 7,
   "metadata": {},
   "outputs": [
    {
     "name": "stdout",
     "output_type": "stream",
     "text": [
      "Green lines are predicted\n",
      "Red lines are ground truth\n"
     ]
    },
    {
     "data": {
      "image/png": "[encoded data removed]",
      "text/plain": [
       "<Figure size 1080x360 with 1 Axes>"
      ]
     },
     "metadata": {
      "needs_background": "light"
     },
     "output_type": "display_data"
    }
   ],
   "source": [
    "f1_anberlin = compare_onsets(anberlin, sr_anberlin, notes_array_anberlin, 10, 20,\n",
    "                             w1=h['anberlin']['w1'], w2=h['anberlin']['w1'], \n",
    "                             w3=h['anberlin']['w3'], w4=h['anberlin']['w4'], w5=0, \n",
    "                             delta=h['anberlin']['delta'], plot=True)\n",
    "print('Green lines are predicted\\nRed lines are ground truth')"
   ]
  },
  {
   "cell_type": "code",
   "execution_count": 8,
   "metadata": {},
   "outputs": [
    {
     "data": {
      "image/png": "[encoded data removed]",
      "text/plain": [
       "<Figure size 1080x360 with 1 Axes>"
      ]
     },
     "metadata": {
      "needs_background": "light"
     },
     "output_type": "display_data"
    }
   ],
   "source": [
    "f1_infected = compare_onsets(infected, sr_infected, notes_array_infected, 60, 70,\n",
    "                             w1=h['infected']['w1'], w2=h['infected']['w1'], \n",
    "                             w3=h['infected']['w3'], w4=h['infected']['w4'], w5=0, \n",
    "                             delta=h['infected']['delta'], plot=True)"
   ]
  },
  {
   "cell_type": "code",
   "execution_count": 17,
   "metadata": {},
   "outputs": [
    {
     "data": {
      "image/png": "[encoded data removed]",
      "text/plain": [
       "<Figure size 1080x360 with 1 Axes>"
      ]
     },
     "metadata": {
      "needs_background": "light"
     },
     "output_type": "display_data"
    }
   ],
   "source": [
    "f1_number = compare_onsets(number, sr_number, notes_array_number, 100, 110,\n",
    "                             w1=h['number']['w1'], w2=h['number']['w1'], \n",
    "                             w3=h['number']['w3'], w4=h['number']['w4'], w5=0, \n",
    "                             delta=h['number']['delta'], plot=True)"
   ]
  },
  {
   "cell_type": "code",
   "execution_count": 18,
   "metadata": {},
   "outputs": [
    {
     "data": {
      "image/png": "[encoded data removed]",
      "text/plain": [
       "<Figure size 1080x360 with 1 Axes>"
      ]
     },
     "metadata": {
      "needs_background": "light"
     },
     "output_type": "display_data"
    }
   ],
   "source": [
    "f1_soothsayer = compare_onsets(soothsayer, sr_soothsayer, notes_array_soothsayer, 280, 290,\n",
    "                             w1=h['soothsayer']['w1'], w2=h['soothsayer']['w1'], \n",
    "                             w3=h['soothsayer']['w3'], w4=h['soothsayer']['w4'], w5=0, \n",
    "                             delta=h['soothsayer']['delta'], plot=True)"
   ]
  },
  {
   "cell_type": "code",
   "execution_count": 19,
   "metadata": {},
   "outputs": [
    {
     "data": {
      "image/png": "[encoded data removed]",
      "text/plain": [
       "<Figure size 1080x360 with 1 Axes>"
      ]
     },
     "metadata": {
      "needs_background": "light"
     },
     "output_type": "display_data"
    }
   ],
   "source": [
    "f1_misirlou = compare_onsets(misirlou, sr_misirlou, notes_array_misirlou, 70, 80,\n",
    "                             w1=h['misirlou']['w1'], w2=h['misirlou']['w1'], \n",
    "                             w3=h['misirlou']['w3'], w4=h['misirlou']['w4'], w5=0, \n",
    "                             delta=h['misirlou']['delta'], plot=True)"
   ]
  },
  {
   "cell_type": "code",
   "execution_count": 9,
   "metadata": {},
   "outputs": [
    {
     "data": {
      "image/png": "[encoded data removed]",
      "text/plain": [
       "<Figure size 1080x360 with 1 Axes>"
      ]
     },
     "metadata": {
      "needs_background": "light"
     },
     "output_type": "display_data"
    }
   ],
   "source": [
    "f1_littlewing = compare_onsets(littlewing, sr_littlewing, notes_array_littlewing, 90, 100,\n",
    "                             w1=h['littlewing']['w1'], w2=h['littlewing']['w1'], \n",
    "                             w3=h['littlewing']['w3'], w4=h['littlewing']['w4'], w5=0, \n",
    "                             delta=h['littlewing']['delta'], plot=True)"
   ]
  },
  {
   "cell_type": "code",
   "execution_count": null,
   "metadata": {},
   "outputs": [],
   "source": []
  }
 ],
 "metadata": {
  "interpreter": {
   "hash": "1131efc7635b497546d7e8fbc76ad9d1f9d5d5d7857bcde935d6feea39d08984"
  },
  "kernelspec": {
   "display_name": "Python 3.8.6 64-bit",
   "language": "python",
   "name": "python3"
  },
  "language_info": {
   "codemirror_mode": {
    "name": "ipython",
    "version": 3
   },
   "file_extension": ".py",
   "mimetype": "text/x-python",
   "name": "python",
   "nbconvert_exporter": "python",
   "pygments_lexer": "ipython3",
   "version": "3.8.6"
  },
  "orig_nbformat": 4
 },
 "nbformat": 4,
 "nbformat_minor": 2
}
