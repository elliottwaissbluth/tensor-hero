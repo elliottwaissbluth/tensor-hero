{
 "cells": [
  {
   "cell_type": "code",
   "execution_count": 1,
   "metadata": {},
   "outputs": [],
   "source": [
    "import sys\n",
    "sys.path.insert(1,'/Users/scarr/MIMS/tensor-hero/Prototyping/onset_detection/Model_Evaluation')\n",
    "from model_evaluations import *\n",
    "from model_metric_functions import *\n",
    "from loss_func import *"
   ]
  },
  {
   "cell_type": "code",
   "execution_count": 2,
   "metadata": {},
   "outputs": [],
   "source": [
    "import numpy as np"
   ]
  },
  {
   "cell_type": "code",
   "execution_count": 52,
   "metadata": {},
   "outputs": [],
   "source": [
    "notes_original = np.load('/Users/scarr/MIMS/tensor-hero/example_song/notes_simplified.npy')\n",
    "notes_original_list = (notes_original[0:400],notes_original[401:800], notes_original[801:1200])\n",
    "notes_generated = np.load('/Users/scarr/MIMS/tensor-hero/example_song/notes_generated.npy')\n",
    "notes_generated_list = (notes_generated[0:400],notes_generated[401:800], notes_generated[801:1200])\n",
    "\n",
    "# notes_generated_list = ('/Users/scarr/MIMS/tensor-hero/example_song/notes_generated.npy', '/Users/scarr/MIMS/tensor-hero/example_song/notes_generated.npy')\n"
   ]
  },
  {
   "cell_type": "code",
   "execution_count": 4,
   "metadata": {},
   "outputs": [],
   "source": [
    "#generate single file of generated array\n",
    "# notes_generated = [item + 2 if index % 90 == 0 else item for index, item in enumerate(notes_original)]\n",
    "# np.save('/Users/scarr/MIMS/tensor-hero/example_song/notes_generated.npy', notes_generated)"
   ]
  },
  {
   "cell_type": "code",
   "execution_count": 17,
   "metadata": {},
   "outputs": [
    {
     "data": {
      "text/plain": [
       "0"
      ]
     },
     "execution_count": 17,
     "metadata": {},
     "output_type": "execute_result"
    }
   ],
   "source": [
    "len([i for i  in notes_generated_list[2] if i >5 ])"
   ]
  },
  {
   "cell_type": "code",
   "execution_count": 5,
   "metadata": {},
   "outputs": [
    {
     "data": {
      "text/plain": [
       "{'Frequency Table':     % of truth AVG  % of pred AVG\n",
       " 0         0.954902       0.943216\n",
       " 1         0.011688       0.011688\n",
       " 2         0.016702       0.028388\n",
       " 3         0.007519       0.007519\n",
       " 4         0.006683       0.006683\n",
       " 5         0.002506       0.002506\n",
       " 6         0.000000       0.000000\n",
       " 7         0.000000       0.000000\n",
       " 8         0.000000       0.000000\n",
       " 9         0.000000       0.000000\n",
       " 10        0.000000       0.000000\n",
       " 11        0.000000       0.000000\n",
       " 12        0.000000       0.000000\n",
       " 13        0.000000       0.000000\n",
       " 14        0.000000       0.000000\n",
       " 15        0.000000       0.000000\n",
       " 16        0.000000       0.000000\n",
       " 17        0.000000       0.000000\n",
       " 18        0.000000       0.000000\n",
       " 19        0.000000       0.000000\n",
       " 20        0.000000       0.000000\n",
       " 21        0.000000       0.000000\n",
       " 22        0.000000       0.000000\n",
       " 23        0.000000       0.000000\n",
       " 24        0.000000       0.000000\n",
       " 25        0.000000       0.000000\n",
       " 26        0.000000       0.000000\n",
       " 27        0.000000       0.000000\n",
       " 28        0.000000       0.000000\n",
       " 29        0.000000       0.000000\n",
       " 30        0.000000       0.000000\n",
       " 31        0.000000       0.000000\n",
       " 32        0.000000       0.000000,\n",
       " 'Frequency Type Table':            % of truth AVG  % of pred AVG\n",
       " None             0.954902       0.943216\n",
       " Single           0.045098       0.056784\n",
       " Double           0.000000       0.000000\n",
       " Triple           0.000000       0.000000\n",
       " Quadruple        0.000000       0.000000\n",
       " Five             0.000000       0.000000\n",
       " Open             0.000000       0.000000,\n",
       " 'Metric Values':          Saturation        F1  Precision  Recall\n",
       " average    1.365368  0.909091   0.833333     1.0}"
      ]
     },
     "execution_count": 5,
     "metadata": {},
     "output_type": "execute_result"
    }
   ],
   "source": [
    "evaluate_model_run(notes_generated_list,notes_original_list)"
   ]
  },
  {
   "cell_type": "code",
   "execution_count": null,
   "metadata": {},
   "outputs": [],
   "source": []
  },
  {
   "cell_type": "code",
   "execution_count": 36,
   "metadata": {},
   "outputs": [
    {
     "data": {
      "text/html": [
       "<div>\n",
       "<style scoped>\n",
       "    .dataframe tbody tr th:only-of-type {\n",
       "        vertical-align: middle;\n",
       "    }\n",
       "\n",
       "    .dataframe tbody tr th {\n",
       "        vertical-align: top;\n",
       "    }\n",
       "\n",
       "    .dataframe thead th {\n",
       "        text-align: right;\n",
       "    }\n",
       "</style>\n",
       "<table border=\"1\" class=\"dataframe\">\n",
       "  <thead>\n",
       "    <tr style=\"text-align: right;\">\n",
       "      <th></th>\n",
       "      <th>% of total on avg.</th>\n",
       "      <th>% of total on avg.</th>\n",
       "    </tr>\n",
       "  </thead>\n",
       "  <tbody>\n",
       "    <tr>\n",
       "      <th>0</th>\n",
       "      <td>0.946476</td>\n",
       "      <td>0.935656</td>\n",
       "    </tr>\n",
       "    <tr>\n",
       "      <th>1</th>\n",
       "      <td>0.010027</td>\n",
       "      <td>0.010027</td>\n",
       "    </tr>\n",
       "    <tr>\n",
       "      <th>2</th>\n",
       "      <td>0.011974</td>\n",
       "      <td>0.022650</td>\n",
       "    </tr>\n",
       "    <tr>\n",
       "      <th>3</th>\n",
       "      <td>0.012479</td>\n",
       "      <td>0.012407</td>\n",
       "    </tr>\n",
       "    <tr>\n",
       "      <th>4</th>\n",
       "      <td>0.009089</td>\n",
       "      <td>0.009161</td>\n",
       "    </tr>\n",
       "    <tr>\n",
       "      <th>5</th>\n",
       "      <td>0.003823</td>\n",
       "      <td>0.003823</td>\n",
       "    </tr>\n",
       "    <tr>\n",
       "      <th>6</th>\n",
       "      <td>0.000793</td>\n",
       "      <td>0.000866</td>\n",
       "    </tr>\n",
       "    <tr>\n",
       "      <th>7</th>\n",
       "      <td>0.000289</td>\n",
       "      <td>0.000361</td>\n",
       "    </tr>\n",
       "    <tr>\n",
       "      <th>8</th>\n",
       "      <td>0.000361</td>\n",
       "      <td>0.000361</td>\n",
       "    </tr>\n",
       "    <tr>\n",
       "      <th>9</th>\n",
       "      <td>0.000433</td>\n",
       "      <td>0.000433</td>\n",
       "    </tr>\n",
       "    <tr>\n",
       "      <th>10</th>\n",
       "      <td>0.001010</td>\n",
       "      <td>0.001010</td>\n",
       "    </tr>\n",
       "    <tr>\n",
       "      <th>11</th>\n",
       "      <td>0.001154</td>\n",
       "      <td>0.001154</td>\n",
       "    </tr>\n",
       "    <tr>\n",
       "      <th>12</th>\n",
       "      <td>0.000289</td>\n",
       "      <td>0.000289</td>\n",
       "    </tr>\n",
       "    <tr>\n",
       "      <th>13</th>\n",
       "      <td>0.001154</td>\n",
       "      <td>0.001154</td>\n",
       "    </tr>\n",
       "    <tr>\n",
       "      <th>14</th>\n",
       "      <td>0.000361</td>\n",
       "      <td>0.000361</td>\n",
       "    </tr>\n",
       "    <tr>\n",
       "      <th>15</th>\n",
       "      <td>0.000072</td>\n",
       "      <td>0.000072</td>\n",
       "    </tr>\n",
       "    <tr>\n",
       "      <th>16</th>\n",
       "      <td>0.000000</td>\n",
       "      <td>0.000000</td>\n",
       "    </tr>\n",
       "    <tr>\n",
       "      <th>17</th>\n",
       "      <td>0.000000</td>\n",
       "      <td>0.000000</td>\n",
       "    </tr>\n",
       "    <tr>\n",
       "      <th>18</th>\n",
       "      <td>0.000000</td>\n",
       "      <td>0.000000</td>\n",
       "    </tr>\n",
       "    <tr>\n",
       "      <th>19</th>\n",
       "      <td>0.000000</td>\n",
       "      <td>0.000000</td>\n",
       "    </tr>\n",
       "    <tr>\n",
       "      <th>20</th>\n",
       "      <td>0.000000</td>\n",
       "      <td>0.000000</td>\n",
       "    </tr>\n",
       "    <tr>\n",
       "      <th>21</th>\n",
       "      <td>0.000000</td>\n",
       "      <td>0.000000</td>\n",
       "    </tr>\n",
       "    <tr>\n",
       "      <th>22</th>\n",
       "      <td>0.000216</td>\n",
       "      <td>0.000216</td>\n",
       "    </tr>\n",
       "    <tr>\n",
       "      <th>23</th>\n",
       "      <td>0.000000</td>\n",
       "      <td>0.000000</td>\n",
       "    </tr>\n",
       "    <tr>\n",
       "      <th>24</th>\n",
       "      <td>0.000000</td>\n",
       "      <td>0.000000</td>\n",
       "    </tr>\n",
       "    <tr>\n",
       "      <th>25</th>\n",
       "      <td>0.000000</td>\n",
       "      <td>0.000000</td>\n",
       "    </tr>\n",
       "    <tr>\n",
       "      <th>26</th>\n",
       "      <td>0.000000</td>\n",
       "      <td>0.000000</td>\n",
       "    </tr>\n",
       "    <tr>\n",
       "      <th>27</th>\n",
       "      <td>0.000000</td>\n",
       "      <td>0.000000</td>\n",
       "    </tr>\n",
       "    <tr>\n",
       "      <th>28</th>\n",
       "      <td>0.000000</td>\n",
       "      <td>0.000000</td>\n",
       "    </tr>\n",
       "    <tr>\n",
       "      <th>29</th>\n",
       "      <td>0.000000</td>\n",
       "      <td>0.000000</td>\n",
       "    </tr>\n",
       "    <tr>\n",
       "      <th>30</th>\n",
       "      <td>0.000000</td>\n",
       "      <td>0.000000</td>\n",
       "    </tr>\n",
       "    <tr>\n",
       "      <th>31</th>\n",
       "      <td>0.000000</td>\n",
       "      <td>0.000000</td>\n",
       "    </tr>\n",
       "    <tr>\n",
       "      <th>32</th>\n",
       "      <td>0.000000</td>\n",
       "      <td>0.000000</td>\n",
       "    </tr>\n",
       "  </tbody>\n",
       "</table>\n",
       "</div>"
      ],
      "text/plain": [
       "    % of total on avg.  % of total on avg.\n",
       "0             0.946476            0.935656\n",
       "1             0.010027            0.010027\n",
       "2             0.011974            0.022650\n",
       "3             0.012479            0.012407\n",
       "4             0.009089            0.009161\n",
       "5             0.003823            0.003823\n",
       "6             0.000793            0.000866\n",
       "7             0.000289            0.000361\n",
       "8             0.000361            0.000361\n",
       "9             0.000433            0.000433\n",
       "10            0.001010            0.001010\n",
       "11            0.001154            0.001154\n",
       "12            0.000289            0.000289\n",
       "13            0.001154            0.001154\n",
       "14            0.000361            0.000361\n",
       "15            0.000072            0.000072\n",
       "16            0.000000            0.000000\n",
       "17            0.000000            0.000000\n",
       "18            0.000000            0.000000\n",
       "19            0.000000            0.000000\n",
       "20            0.000000            0.000000\n",
       "21            0.000000            0.000000\n",
       "22            0.000216            0.000216\n",
       "23            0.000000            0.000000\n",
       "24            0.000000            0.000000\n",
       "25            0.000000            0.000000\n",
       "26            0.000000            0.000000\n",
       "27            0.000000            0.000000\n",
       "28            0.000000            0.000000\n",
       "29            0.000000            0.000000\n",
       "30            0.000000            0.000000\n",
       "31            0.000000            0.000000\n",
       "32            0.000000            0.000000"
      ]
     },
     "execution_count": 36,
     "metadata": {},
     "output_type": "execute_result"
    }
   ],
   "source": [
    "# freq_table(notes_original, notes_generated)\n",
    "temp_freq_table = freq_table(truth=notes_original,output=notes_generated).to_numpy()\n",
    "temp_freq_table\n",
    "freq_table_arr = np.zeros((2, 33, 4))\n",
    "\n",
    "freq_table_arr[0, ...] = temp_freq_table\n",
    "freq_table_arr[1, ...] = temp_freq_table\n",
    "freq_table_arr\n",
    "avg_model_run_freq_table = np.mean(freq_table_arr, axis=0)\n",
    "# avg_model_run_freq_table = pd.DataFrame(data = avg_model_run_freq_table[:,[1,3]], columns= ['Truth Avg Count', '% of total on avg.','Observed Avg Count','% of total on avg.'])\n",
    "avg_model_run_freq_table = pd.DataFrame(data = avg_model_run_freq_table[:,[1,3]], columns= ['% of truth AVG','% of pred AVG'])\n",
    "\n",
    "avg_model_run_freq_table"
   ]
  },
  {
   "cell_type": "code",
   "execution_count": 22,
   "metadata": {},
   "outputs": [
    {
     "name": "stdout",
     "output_type": "stream",
     "text": [
      "[[3 4 5 6]]\n"
     ]
    },
    {
     "data": {
      "text/html": [
       "<div>\n",
       "<style scoped>\n",
       "    .dataframe tbody tr th:only-of-type {\n",
       "        vertical-align: middle;\n",
       "    }\n",
       "\n",
       "    .dataframe tbody tr th {\n",
       "        vertical-align: top;\n",
       "    }\n",
       "\n",
       "    .dataframe thead th {\n",
       "        text-align: right;\n",
       "    }\n",
       "</style>\n",
       "<table border=\"1\" class=\"dataframe\">\n",
       "  <thead>\n",
       "    <tr style=\"text-align: right;\">\n",
       "      <th></th>\n",
       "      <th>Saturation</th>\n",
       "      <th>F1</th>\n",
       "      <th>Precision</th>\n",
       "      <th>Recall</th>\n",
       "    </tr>\n",
       "  </thead>\n",
       "  <tbody>\n",
       "    <tr>\n",
       "      <th>average</th>\n",
       "      <td>3</td>\n",
       "      <td>4</td>\n",
       "      <td>5</td>\n",
       "      <td>6</td>\n",
       "    </tr>\n",
       "  </tbody>\n",
       "</table>\n",
       "</div>"
      ],
      "text/plain": [
       "         Saturation  F1  Precision  Recall\n",
       "average           3   4          5       6"
      ]
     },
     "execution_count": 22,
     "metadata": {},
     "output_type": "execute_result"
    }
   ],
   "source": [
    "array_metric_avgs = np.matrix((3,4,5,6))\n",
    "print(array_metric_avgs)\n",
    "single_metrics_df = pd.DataFrame(data = array_metric_avgs,columns = ['Saturation', 'F1', 'Precision', 'Recall'], index = ['average'])\n",
    "single_metrics_df\n"
   ]
  },
  {
   "cell_type": "code",
   "execution_count": 3,
   "metadata": {},
   "outputs": [],
   "source": [
    "import torch\n",
    "weights = weights_matrix()"
   ]
  },
  {
   "cell_type": "code",
   "execution_count": 4,
   "metadata": {},
   "outputs": [
    {
     "data": {
      "text/plain": [
       "torch.Size([12, 499, 435])"
      ]
     },
     "execution_count": 4,
     "metadata": {},
     "output_type": "execute_result"
    }
   ],
   "source": [
    "'''MODEL OUTPUT\n",
    "~~~~~~~~~~~~~~~\n",
    "output shape: torch.Size([12, 499, 435])\n",
    "truth notes shape: torch.Size([12, 499])'''\n",
    "\n",
    "\n",
    "\n",
    "probs = []\n",
    "for i in range(0, 499):\n",
    "    prob = np.random.uniform(0,1,435)\n",
    "    probs.append(prob)\n",
    "output = torch.tensor(probs)\n",
    "output = output.unsqueeze(1).repeat(1, 12, 1)\n",
    "output = torch.transpose(output, 0, 1)\n",
    "output.shape"
   ]
  },
  {
   "cell_type": "code",
   "execution_count": 8,
   "metadata": {},
   "outputs": [
    {
     "data": {
      "text/plain": [
       "torch.Size([12, 499])"
      ]
     },
     "execution_count": 8,
     "metadata": {},
     "output_type": "execute_result"
    }
   ],
   "source": [
    "#truth array length 4, 6 different chunks\n",
    "truth = []\n",
    "for i in range(0, 12):\n",
    "    truth_notes = np.random.randint(0,435,499)\n",
    "    truth.append(truth_notes)\n",
    "\n",
    "truth_tensor = torch.tensor(truth)\n",
    "truth_tensor.shape\n"
   ]
  },
  {
   "cell_type": "code",
   "execution_count": 9,
   "metadata": {},
   "outputs": [
    {
     "data": {
      "text/plain": [
       "torch.Size([12, 499, 435])"
      ]
     },
     "execution_count": 9,
     "metadata": {},
     "output_type": "execute_result"
    }
   ],
   "source": [
    "truth_one_hot = torch.nn.functional.one_hot(truth_tensor, num_classes= -1)\n",
    "#each item in batch has its own one-hot, input is [12,499], transform to [12,499,435]\n",
    "truth_one_hot.shape"
   ]
  },
  {
   "cell_type": "code",
   "execution_count": 10,
   "metadata": {},
   "outputs": [
    {
     "data": {
      "text/plain": [
       "torch.Size([12, 499, 435])"
      ]
     },
     "execution_count": 10,
     "metadata": {},
     "output_type": "execute_result"
    }
   ],
   "source": [
    "\n",
    "incorrect_vals = truth_one_hot - output\n",
    "incorrect_vals.shape\n",
    "# incorrect_values = truth_one_hot - candidates_tensor\n"
   ]
  },
  {
   "cell_type": "code",
   "execution_count": 31,
   "metadata": {},
   "outputs": [
    {
     "data": {
      "text/plain": [
       "torch.Size([12, 499])"
      ]
     },
     "execution_count": 31,
     "metadata": {},
     "output_type": "execute_result"
    }
   ],
   "source": [
    "truth_tensor.shape"
   ]
  },
  {
   "cell_type": "code",
   "execution_count": 33,
   "metadata": {},
   "outputs": [],
   "source": [
    "# truth = np.array(truth)\n",
    "real_weights = weights[truth_tensor,:]\n",
    "real_weights = torch.tensor(real_weights)"
   ]
  },
  {
   "cell_type": "code",
   "execution_count": 20,
   "metadata": {},
   "outputs": [
    {
     "data": {
      "text/plain": [
       "array([[[3, 4],\n",
       "        [7, 8]],\n",
       "\n",
       "       [[3, 4],\n",
       "        [5, 6]]])"
      ]
     },
     "execution_count": 20,
     "metadata": {},
     "output_type": "execute_result"
    }
   ],
   "source": [
    "a = np.array(([0,2],[0,1]))\n",
    "b = np.array(([3,4], [5,6],[7,8], [9,10]))\n",
    "b[a,:]"
   ]
  },
  {
   "cell_type": "code",
   "execution_count": 30,
   "metadata": {},
   "outputs": [
    {
     "data": {
      "text/plain": [
       "(12, 499, 435)"
      ]
     },
     "execution_count": 30,
     "metadata": {},
     "output_type": "execute_result"
    }
   ],
   "source": [
    "real_weights.shape\n",
    "# incorrect_vals.shape"
   ]
  },
  {
   "cell_type": "code",
   "execution_count": 40,
   "metadata": {},
   "outputs": [
    {
     "data": {
      "text/plain": [
       "tensor([[[0.8865, 0.0691, 0.6090,  ..., 0.4148, 0.4815, 0.0469],\n",
       "         [1.1643, 0.1828, 0.7980,  ..., 0.7093, 0.3516, 0.0769],\n",
       "         [0.0326, 0.4085, 0.1645,  ..., 0.6180, 0.9314, 0.5275],\n",
       "         ...,\n",
       "         [0.4342, 0.7627, 0.5314,  ..., 0.2164, 0.4804, 0.5370],\n",
       "         [0.0143, 0.3558, 0.0131,  ..., 0.0041, 0.7561, 0.5336],\n",
       "         [0.8831, 0.2247, 0.7481,  ..., 0.7444, 0.4262, 0.5814]],\n",
       "\n",
       "        [[0.8865, 0.0691, 0.6090,  ..., 0.4148, 0.4815, 0.0469],\n",
       "         [1.1643, 0.1828, 0.7980,  ..., 0.7093, 0.3516, 0.0769],\n",
       "         [0.0326, 0.4085, 0.1645,  ..., 0.6180, 0.9314, 0.5275],\n",
       "         ...,\n",
       "         [0.4342, 0.7627, 0.5314,  ..., 0.2164, 0.4804, 0.5370],\n",
       "         [0.0143, 0.3558, 0.0131,  ..., 0.0041, 0.7561, 0.5336],\n",
       "         [0.7065, 0.1798, 0.5985,  ..., 0.7444, 0.5738, 0.5814]],\n",
       "\n",
       "        [[0.8865, 0.0691, 0.6090,  ..., 0.4148, 0.4815, 0.0469],\n",
       "         [1.1643, 0.1828, 0.7980,  ..., 0.7093, 0.3516, 0.0769],\n",
       "         [0.0326, 0.4085, 0.1645,  ..., 0.6180, 0.9314, 0.5275],\n",
       "         ...,\n",
       "         [0.4342, 0.7627, 0.5314,  ..., 0.2164, 0.4804, 0.5370],\n",
       "         [0.0143, 0.3558, 0.0131,  ..., 0.0041, 0.7561, 0.5336],\n",
       "         [0.7653, 0.1947, 0.6483,  ..., 1.1166, 0.8607, 0.8721]],\n",
       "\n",
       "        ...,\n",
       "\n",
       "        [[0.8865, 0.0691, 0.6090,  ..., 0.4148, 0.4815, 0.0469],\n",
       "         [1.1643, 0.1828, 0.7980,  ..., 0.7093, 0.3516, 0.0769],\n",
       "         [0.0326, 0.4085, 0.1645,  ..., 0.6180, 0.9314, 0.5275],\n",
       "         ...,\n",
       "         [0.4342, 0.7627, 0.5314,  ..., 0.2164, 0.4804, 0.5370],\n",
       "         [0.0143, 0.3558, 0.0131,  ..., 0.0041, 0.7561, 0.5336],\n",
       "         [0.7065, 0.1798, 0.5985,  ..., 0.7444, 0.5738, 0.5814]],\n",
       "\n",
       "        [[0.8865, 0.0691, 0.6090,  ..., 0.4148, 0.4815, 0.0469],\n",
       "         [1.1643, 0.1828, 0.7980,  ..., 0.7093, 0.3516, 0.0769],\n",
       "         [0.0354, 0.4426, 0.1782,  ..., 0.9270, 1.3971, 0.7913],\n",
       "         ...,\n",
       "         [0.4342, 0.7627, 0.5314,  ..., 0.2164, 0.4804, 0.5370],\n",
       "         [0.0143, 0.3558, 0.0131,  ..., 0.0041, 0.7561, 0.5336],\n",
       "         [0.7065, 0.1798, 0.5985,  ..., 1.1166, 0.8607, 0.8721]],\n",
       "\n",
       "        [[0.8865, 0.0691, 0.6090,  ..., 0.4148, 0.4815, 0.0469],\n",
       "         [1.1643, 0.1828, 0.7980,  ..., 0.7093, 0.3516, 0.0769],\n",
       "         [0.0326, 0.4085, 0.1645,  ..., 0.6180, 0.9314, 0.5275],\n",
       "         ...,\n",
       "         [0.4342, 0.7627, 0.5314,  ..., 0.2164, 0.4804, 0.5370],\n",
       "         [0.0143, 0.3558, 0.0131,  ..., 0.0041, 0.7561, 0.5336],\n",
       "         [0.7065, 0.1798, 0.5985,  ..., 0.7444, 0.5738, 0.5814]]],\n",
       "       dtype=torch.float64)"
      ]
     },
     "execution_count": 40,
     "metadata": {},
     "output_type": "execute_result"
    }
   ],
   "source": [
    "loss = abs(torch.mul(real_weights,incorrect_vals))\n",
    "loss"
   ]
  },
  {
   "cell_type": "code",
   "execution_count": 42,
   "metadata": {},
   "outputs": [
    {
     "data": {
      "text/plain": [
       "tensor(0.5338, dtype=torch.float64)"
      ]
     },
     "execution_count": 42,
     "metadata": {},
     "output_type": "execute_result"
    }
   ],
   "source": [
    "loss_avg = torch.mean(loss)\n",
    "loss_avg"
   ]
  },
  {
   "cell_type": "code",
   "execution_count": null,
   "metadata": {},
   "outputs": [],
   "source": []
  }
 ],
 "metadata": {
  "interpreter": {
   "hash": "aee8b7b246df8f9039afb4144a1f6fd8d2ca17a180786b69acc140d282b71a49"
  },
  "kernelspec": {
   "display_name": "Python 3.9.2 64-bit",
   "name": "python3"
  },
  "language_info": {
   "codemirror_mode": {
    "name": "ipython",
    "version": 3
   },
   "file_extension": ".py",
   "mimetype": "text/x-python",
   "name": "python",
   "nbconvert_exporter": "python",
   "pygments_lexer": "ipython3",
   "version": "3.9.7"
  },
  "orig_nbformat": 4
 },
 "nbformat": 4,
 "nbformat_minor": 2
}
