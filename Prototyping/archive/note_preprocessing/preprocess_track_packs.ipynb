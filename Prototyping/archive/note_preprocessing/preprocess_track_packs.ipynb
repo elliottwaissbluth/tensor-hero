{
 "cells": [
  {
   "cell_type": "markdown",
   "metadata": {},
   "source": [
    "## this notebook has been productionized in ./tensor_hero/preprocessing/data.py"
   ]
  },
  {
   "cell_type": "code",
   "execution_count": 23,
   "metadata": {},
   "outputs": [
    {
     "name": "stdout",
     "output_type": "stream",
     "text": [
      "[WindowsPath('c:/Users/ewais/Documents/GitHub/tensor-hero/Training Data - Copy/Unprocessed/Guitar Hero X')]\n"
     ]
    }
   ],
   "source": [
    "# To process the training data, we will use the populated_processed_folder()\n",
    "from pathlib import Path\n",
    "import os\n",
    "from tensor_hero.preprocessing.data import populate_processed_folder, populate_with_simplified_notes, __get_audio_file_name\n",
    "import shutil\n",
    "\n",
    "unprocessed_path = Path.cwd() / 'Training Data - Copy' / 'Unprocessed'\n",
    "processed_path = Path.cwd() / 'Training Data - Copy' / 'Processed'\n",
    "\n",
    "def check_for_sub_packs(unprocessed_path):\n",
    "    '''\n",
    "    Checks whether the track packs in unprocessed_path link directly to songs or if they are organized\n",
    "    into sub-packs. Returns list of paths of track packs with sub-packs\n",
    "    \n",
    "    ~~~~ ARGUMENTS ~~~~\n",
    "    - unprocessed_path (Path): Path to unprocessed training data\n",
    "    \n",
    "    ~~~~ RETURNS ~~~~\n",
    "    - list of Paths: Paths to track pack directories that contain sub-packs\n",
    "    '''\n",
    "    sub_packs = []\n",
    "    for track_pack in os.listdir(unprocessed_path):\n",
    "        if track_pack in ['Thumbs.db', '.DS_Store']:\n",
    "            continue\n",
    "        for sub_pack in os.listdir(unprocessed_path / track_pack):\n",
    "            if sub_pack in ['Thumbs.db', '.DS_Store']:\n",
    "                continue\n",
    "            for song in os.listdir(unprocessed_path / track_pack / sub_pack):\n",
    "                if song in ['Thumbs.db', '.DS_Store']:\n",
    "                    continue\n",
    "                if os.path.isdir(unprocessed_path / track_pack / sub_pack / song):\n",
    "                    sub_packs.append(unprocessed_path / track_pack)\n",
    "                    break\n",
    "                break\n",
    "            break\n",
    "    return sub_packs\n",
    "\n",
    "sub_packs = check_for_sub_packs(unprocessed_path)\n",
    "print(sub_packs)\n",
    "\n",
    "def pop_sub_packs(sub_packs):\n",
    "    '''\n",
    "    Takes the songs within the sub-packs and copies them outside their sub-pack directory to the track pack directory\n",
    "    \n",
    "    ~~~~ ARGUMENTS ~~~~\n",
    "    - sub_packs (list of Paths): Path to track pack directories that contain sub-packs\n",
    "                                 Should be the output of check_for_sub_packs\n",
    "    '''\n",
    "    # Parse each sub-pack and move the songs to the track pack directory, then delete the sub-pack\n",
    "    for track_pack in sub_packs:\n",
    "        for sub_pack in [track_pack / x for x in os.listdir(track_pack) if x not in ['Thumbs.db', '.DS_Store']]:\n",
    "            for song in [track_pack / sub_pack / y for y in os.listdir(track_pack / sub_pack) if y not in ['Thumbs.db', '.DS_Store']]:\n",
    "                # Move song directory outside sub_pack\n",
    "                if os.path.exists(track_pack / song.stem):\n",
    "                    shutil.rmtree(track_pack / song.stem)\n",
    "                shutil.move(song, track_pack / song.stem)\n",
    "            # Delete sub_pack folder\n",
    "            shutil.rmtree(sub_pack)\n",
    "\n",
    "pop_sub_packs(sub_packs)"
   ]
  }
 ],
 "metadata": {
  "interpreter": {
   "hash": "1131efc7635b497546d7e8fbc76ad9d1f9d5d5d7857bcde935d6feea39d08984"
  },
  "kernelspec": {
   "display_name": "Python 3.8.6 64-bit",
   "language": "python",
   "name": "python3"
  },
  "language_info": {
   "codemirror_mode": {
    "name": "ipython",
    "version": 3
   },
   "file_extension": ".py",
   "mimetype": "text/x-python",
   "name": "python",
   "nbconvert_exporter": "python",
   "pygments_lexer": "ipython3",
   "version": "3.8.6"
  },
  "orig_nbformat": 4
 },
 "nbformat": 4,
 "nbformat_minor": 2
}
