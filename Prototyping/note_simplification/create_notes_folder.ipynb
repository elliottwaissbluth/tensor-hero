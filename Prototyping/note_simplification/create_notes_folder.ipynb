{
 "cells": [
  {
   "cell_type": "markdown",
   "source": [
    "## The purpose of this notebook is to take all the simplified notes files and put them into a single folder for Forrest to work with."
   ],
   "metadata": {}
  },
  {
   "cell_type": "markdown",
   "source": [
    "## NOTE: This only applies to the 'notes_simplified.npy' files"
   ],
   "metadata": {}
  },
  {
   "cell_type": "code",
   "execution_count": 7,
   "source": [
    "from tqdm import tqdm\n",
    "import os\n",
    "from pathlib import Path\n",
    "import shutil\n",
    "\n",
    "processed_directory = Path(r'/Users/ewaissbluth/Documents/GitHub/tensor-hero/Training Data/Training Data/Processed')\n",
    "condensed_directory = Path(r'/Users/ewaissbluth/Documents/GitHub/tensor-hero/Training Data/Training Data/Condensed Notes')\n",
    "\n",
    "# Parse through directory\n",
    "for x in tqdm(os.listdir(processed_directory)):\n",
    "    # Check to see if the .DS_Store file is mysteriously in the directory, skip if so\n",
    "    if str(x)[-9:] == '.DS_Store':\n",
    "        print('.DS_Store present in directory, continuing')\n",
    "        continue\n",
    "\n",
    "    # Make directory for track pack if it doesn't already exist\n",
    "    if not os.path.exists(condensed_directory / x):\n",
    "        os.mkdir(condensed_directory / x)\n",
    "\n",
    "    for y in os.listdir(processed_directory / x):\n",
    "        # Make directory for song if it doesn't already exist\n",
    "        if not os.path.exists(condensed_directory / x / y):\n",
    "            os.mkdir(condensed_directory / x / y)\n",
    "\n",
    "        if os.path.isfile(processed_directory / x / y / 'notes_simplified.npy') and os.path.isfile(processed_directory / x / y / 'notes.npy'):\n",
    "            # Check to see if the simplified file already exists, copy if not\n",
    "            if not os.path.isfile(condensed_directory / x / y / 'notes_simplified.npy'):\n",
    "                shutil.copy(processed_directory / x / y / 'notes_simplified.npy', condensed_directory / x / y / 'notes_simplified.npy')\n",
    "            # Check to see if the notes file already exists, copy if not\n",
    "            if not os.path.isfile(condensed_directory / x / y / 'notes.npy'):\n",
    "                shutil.copy(processed_directory / x / y / 'notes.npy', condensed_directory / x / y / 'notes.npy')\n",
    "        else:\n",
    "            print('No notes_simplified.npy or notes.npy file at {}'.format(str(processed_directory / x)))\n",
    "        "
   ],
   "outputs": [
    {
     "output_type": "stream",
     "name": "stderr",
     "text": [
      " 27%|██▋       | 3/11 [00:00<00:00, 22.05it/s]"
     ]
    },
    {
     "output_type": "stream",
     "name": "stdout",
     "text": [
      "No notes_simplified.npy or notes.npy file at /Users/ewaissbluth/Documents/GitHub/tensor-hero/Training Data/Training Data/Processed/Facelift Pack 2\n",
      "No notes_simplified.npy or notes.npy file at /Users/ewaissbluth/Documents/GitHub/tensor-hero/Training Data/Training Data/Processed/Facelift Pack 2\n",
      "No notes_simplified.npy or notes.npy file at /Users/ewaissbluth/Documents/GitHub/tensor-hero/Training Data/Training Data/Processed/Facelift Pack 2\n",
      ".DS_Store present in directory, continuing\n"
     ]
    },
    {
     "output_type": "stream",
     "name": "stderr",
     "text": [
      " 55%|█████▍    | 6/11 [00:00<00:00,  8.50it/s]"
     ]
    },
    {
     "output_type": "stream",
     "name": "stdout",
     "text": [
      "No notes_simplified.npy or notes.npy file at /Users/ewaissbluth/Documents/GitHub/tensor-hero/Training Data/Training Data/Processed/Community Track Pack 6\n",
      "No notes_simplified.npy or notes.npy file at /Users/ewaissbluth/Documents/GitHub/tensor-hero/Training Data/Training Data/Processed/Paradigm\n"
     ]
    },
    {
     "output_type": "stream",
     "name": "stderr",
     "text": [
      " 91%|█████████ | 10/11 [00:01<00:00,  7.00it/s]"
     ]
    },
    {
     "output_type": "stream",
     "name": "stdout",
     "text": [
      "No notes_simplified.npy or notes.npy file at /Users/ewaissbluth/Documents/GitHub/tensor-hero/Training Data/Training Data/Processed/Anti Hero\n"
     ]
    },
    {
     "output_type": "stream",
     "name": "stderr",
     "text": [
      "100%|██████████| 11/11 [00:01<00:00,  8.08it/s]\n"
     ]
    }
   ],
   "metadata": {}
  }
 ],
 "metadata": {
  "orig_nbformat": 4,
  "language_info": {
   "name": "python",
   "version": "3.9.6",
   "mimetype": "text/x-python",
   "codemirror_mode": {
    "name": "ipython",
    "version": 3
   },
   "pygments_lexer": "ipython3",
   "nbconvert_exporter": "python",
   "file_extension": ".py"
  },
  "kernelspec": {
   "name": "python3",
   "display_name": "Python 3.9.6 64-bit"
  },
  "interpreter": {
   "hash": "aee8b7b246df8f9039afb4144a1f6fd8d2ca17a180786b69acc140d282b71a49"
  }
 },
 "nbformat": 4,
 "nbformat_minor": 2
}