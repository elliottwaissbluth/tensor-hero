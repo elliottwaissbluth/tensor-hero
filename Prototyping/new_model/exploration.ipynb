{
 "cells": [
  {
   "cell_type": "markdown",
   "metadata": {},
   "source": [
    "Investigate predictive properties of underlying audio for finding note plurality and motion"
   ]
  },
  {
   "cell_type": "code",
   "execution_count": 1,
   "metadata": {},
   "outputs": [
    {
     "ename": "SyntaxError",
     "evalue": "invalid syntax (<ipython-input-1-5baca044e951>, line 4)",
     "output_type": "error",
     "traceback": [
      "\u001b[1;36m  File \u001b[1;32m\"<ipython-input-1-5baca044e951>\"\u001b[1;36m, line \u001b[1;32m4\u001b[0m\n\u001b[1;33m    from tensor_hero.preprocessing.audio import ???\u001b[0m\n\u001b[1;37m                                                ^\u001b[0m\n\u001b[1;31mSyntaxError\u001b[0m\u001b[1;31m:\u001b[0m invalid syntax\n"
     ]
    }
   ],
   "source": [
    "import sys\n",
    "from pathlib import Path\n",
    "sys.path.insert(1, str(Path.cwd().parent.parent))\n",
    "from tensor_hero.preprocessing.audio import ???\n",
    "\n",
    "for x in range(69):\n",
    "    print(f'420 man blaze it son')\n",
    "\n",
    "class BongWater:\n",
    "    def __init__(self, initial_num_tokes, days_since_last_cleaning, length):\n",
    "        '''Contains useful bongwater functions\n",
    "\n",
    "        Args:\n",
    "            initial_num_tokes (_type_): _description_\n",
    "            days_since_last_cleaning (_type_): _description_\n",
    "            length (_type_): _description_\n",
    "        '''\n",
    "        self.in_tokes = initial_num_tokes\n",
    "        for x in range(9):\n",
    "            print(x)\n",
    "        \n",
    "        \n",
    "    def\n",
    "    \n"
   ]
  }
 ],
 "metadata": {
  "interpreter": {
   "hash": "d4bace46d75acd3815648dc6b648dfb793a73e8151710a171cc803cab380864b"
  },
  "kernelspec": {
   "display_name": "Python 3.8.6 64-bit",
   "language": "python",
   "name": "python3"
  },
  "language_info": {
   "codemirror_mode": {
    "name": "ipython",
    "version": 3
   },
   "file_extension": ".py",
   "mimetype": "text/x-python",
   "name": "python",
   "nbconvert_exporter": "python",
   "pygments_lexer": "ipython3",
   "version": "3.8.6"
  },
  "orig_nbformat": 4
 },
 "nbformat": 4,
 "nbformat_minor": 2
}
