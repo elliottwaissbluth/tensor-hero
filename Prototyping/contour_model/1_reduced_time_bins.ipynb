{
 "cells": [
  {
   "cell_type": "markdown",
   "source": [
    "## Find a way to take the notes arrays and bin the time events into a less granular representation"
   ],
   "metadata": {}
  },
  {
   "cell_type": "markdown",
   "source": [
    "Right now, we have 100 possible places where a note might go. We should reduce this to something like 10-20.\n",
    "\n",
    "### Steps \n",
    "1. Create code to reduce time bins to an arbitrary number of bins (should be changeable)\n",
    "2. Run some notes arrays through it given various time bin choices and play the output. What is the most we can reduce the bins without significantly affecting performance.\n",
    "3. Taking our cue from the onset detection ML methodology of that one CNN paper, make the ground truth vectors true around all of the valid onsets rather than just the specific onset we care about\n",
    "- In order to implement this, we might have to add something to nn.embedding that expands the 1s in the GT vectors to the 1-2 zeros surrounding those 1s when the vector is corresponding to a time"
   ],
   "metadata": {}
  }
 ],
 "metadata": {
  "orig_nbformat": 4,
  "language_info": {
   "name": "python"
  }
 },
 "nbformat": 4,
 "nbformat_minor": 2
}