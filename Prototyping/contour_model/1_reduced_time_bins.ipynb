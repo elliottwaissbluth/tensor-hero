{
 "cells": [
  {
   "cell_type": "markdown",
   "metadata": {},
   "source": [
    "## Find a way to take the notes arrays and bin the time events into a less granular representation"
   ]
  },
  {
   "cell_type": "markdown",
   "metadata": {},
   "source": [
    "Right now, we have 100 possible places where a note might go. We should reduce this to something like 10-20.\n",
    "\n",
    "### Steps \n",
    "1. Create code to reduce time bins to an arbitrary number of bins (should be changeable)\n",
    "2. Run some notes arrays through it given various time bin choices and play the output. What is the most we can reduce the bins without significantly affecting performance.\n",
    "3. Taking our cue from the onset detection ML methodology of that one CNN paper, make the ground truth vectors true around all of the valid onsets rather than just the specific onset we care about\n",
    "- In order to implement this, we might have to add something to nn.embedding that expands the 1s in the GT vectors to the 1-2 zeros surrounding those 1s when the vector is corresponding to a time"
   ]
  },
  {
   "cell_type": "markdown",
   "metadata": {},
   "source": [
    "1. Load in a notes array\n",
    "2. Create a dictionary where keys are indices of original 10ms bin onsets and values are indices of new onsets\n",
    "3. "
   ]
  },
  {
   "cell_type": "code",
   "execution_count": 6,
   "metadata": {},
   "outputs": [
    {
     "name": "stdout",
     "output_type": "stream",
     "text": [
      "(13931,)\n",
      "17494.0\n",
      "17494.0\n",
      "notes_array_reduced shape: (2788,)\n",
      "notes_array shape: (13931,)\n",
      "notes_array_returned shape: (13941,)\n",
      "reduction factor: 5.0\n",
      "opposite_reduction factor: 0.2\n"
     ]
    }
   ],
   "source": [
    "import numpy as np\n",
    "from pathlib import Path\n",
    "import math\n",
    "\n",
    "notes_array = np.load(Path.cwd().parent.parent / 'example_song' / 'notes_simplified.npy')\n",
    "print(notes_array.shape)\n",
    "\n",
    "def notes_array_time_adjust(notes_array, time_bins_per_second, reverse=False):\n",
    "    '''\n",
    "    Takes a notes array with 100 ticks per second and adjusts it to have time_bins_per_second\n",
    "    time bins per second. Will snap to the nearest integer during division.\n",
    "\n",
    "    ~~~~ ARGUMENTS ~~~~\n",
    "    - notes_array (1D numpy array): notes_array with 100 time bins per second\n",
    "    - time_bins_per_second (int): desired number of time bins per second \n",
    "    - reverse (bool): if True, will expand from time_bins_per_second to 100 time bins per second\n",
    "\n",
    "    ~~~~ RETURNS ~~~~\n",
    "    - notes_array_reduced (1D numpy array): note_array with time_bins_per_second time bins per second\n",
    "    - reduction_factor (float): the factor the time bins were reduced by\n",
    "    '''\n",
    "    if not reverse:\n",
    "        reduction_factor = 100/time_bins_per_second\n",
    "    else:\n",
    "        reduction_factor = time_bins_per_second/100\n",
    "    onset_indices = np.where(notes_array > 0)[0]\n",
    "    notes_array_reduced = np.zeros(shape=(math.ceil(notes_array.shape[0]/reduction_factor)+1))\n",
    "   \n",
    "    # Maps original onset times to reduced onset times \n",
    "    onset_mapping = dict([(x, round(x/reduction_factor)) for x in onset_indices])\n",
    "\n",
    "    # Populate notes_array_reduced with notes\n",
    "    for onset, reduced_onset in onset_mapping.items():\n",
    "       notes_array_reduced[reduced_onset] = notes_array[onset] \n",
    "\n",
    "    return notes_array_reduced, reduction_factor\n",
    "\n",
    "notes_array_reduced, reduction_factor = notes_array_time_adjust(notes_array, 20) \n",
    "\n",
    "notes_array_returned, opposite_reduction_factor = notes_array_time_adjust(notes_array_reduced, 20, reverse=True)\n",
    "\n",
    "print(np.sum(notes_array_reduced))\n",
    "print(np.sum(notes_array))\n",
    "print(f'notes_array_reduced shape: {notes_array_reduced.shape}')\n",
    "print(f'notes_array shape: {notes_array.shape}')\n",
    "print(f'notes_array_returned shape: {notes_array_returned.shape}')\n",
    "print(f'reduction factor: {reduction_factor}')\n",
    "print(f'opposite_reduction factor: {opposite_reduction_factor}')\n"
   ]
  },
  {
   "cell_type": "markdown",
   "metadata": {},
   "source": [
    "Generate a few test songs to run through in clone hero"
   ]
  },
  {
   "cell_type": "code",
   "execution_count": 2,
   "metadata": {},
   "outputs": [
    {
     "ename": "SystemExit",
     "evalue": "0",
     "output_type": "error",
     "traceback": [
      "An exception has occurred, use %tb to see the full traceback.\n",
      "\u001b[1;31mSystemExit\u001b[0m\u001b[1;31m:\u001b[0m 0\n"
     ]
    },
    {
     "name": "stderr",
     "output_type": "stream",
     "text": [
      "C:\\Users\\ewais\\AppData\\Local\\Programs\\Python\\Python38\\lib\\site-packages\\IPython\\core\\interactiveshell.py:3425: UserWarning: To exit: use 'exit', 'quit', or Ctrl-D.\n",
      "  warn(\"To exit: use 'exit', 'quit', or Ctrl-D.\", stacklevel=1)\n"
     ]
    }
   ],
   "source": [
    "import sys\n",
    "sys.path.insert(1, str(Path.cwd().parent.parent))\n",
    "from tensor_hero.inference import write_song_from_notes_array\n",
    "sys.exit(0)\n",
    "\n",
    "song_metadata_5_tbps = {'Name' : '5_tbps',\n",
    "                'Artist' : 'Forrest',       # Forrest is the honorary author of all of our output\n",
    "                'Charter' : 'tensorhero',\n",
    "                'Offset' : 0,\n",
    "                'Resolution' : 192,\n",
    "                'Genre' : 'electronic',\n",
    "                'MediaType' : 'cd',\n",
    "                'MusicStream' : 'song.ogg'}\n",
    "outfolder_5_tbps = Path.cwd() / 'time_reduce_tests' / '5_tbps'\n",
    "notes_array_5_tbps, _ = notes_array_time_adjust(notes_array, 5) \n",
    "notes_array_5_tbps, _ = notes_array_time_adjust(notes_array_5_tbps, 5, reverse=True)\n",
    "write_song_from_notes_array(song_metadata_5_tbps, notes_array_5_tbps, outfolder_5_tbps)\n",
    "\n",
    "song_metadata_10_tbps = {'Name' : '10_tbps',\n",
    "                'Artist' : 'Forrest',       # Forrest is the honorary author of all of our output\n",
    "                'Charter' : 'tensorhero',\n",
    "                'Offset' : 0,\n",
    "                'Resolution' : 192,\n",
    "                'Genre' : 'electronic',\n",
    "                'MediaType' : 'cd',\n",
    "                'MusicStream' : 'song.ogg'}\n",
    "outfolder_10_tbps = Path.cwd() / 'time_reduce_tests' / '10_tbps'\n",
    "notes_array_10_tbps, _ = notes_array_time_adjust(notes_array, 10) \n",
    "notes_array_10_tbps, _ = notes_array_time_adjust(notes_array_10_tbps, 10, reverse=True)\n",
    "write_song_from_notes_array(song_metadata_10_tbps, notes_array_10_tbps, outfolder_10_tbps)\n",
    "\n",
    "song_metadata_15_tbps = {'Name' : '15_tbps',\n",
    "                'Artist' : 'Forrest',       # Forrest is the honorary author of all of our output\n",
    "                'Charter' : 'tensorhero',\n",
    "                'Offset' : 0,\n",
    "                'Resolution' : 192,\n",
    "                'Genre' : 'electronic',\n",
    "                'MediaType' : 'cd',\n",
    "                'MusicStream' : 'song.ogg'}\n",
    "outfolder_15_tbps = Path.cwd() / 'time_reduce_tests' / '15_tbps'\n",
    "notes_array_15_tbps, _ = notes_array_time_adjust(notes_array, 15) \n",
    "notes_array_15_tbps, _ = notes_array_time_adjust(notes_array_15_tbps, 15, reverse=True)\n",
    "write_song_from_notes_array(song_metadata_15_tbps, notes_array_15_tbps, outfolder_15_tbps)\n",
    "\n",
    "song_metadata_20_tbps = {'Name' : '20_tbps',\n",
    "                'Artist' : 'Forrest',       # Forrest is the honorary author of all of our output\n",
    "                'Charter' : 'tensorhero',\n",
    "                'Offset' : 0,\n",
    "                'Resolution' : 192,\n",
    "                'Genre' : 'electronic',\n",
    "                'MediaType' : 'cd',\n",
    "                'MusicStream' : 'song.ogg'}\n",
    "outfolder_20_tbps = Path.cwd() / 'time_reduce_tests' / '20_tbps'\n",
    "notes_array_20_tbps, _ = notes_array_time_adjust(notes_array, 20) \n",
    "notes_array_20_tbps, _ = notes_array_time_adjust(notes_array_20_tbps, 20, reverse=True)\n",
    "write_song_from_notes_array(song_metadata_20_tbps, notes_array_20_tbps, outfolder_20_tbps)"
   ]
  },
  {
   "cell_type": "markdown",
   "metadata": {},
   "source": [
    "After testing, everything from the example song was pretty good down through 10 tbps. At 5 tbps, a lot of notes were dropped. Interestingly enough, the chart was reminiscent of a medium difficulty chart and matched the original quite well."
   ]
  },
  {
   "cell_type": "markdown",
   "metadata": {},
   "source": [
    "Now we'll try for a faster paced song, Trail of Broken Hearts by Dragonforce"
   ]
  },
  {
   "cell_type": "code",
   "execution_count": null,
   "metadata": {},
   "outputs": [],
   "source": [
    "from tensor_hero.preprocessing.data import __remove_release_keys, __remove_modifiers\n",
    "from tensor_hero.preprocessing.chart import chart2tensor\n",
    "sys.exit(0)\n",
    "\n",
    "chart_path = Path.cwd().parent.parent / 'Training_Data' / 'Unprocessed' / 'Guitar Hero X' / 'dragonforce-trailofbrokenheart' / 'notes.chart'\n",
    "notes_array = chart2tensor(chart_path)\n",
    "notes_array = __remove_modifiers(__remove_release_keys(notes_array))\n",
    "\n",
    "song_metadata_5_tbps_fast = {'Name' : '5_tbps_fast',\n",
    "                'Artist' : 'Forrest',       # Forrest is the honorary author of all of our output\n",
    "                'Charter' : 'tensorhero',\n",
    "                'Offset' : 0,\n",
    "                'Resolution' : 192,\n",
    "                'Genre' : 'electronic',\n",
    "                'MediaType' : 'cd',\n",
    "                'MusicStream' : 'song.ogg'}\n",
    "outfolder_5_tbps_fast = Path.cwd() / 'time_reduce_tests' / '5_tbps_fast'\n",
    "notes_array_5_tbps_fast, _ = notes_array_time_adjust(notes_array, 5) \n",
    "notes_array_5_tbps_fast, _ = notes_array_time_adjust(notes_array_5_tbps_fast, 5, reverse=True)\n",
    "write_song_from_notes_array(song_metadata_5_tbps_fast, notes_array_5_tbps_fast, outfolder_5_tbps_fast)\n",
    "\n",
    "song_metadata_10_tbps_fast = {'Name' : '10_tbps_fast',\n",
    "                'Artist' : 'Forrest',       # Forrest is the honorary author of all of our output\n",
    "                'Charter' : 'tensorhero',\n",
    "                'Offset' : 0,\n",
    "                'Resolution' : 192,\n",
    "                'Genre' : 'electronic',\n",
    "                'MediaType' : 'cd',\n",
    "                'MusicStream' : 'song.ogg'}\n",
    "outfolder_10_tbps_fast = Path.cwd() / 'time_reduce_tests' / '10_tbps_fast'\n",
    "notes_array_10_tbps_fast, _ = notes_array_time_adjust(notes_array, 10) \n",
    "notes_array_10_tbps_fast, _ = notes_array_time_adjust(notes_array_10_tbps_fast, 10, reverse=True)\n",
    "write_song_from_notes_array(song_metadata_10_tbps_fast, notes_array_10_tbps_fast, outfolder_10_tbps_fast)\n",
    "\n",
    "song_metadata_15_tbps_fast = {'Name' : '15_tbps_fast',\n",
    "                'Artist' : 'Forrest',       # Forrest is the honorary author of all of our output\n",
    "                'Charter' : 'tensorhero',\n",
    "                'Offset' : 0,\n",
    "                'Resolution' : 192,\n",
    "                'Genre' : 'electronic',\n",
    "                'MediaType' : 'cd',\n",
    "                'MusicStream' : 'song.ogg'}\n",
    "outfolder_15_tbps_fast = Path.cwd() / 'time_reduce_tests' / '15_tbps_fast'\n",
    "notes_array_15_tbps_fast, _ = notes_array_time_adjust(notes_array, 15) \n",
    "notes_array_15_tbps_fast, _ = notes_array_time_adjust(notes_array_15_tbps_fast, 15, reverse=True)\n",
    "write_song_from_notes_array(song_metadata_15_tbps_fast, notes_array_15_tbps_fast, outfolder_15_tbps_fast)\n",
    "\n",
    "song_metadata_20_tbps_fast = {'Name' : '20_tbps_fast',\n",
    "                'Artist' : 'Forrest',       # Forrest is the honorary author of all of our output\n",
    "                'Charter' : 'tensorhero',\n",
    "                'Offset' : 0,\n",
    "                'Resolution' : 192,\n",
    "                'Genre' : 'electronic',\n",
    "                'MediaType' : 'cd',\n",
    "                'MusicStream' : 'song.ogg'}\n",
    "outfolder_20_tbps_fast = Path.cwd() / 'time_reduce_tests' / '20_tbps_fast'\n",
    "notes_array_20_tbps_fast, _ = notes_array_time_adjust(notes_array, 20) \n",
    "notes_array_20_tbps_fast, _ = notes_array_time_adjust(notes_array_20_tbps_fast, 20, reverse=True)\n",
    "write_song_from_notes_array(song_metadata_20_tbps_fast, notes_array_20_tbps_fast, outfolder_20_tbps_fast)"
   ]
  },
  {
   "cell_type": "markdown",
   "metadata": {},
   "source": [
    "10, 15, and 20 all worked but there was some unwanted dropout between 20 and 15, going to try this on an even faster song, Dyers Eve by Metallica"
   ]
  },
  {
   "cell_type": "code",
   "execution_count": 7,
   "metadata": {},
   "outputs": [],
   "source": [
    "import sys\n",
    "sys.path.insert(1, str(Path.cwd().parent.parent))\n",
    "from tensor_hero.preprocessing.data import __remove_release_keys, __remove_modifiers\n",
    "from tensor_hero.preprocessing.chart import chart2tensor\n",
    "chart_path = Path.cwd().parent.parent / 'Training_Data' / 'Unprocessed' / 'Guitar Hero X' / 'Metallica - Dyers Eve (xX760Xx)' / 'notes.chart'\n",
    "notes_array = chart2tensor(chart_path)\n",
    "notes_array = __remove_modifiers(__remove_release_keys(notes_array))\n",
    "\n",
    "song_metadata_5_tbps_faster = {'Name' : '5_tbps_faster',\n",
    "                'Artist' : 'Forrest',       # Forrest is the honorary author of all of our output\n",
    "                'Charter' : 'tensorhero',\n",
    "                'Offset' : 0,\n",
    "                'Resolution' : 192,\n",
    "                'Genre' : 'electronic',\n",
    "                'MediaType' : 'cd',\n",
    "                'MusicStream' : 'song.ogg'}\n",
    "outfolder_5_tbps_faster = Path.cwd() / 'time_reduce_tests' / '5_tbps_faster'\n",
    "notes_array_5_tbps_faster, _ = notes_array_time_adjust(notes_array, 5) \n",
    "notes_array_5_tbps_faster, _ = notes_array_time_adjust(notes_array_5_tbps_faster, 5, reverse=True)\n",
    "write_song_from_notes_array(song_metadata_5_tbps_faster, notes_array_5_tbps_faster, outfolder_5_tbps_faster)\n",
    "\n",
    "song_metadata_10_tbps_faster = {'Name' : '10_tbps_faster',\n",
    "                'Artist' : 'Forrest',       # Forrest is the honorary author of all of our output\n",
    "                'Charter' : 'tensorhero',\n",
    "                'Offset' : 0,\n",
    "                'Resolution' : 192,\n",
    "                'Genre' : 'electronic',\n",
    "                'MediaType' : 'cd',\n",
    "                'MusicStream' : 'song.ogg'}\n",
    "outfolder_10_tbps_faster = Path.cwd() / 'time_reduce_tests' / '10_tbps_faster'\n",
    "notes_array_10_tbps_faster, _ = notes_array_time_adjust(notes_array, 10) \n",
    "notes_array_10_tbps_faster, _ = notes_array_time_adjust(notes_array_10_tbps_faster, 10, reverse=True)\n",
    "write_song_from_notes_array(song_metadata_10_tbps_faster, notes_array_10_tbps_faster, outfolder_10_tbps_faster)\n",
    "\n",
    "song_metadata_15_tbps_faster = {'Name' : '15_tbps_faster',\n",
    "                'Artist' : 'Forrest',       # Forrest is the honorary author of all of our output\n",
    "                'Charter' : 'tensorhero',\n",
    "                'Offset' : 0,\n",
    "                'Resolution' : 192,\n",
    "                'Genre' : 'electronic',\n",
    "                'MediaType' : 'cd',\n",
    "                'MusicStream' : 'song.ogg'}\n",
    "outfolder_15_tbps_faster = Path.cwd() / 'time_reduce_tests' / '15_tbps_faster'\n",
    "notes_array_15_tbps_faster, _ = notes_array_time_adjust(notes_array, 15) \n",
    "notes_array_15_tbps_faster, _ = notes_array_time_adjust(notes_array_15_tbps_faster, 15, reverse=True)\n",
    "write_song_from_notes_array(song_metadata_15_tbps_faster, notes_array_15_tbps_faster, outfolder_15_tbps_faster)\n",
    "\n",
    "song_metadata_20_tbps_faster = {'Name' : '20_tbps_faster',\n",
    "                'Artist' : 'Forrest',       # Forrest is the honorary author of all of our output\n",
    "                'Charter' : 'tensorhero',\n",
    "                'Offset' : 0,\n",
    "                'Resolution' : 192,\n",
    "                'Genre' : 'electronic',\n",
    "                'MediaType' : 'cd',\n",
    "                'MusicStream' : 'song.ogg'}\n",
    "outfolder_20_tbps_faster = Path.cwd() / 'time_reduce_tests' / '20_tbps_faster'\n",
    "notes_array_20_tbps_faster, _ = notes_array_time_adjust(notes_array, 20) \n",
    "notes_array_20_tbps_faster, _ = notes_array_time_adjust(notes_array_20_tbps_faster, 20, reverse=True)\n",
    "write_song_from_notes_array(song_metadata_20_tbps_faster, notes_array_20_tbps_faster, outfolder_20_tbps_faster)"
   ]
  },
  {
   "cell_type": "markdown",
   "metadata": {},
   "source": [
    "The faster rendition was really choppy at 20, going to try 25 and 30"
   ]
  },
  {
   "cell_type": "code",
   "execution_count": 8,
   "metadata": {},
   "outputs": [],
   "source": [
    "song_metadata_30_tbps_faster = {'Name' : '30_tbps_faster',\n",
    "                'Artist' : 'Forrest',       # Forrest is the honorary author of all of our output\n",
    "                'Charter' : 'tensorhero',\n",
    "                'Offset' : 0,\n",
    "                'Resolution' : 192,\n",
    "                'Genre' : 'electronic',\n",
    "                'MediaType' : 'cd',\n",
    "                'MusicStream' : 'song.ogg'}\n",
    "outfolder_30_tbps_faster = Path.cwd() / 'time_reduce_tests' / '30_tbps_faster'\n",
    "notes_array_30_tbps_faster, _ = notes_array_time_adjust(notes_array, 30) \n",
    "notes_array_30_tbps_faster, _ = notes_array_time_adjust(notes_array_30_tbps_faster, 30, reverse=True)\n",
    "write_song_from_notes_array(song_metadata_30_tbps_faster, notes_array_30_tbps_faster, outfolder_30_tbps_faster)\n",
    "\n",
    "song_metadata_25_tbps_faster = {'Name' : '25_tbps_faster',\n",
    "                'Artist' : 'Forrest',       # Forrest is the honorary author of all of our output\n",
    "                'Charter' : 'tensorhero',\n",
    "                'Offset' : 0,\n",
    "                'Resolution' : 192,\n",
    "                'Genre' : 'electronic',\n",
    "                'MediaType' : 'cd',\n",
    "                'MusicStream' : 'song.ogg'}\n",
    "outfolder_25_tbps_faster = Path.cwd() / 'time_reduce_tests' / '25_tbps_faster'\n",
    "notes_array_25_tbps_faster, _ = notes_array_time_adjust(notes_array, 25) \n",
    "notes_array_25_tbps_faster, _ = notes_array_time_adjust(notes_array_25_tbps_faster, 25, reverse=True)\n",
    "write_song_from_notes_array(song_metadata_25_tbps_faster, notes_array_25_tbps_faster, outfolder_25_tbps_faster)"
   ]
  },
  {
   "cell_type": "markdown",
   "metadata": {},
   "source": [
    "25 tbps seems to be granular enough to do the trick"
   ]
  }
 ],
 "metadata": {
  "interpreter": {
   "hash": "1131efc7635b497546d7e8fbc76ad9d1f9d5d5d7857bcde935d6feea39d08984"
  },
  "kernelspec": {
   "display_name": "Python 3.8.6 64-bit",
   "language": "python",
   "name": "python3"
  },
  "language_info": {
   "codemirror_mode": {
    "name": "ipython",
    "version": 3
   },
   "file_extension": ".py",
   "mimetype": "text/x-python",
   "name": "python",
   "nbconvert_exporter": "python",
   "pygments_lexer": "ipython3",
   "version": "3.8.6"
  },
  "orig_nbformat": 4
 },
 "nbformat": 4,
 "nbformat_minor": 2
}
