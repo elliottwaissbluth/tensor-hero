{
 "cells": [
  {
   "cell_type": "markdown",
   "source": [
    "Refactor the transformer model to take spectrograms as inputs and produce note-category and motion predictions as output"
   ],
   "metadata": {}
  },
  {
   "cell_type": "markdown",
   "source": [
    "Create a vector representation of an output space detailing note categories as well as motions\n",
    "\n",
    "Rewrite preprocess_transformer_data to process data in this fashion, perhaps automatically insert the contour arrays (or transformer representation of contour arrays)"
   ],
   "metadata": {}
  },
  {
   "cell_type": "markdown",
   "source": [],
   "metadata": {}
  }
 ],
 "metadata": {
  "orig_nbformat": 4,
  "language_info": {
   "name": "python"
  }
 },
 "nbformat": 4,
 "nbformat_minor": 2
}