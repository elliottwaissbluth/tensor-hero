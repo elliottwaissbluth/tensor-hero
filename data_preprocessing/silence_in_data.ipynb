{
 "cells": [
  {
   "cell_type": "markdown",
   "metadata": {},
   "source": [
    "This notebook is meant to investigate the proportion of our training examples that have no notes, and systematic differences between their respective spectrograms\n",
    "\n",
    "We'll use the small amount of training data I have loaded onto this computer to investigate"
   ]
  },
  {
   "cell_type": "code",
   "execution_count": null,
   "metadata": {},
   "outputs": [],
   "source": [
    "from pathlib import Path\n",
    "import os\n",
    "import numpy as np\n",
    "\n",
    "train_path = Path.cwd().parent / 'Training_Data' / 'training_ready' / 'train'\n",
    "song_paths = [train_path / x for x in os.listdir(train_path)]\n",
    "notes_parents = [x / 'notes' for x in song_paths]\n",
    "specs_parents = [x / 'spectrograms' for x in song_paths]\n",
    "\n",
    "notes_paths = []\n",
    "specs_paths = []\n",
    "\n",
    "for i in range(len(notes_parents)):\n",
    "    for notes_dir in [notes_parents[i] / x for x in os.listdir(notes_parents[i])]:\n",
    "        notes_paths.extend([notes_dir / x for x in os.listdir(notes_dir)])\n",
    "    for specs_dir in [specs_parents[i] / x for x in os.listdir(specs_parents[i])]:\n",
    "        specs_paths.extend([specs_dir / x for x in os.listdir(specs_dir)])"
   ]
  },
  {
   "cell_type": "code",
   "execution_count": 13,
   "metadata": {},
   "outputs": [
    {
     "name": "stdout",
     "output_type": "stream",
     "text": [
      "len no_notes: 203\n",
      "len full_notes: 1805\n",
      "10.11% of training examples have no notes\n"
     ]
    }
   ],
   "source": [
    "no_notes_paths = []\n",
    "no_specs_paths = []\n",
    "full_notes_paths = []\n",
    "full_specs_paths = []\n",
    "\n",
    "for idx, notes_path in enumerate(notes_paths):\n",
    "    notes = np.load(notes_path)\n",
    "    if notes.shape[0] == 2:\n",
    "        no_notes_paths.append(notes_path)\n",
    "        no_specs_paths.append(specs_paths[idx])\n",
    "    else:\n",
    "        full_notes_paths.append(notes_path)\n",
    "        full_specs_paths.append(specs_paths[idx])\n",
    "\n",
    "print(f'len no_notes: {len(no_notes_paths)}')\n",
    "print(f'len full_notes: {len(full_notes_paths)}')\n",
    "print(f'{len(no_notes_paths)*100/len(notes_paths):.2f}% of training examples have no notes')"
   ]
  },
  {
   "cell_type": "code",
   "execution_count": 32,
   "metadata": {},
   "outputs": [
    {
     "name": "stdout",
     "output_type": "stream",
     "text": [
      "spec shape: (512, 400)\n",
      "spec: [[0. 0. 0. ... 0. 0. 0.]\n",
      " [0. 0. 0. ... 0. 0. 0.]\n",
      " [0. 0. 0. ... 0. 0. 0.]\n",
      " ...\n",
      " [0. 0. 0. ... 0. 0. 0.]\n",
      " [0. 0. 0. ... 0. 0. 0.]\n",
      " [0. 0. 0. ... 0. 0. 0.]]\n",
      "0.0\n",
      "0.1885\n",
      "152.82224\n"
     ]
    }
   ],
   "source": [
    "spec = np.load(specs_paths[0])\n",
    "print(f'spec shape: {spec.shape}')\n",
    "print(f'spec: {spec}')\n",
    "print(np.min(spec))\n",
    "print(np.max(spec))\n",
    "# for i in range(512):\n",
    "#     print(spec[i,:])\n",
    "print(np.sum(spec.astype(np.float32)))"
   ]
  }
 ],
 "metadata": {
  "interpreter": {
   "hash": "1131efc7635b497546d7e8fbc76ad9d1f9d5d5d7857bcde935d6feea39d08984"
  },
  "kernelspec": {
   "display_name": "Python 3.8.6 64-bit",
   "language": "python",
   "name": "python3"
  },
  "language_info": {
   "codemirror_mode": {
    "name": "ipython",
    "version": 3
   },
   "file_extension": ".py",
   "mimetype": "text/x-python",
   "name": "python",
   "nbconvert_exporter": "python",
   "pygments_lexer": "ipython3",
   "version": "3.8.6"
  },
  "orig_nbformat": 4
 },
 "nbformat": 4,
 "nbformat_minor": 2
}
