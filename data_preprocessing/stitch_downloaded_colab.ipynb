{
 "cells": [
  {
   "cell_type": "markdown",
   "metadata": {},
   "source": [
    "## The purpose of this notebook is to stitch together the full curated dataset that I downloaded from google drive. Once it is stitched together, we will be able to preprocess"
   ]
  },
  {
   "cell_type": "code",
   "execution_count": 7,
   "metadata": {},
   "outputs": [
    {
     "name": "stderr",
     "output_type": "stream",
     "text": [
      "100%|██████████| 10/10 [00:17<00:00,  1.76s/it]\n"
     ]
    }
   ],
   "source": [
    "from pathlib import Path\n",
    "import shutil\n",
    "import os\n",
    "from tqdm import tqdm\n",
    "\n",
    "parent_dirs = [Path.cwd().parent / 'Training_Data' / 'full_curated']\n",
    "dest_dir = Path.cwd().parent / 'Training_Data' / 'full_curated'\n",
    "\n",
    "for i in range(2,11):\n",
    "    parent_dirs.append(Path.cwd().parent / 'Training_Data' / ('full_curated ' + str(i)))\n",
    "\n",
    "for parent_dir in tqdm(parent_dirs):\n",
    "    for song_dir in os.listdir(parent_dir):\n",
    "        if not os.path.exists(dest_dir / song_dir):\n",
    "            os.mkdir(dest_dir / song_dir)\n",
    "        for f in os.listdir(parent_dir / song_dir):\n",
    "            if not os.path.exists(dest_dir / song_dir / f):\n",
    "                shutil.copy(parent_dir / song_dir / f, dest_dir / song_dir / f)\n",
    "                \n",
    "jhfsasafdasfdafdskhlklhfdsakhladsfkldjkjlhdaskjkfdjslkjfaldsfd = 3\n",
    "print(jhfsasafdasfdafdskhlklhfdsakhladsfkldjkjlhdaskjkfdjslkjfaldsfd)\n"
   ]
  }
 ],
 "metadata": {
  "interpreter": {
   "hash": "aee8b7b246df8f9039afb4144a1f6fd8d2ca17a180786b69acc140d282b71a49"
  },
  "kernelspec": {
   "display_name": "Python 3.9.6 64-bit",
   "name": "python3"
  },
  "language_info": {
   "codemirror_mode": {
    "name": "ipython",
    "version": 3
   },
   "file_extension": ".py",
   "mimetype": "text/x-python",
   "name": "python",
   "nbconvert_exporter": "python",
   "pygments_lexer": "ipython3",
   "version": "3.9.6"
  },
  "orig_nbformat": 4
 },
 "nbformat": 4,
 "nbformat_minor": 2
}
