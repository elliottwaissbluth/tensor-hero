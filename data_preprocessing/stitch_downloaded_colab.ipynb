{
 "cells": [
  {
   "cell_type": "markdown",
   "source": [
    "## The purpose of this notebook is to stitch together the full curated dataset that I downloaded from google drive. Once it is stitched together, we will be able to preprocess"
   ],
   "metadata": {}
  },
  {
   "cell_type": "code",
   "execution_count": 7,
   "source": [
    "from pathlib import Path\n",
    "import shutil\n",
    "import os\n",
    "from tqdm import tqdm\n",
    "\n",
    "parent_dirs = [Path.cwd().parent / 'Training_Data' / 'full_curated']\n",
    "dest_dir = Path.cwd().parent / 'Training_Data' / 'fully_curated'\n",
    "\n",
    "for i in range(2,11):\n",
    "    parent_dirs.append(Path.cwd().parent / 'Training_Data' / ('full_curated ' + str(i)))\n",
    "\n",
    "for parent_dir in tqdm(parent_dirs):\n",
    "    for song_dir in os.listdir(parent_dir):\n",
    "        if not os.path.exists(dest_dir / song_dir):\n",
    "            os.mkdir(dest_dir / song_dir)\n",
    "        for f in os.listdir(parent_dir / song_dir):\n",
    "            if not os.path.exists(dest_dir / song_dir / f):\n",
    "                shutil.copy(parent_dir / song_dir / f, dest_dir / song_dir / f)\n"
   ],
   "outputs": [
    {
     "output_type": "stream",
     "name": "stderr",
     "text": [
      "100%|██████████| 10/10 [00:17<00:00,  1.76s/it]\n"
     ]
    }
   ],
   "metadata": {}
  }
 ],
 "metadata": {
  "orig_nbformat": 4,
  "language_info": {
   "name": "python",
   "version": "3.9.6",
   "mimetype": "text/x-python",
   "codemirror_mode": {
    "name": "ipython",
    "version": 3
   },
   "pygments_lexer": "ipython3",
   "nbconvert_exporter": "python",
   "file_extension": ".py"
  },
  "kernelspec": {
   "name": "python3",
   "display_name": "Python 3.9.6 64-bit"
  },
  "interpreter": {
   "hash": "aee8b7b246df8f9039afb4144a1f6fd8d2ca17a180786b69acc140d282b71a49"
  }
 },
 "nbformat": 4,
 "nbformat_minor": 2
}