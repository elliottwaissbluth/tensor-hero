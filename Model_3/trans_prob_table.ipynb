{
 "cells": [
  {
   "cell_type": "code",
   "execution_count": 2,
   "source": [
    "import numpy as np\n",
    "from pathlib import Path"
   ],
   "outputs": [],
   "metadata": {}
  },
  {
   "cell_type": "code",
   "execution_count": 36,
   "source": [
    "trans_table = np.zeros((33,32))\n",
    "first_noteArray = np.zeros(33)\n",
    "#trans_table = transition_table_valueAdder(notes_values, trans_table)\n"
   ],
   "outputs": [],
   "metadata": {}
  },
  {
   "cell_type": "code",
   "execution_count": 89,
   "source": [
    "def transition_table_valueAdder(note_array, trans_table=trans_table):\n",
    "    \"\"\" \n",
    "    Function to update the first note table and the transition probability table\n",
    "    Function will remove zeros for the note_array to simplify sorting\n",
    "    Changes the open note (218) to 32 so that the table range is from 0-32\n",
    "    \n",
    "    INPUTS: note_array of the song, trans_table\n",
    "    OUTPUTS: trans_table \n",
    "    \"\"\"\n",
    "    # Remove zeros from song note array\n",
    "    note_array = note_array[note_array != 0]\n",
    "    note_array[note_array == 218] = 32\n",
    "    \n",
    "    # update first_noteArray\n",
    "    trans_table[32][int(note_array[0])-1] += 1 # adding first note to transition table\n",
    "\n",
    "    # loop through note array and update trans_table - start with index 1\n",
    "    for i in range(1, len(note_array)):\n",
    "        trans_table[int(note_array[i-1]-1)][int(note_array[i])-1] += 1\n",
    "    \n",
    "    return trans_table\n"
   ],
   "outputs": [],
   "metadata": {}
  },
  {
   "cell_type": "code",
   "execution_count": 90,
   "source": [
    "trans_table = np.zeros((33,32))\n",
    "test = transition_table_valueAdder(notes, trans_table)"
   ],
   "outputs": [],
   "metadata": {}
  },
  {
   "cell_type": "code",
   "execution_count": 85,
   "source": [
    "test.sum()"
   ],
   "outputs": [
    {
     "output_type": "execute_result",
     "data": {
      "text/plain": [
       "1179.0"
      ]
     },
     "metadata": {},
     "execution_count": 85
    }
   ],
   "metadata": {}
  },
  {
   "cell_type": "code",
   "execution_count": 86,
   "source": [
    "trans_table[0]"
   ],
   "outputs": [
    {
     "output_type": "execute_result",
     "data": {
      "text/plain": [
       "array([47., 36.,  2.,  4.,  2.,  1.,  0.,  0.,  0.,  1.,  0.,  0.,  0.,\n",
       "        0.,  0.,  0.,  0.,  0.,  0.,  0.,  0.,  0.,  0.,  0.,  0.,  0.,\n",
       "        0.,  0.,  0.,  0.,  0.,  0.])"
      ]
     },
     "metadata": {},
     "execution_count": 86
    }
   ],
   "metadata": {}
  },
  {
   "cell_type": "code",
   "execution_count": 87,
   "source": [
    "test[32]"
   ],
   "outputs": [
    {
     "output_type": "execute_result",
     "data": {
      "text/plain": [
       "array([0., 0., 0., 0., 0., 1., 0., 0., 0., 0., 0., 0., 0., 0., 0., 0., 0.,\n",
       "       0., 0., 0., 0., 0., 0., 0., 0., 0., 0., 0., 0., 0., 0., 0.])"
      ]
     },
     "metadata": {},
     "execution_count": 87
    }
   ],
   "metadata": {}
  },
  {
   "cell_type": "code",
   "execution_count": 38,
   "source": [
    "def prob_calc(array):\n",
    "    new_array = np.nan_to_num(array/array.sum(axis=0))\n",
    "    return (new_array)"
   ],
   "outputs": [],
   "metadata": {}
  },
  {
   "cell_type": "code",
   "execution_count": 39,
   "source": [
    "training_path = Path.home()\n",
    "training_path"
   ],
   "outputs": [
    {
     "output_type": "execute_result",
     "data": {
      "text/plain": [
       "PosixPath('/Users/forrestbrandt')"
      ]
     },
     "metadata": {},
     "execution_count": 39
    }
   ],
   "metadata": {}
  },
  {
   "cell_type": "code",
   "execution_count": 40,
   "source": [
    "track_pack_path = Path('/Users/forrestbrandt/Documents/Berkeley/Fall_2021/TensorHero/Condensed Notes')\n",
    "notes_path = Path('/Users/forrestbrandt/Documents/Berkeley/Fall_2021/TensorHero/Condensed Notes/Anti Hero 2/Trivium - Demon (Miscellany)')"
   ],
   "outputs": [],
   "metadata": {}
  },
  {
   "cell_type": "code",
   "execution_count": 63,
   "source": [
    "notes = np.load(notes_path / 'notes_simplified.npy')"
   ],
   "outputs": [],
   "metadata": {}
  },
  {
   "cell_type": "code",
   "execution_count": 55,
   "source": [
    "np.unique(notes)\n",
    "print(notes.shape)\n"
   ],
   "outputs": [
    {
     "output_type": "stream",
     "name": "stdout",
     "text": [
      "(21179,)\n"
     ]
    }
   ],
   "metadata": {}
  },
  {
   "cell_type": "code",
   "execution_count": 66,
   "source": [
    "\n",
    "def create_trans_table(track_pack_path, trans_table):\n",
    "    \"\"\"\n",
    "    Function that takes in a file path (in this case starting at Condensed Notes Folder - Track Pack) and an empty table \n",
    "    that navigates through the files and pulls data only from the note_simplified.npy file\n",
    "    Function calls transition_table_valueAdder\n",
    "\n",
    "    INPUTS: File path, empty table (needs to be generated before)\n",
    "    OUTPUTS: returns transition table\n",
    "    \"\"\"\n",
    "    for album in track_pack_path.iterdir():\n",
    "        album_path = track_pack_path / album.name\n",
    "        \n",
    "        if album.is_file():\n",
    "            if album.name == 'notes_simplified.npy':\n",
    "                notes = np.load(album_path / 'notes_simplified.npy')\n",
    "                trans_table = transition_table_valueAdder(notes, trans_table)\n",
    "        if album.is_dir():\n",
    "            for song in album.iterdir():\n",
    "                notes_path = album_path / song.name\n",
    "                if song.is_file():\n",
    "                    if song.name == 'notes_simplified.npy':\n",
    "                        notes = np.load(notes_path / 'notes_simplified.npy')\n",
    "                        trans_table = transition_table_valueAdder(notes, trans_table)\n",
    "                if song.is_dir():\n",
    "                    for piece in song.iterdir():\n",
    "                        piece_path = notes_path / piece.name\n",
    "                        if piece.is_file():\n",
    "                            if piece.name == 'notes_simplified.npy':\n",
    "                                notes = np.load(notes_path / 'notes_simplified.npy')\n",
    "                                trans_table = transition_table_valueAdder(notes, trans_table)\n",
    "    return trans_table\n",
    "    "
   ],
   "outputs": [],
   "metadata": {}
  },
  {
   "cell_type": "code",
   "execution_count": 91,
   "source": [
    "track_pack_path = Path('/Users/forrestbrandt/Documents/Berkeley/Fall_2021/TensorHero/Condensed Notes')\n",
    "trans_table = np.zeros((33,32))\n",
    "trans_table = create_trans_table(track_pack_path,trans_table)\n",
    "prob_table = prob_calc(trans_table)\n",
    "prob_table.sum(axis=0)"
   ],
   "outputs": [
    {
     "output_type": "execute_result",
     "data": {
      "text/plain": [
       "array([1., 1., 1., 1., 1., 1., 1., 1., 1., 1., 1., 1., 1., 1., 1., 1., 1.,\n",
       "       1., 1., 1., 1., 1., 1., 1., 1., 1., 1., 1., 1., 1., 1., 1.])"
      ]
     },
     "metadata": {},
     "execution_count": 91
    }
   ],
   "metadata": {}
  },
  {
   "cell_type": "code",
   "execution_count": 23,
   "source": [
    "trans_table.sum(axis=1)[0]"
   ],
   "outputs": [
    {
     "output_type": "execute_result",
     "data": {
      "text/plain": [
       "1023.0"
      ]
     },
     "metadata": {},
     "execution_count": 23
    }
   ],
   "metadata": {}
  },
  {
   "cell_type": "code",
   "execution_count": 28,
   "source": [
    "trans_table[2][0]"
   ],
   "outputs": [
    {
     "output_type": "execute_result",
     "data": {
      "text/plain": [
       "0.0"
      ]
     },
     "metadata": {},
     "execution_count": 28
    }
   ],
   "metadata": {}
  },
  {
   "cell_type": "code",
   "execution_count": 92,
   "source": [
    "import matplotlib.pyplot as plt\n",
    "\n",
    "plt.imshow(prob_table)"
   ],
   "outputs": [
    {
     "output_type": "execute_result",
     "data": {
      "text/plain": [
       "<matplotlib.image.AxesImage at 0x7fbafd3059a0>"
      ]
     },
     "metadata": {},
     "execution_count": 92
    },
    {
     "output_type": "display_data",
     "data": {
      "image/png": "[encoded data removed]",
      "text/plain": [
       "<Figure size 432x288 with 1 Axes>"
      ]
     },
     "metadata": {
      "needs_background": "light"
     }
    }
   ],
   "metadata": {}
  },
  {
   "cell_type": "code",
   "execution_count": 13,
   "source": [
    "prob_table.shape"
   ],
   "outputs": [
    {
     "output_type": "execute_result",
     "data": {
      "text/plain": [
       "(33, 33)"
      ]
     },
     "metadata": {},
     "execution_count": 13
    }
   ],
   "metadata": {}
  },
  {
   "cell_type": "code",
   "execution_count": 30,
   "source": [
    "# returns T/F on whether file exists \n",
    "# could be used for checking if need to go further into subdirectories\n",
    "print(notes_path.exists())\n",
    "# returns T/F if the subdirectory is a file\n",
    "print(notes_path.is_file())"
   ],
   "outputs": [
    {
     "output_type": "stream",
     "name": "stdout",
     "text": [
      "True\n",
      "True\n"
     ]
    }
   ],
   "metadata": {}
  },
  {
   "cell_type": "code",
   "execution_count": 40,
   "source": [
    "notes = np.load(notes_path / 'notes_simplified.npy')"
   ],
   "outputs": [],
   "metadata": {}
  },
  {
   "cell_type": "code",
   "execution_count": 50,
   "source": [
    "first_note = {}\n",
    "\n",
    "def find_first_note(note_array, dict=first_note):\n",
    "    \"\"\" Function to find the first note in the note array\n",
    "    INPUTS: Note array, dictionary consisting of first note counts\n",
    "    OUTPUTS: Updated dictionary \n",
    "    \"\"\"\n",
    "\n",
    "    if note_array[0] not in dict:\n",
    "        dict[note_array[0]] = 1\n",
    "    else:\n",
    "        dict[note_array[0]] += 1\n",
    "    return dict\n"
   ],
   "outputs": [],
   "metadata": {}
  },
  {
   "cell_type": "code",
   "execution_count": 54,
   "source": [
    "first_note = {}\n",
    "\n",
    "def find_first_note(note_array, dict=first_note):\n",
    "    \"\"\" Function to find the first note in the note array\n",
    "    INPUTS: Note array, dictionary consisting of first note counts\n",
    "    OUTPUTS: Updated dictionary \n",
    "    \"\"\"\n",
    "\n",
    "    for i in range(len(note_array)):\n",
    "        if note_array[i] > 0:\n",
    "\n",
    "            if note_array[i] not in dict:\n",
    "                dict[note_array[i]] = 1\n",
    "            else:\n",
    "                dict[note_array[i]] += 1\n",
    "            break\n",
    "    return dict"
   ],
   "outputs": [],
   "metadata": {}
  },
  {
   "cell_type": "code",
   "execution_count": 162,
   "source": [
    "def transition_table_valueAdder(note_array, first_note=first_noteArray, trans_table=trans_table):\n",
    "    \"\"\" \n",
    "    Function to update the first note table and the transition probability table\n",
    "    Function will remove zeros for the note_array to simplify sorting\n",
    "    INPUTS: note_array of the song, first_noteArray, trans_table\n",
    "    OUTPUTS: first_noteArray, trans_table \n",
    "    \"\"\"\n",
    "    # Remove zeros from song note array\n",
    "    note_array = note_array[note_array != 0]\n",
    "    note_array[note_array == 218] = 32\n",
    "    \n",
    "    # update first_noteArray\n",
    "    first_note[int(note_array[0])-1] += 1\n",
    "    trans_table[0][int(note_array[0])] += 1 # adding first note to transition table\n",
    "    print(trans_table[0][int(note_array[0])])\n",
    "    print(int(note_array[0]))\n",
    "\n",
    "    # loop through note array and update trans_table - start with index 1\n",
    "    for i in range(1, len(note_array)):\n",
    "        trans_table[int(note_array[i-1])][int(note_array[i])] += 1\n",
    "    \n",
    "    return first_note, trans_table\n"
   ],
   "outputs": [],
   "metadata": {}
  },
  {
   "cell_type": "code",
   "execution_count": 163,
   "source": [
    "trans_table = np.zeros((33,33))\n",
    "first_noteArray = np.zeros(33)\n",
    "first_noteArray, trans_table = transition_table_valueAdder(notes_values,first_noteArray, trans_table)\n",
    "prob_table = prob_calc(trans_table)\n",
    "prob_table.sum(axis=0)"
   ],
   "outputs": [
    {
     "output_type": "stream",
     "name": "stdout",
     "text": [
      "1179\n",
      "1.0\n",
      "6\n"
     ]
    }
   ],
   "metadata": {}
  },
  {
   "cell_type": "code",
   "execution_count": 165,
   "source": [
    "def probability_calc(array):\n",
    "    \n",
    "    \"\"\" Function that takes as input an array and calculates the probability of that event happening for each column\n",
    "    INPUTS: numpy array - transition table\n",
    "    OUTPUTS: numpy array - transition probability table\n",
    "    \n",
    "    \"\"\"\n",
    "    # create empty table\n",
    "    dim = len(array)\n",
    "    prob_table = np.zeros((dim,dim))\n",
    "\n",
    "    # loop\n",
    "    for i in range(dim):\n",
    "        total = array[:][i].sum()\n",
    "        if total > 0:\n",
    "            for j in range(dim):\n",
    "                prob_table[j][i] = (array[j][i])/(total)\n",
    "                \n",
    "        else:\n",
    "            prob_table[:][i] = 0\n",
    "    return prob_table"
   ],
   "outputs": [],
   "metadata": {}
  },
  {
   "cell_type": "code",
   "execution_count": 187,
   "source": [
    "def prob_calc(array):\n",
    "    new_array = np.nan_to_num(array/array.sum(axis=0))\n",
    "    return (new_array)"
   ],
   "outputs": [],
   "metadata": {}
  },
  {
   "cell_type": "code",
   "execution_count": 93,
   "source": [
    "table_prob = np.load('trans_prob_table.npy')\n",
    "table_trans = np.load('transition_table_rawNums.npy')"
   ],
   "outputs": [],
   "metadata": {}
  },
  {
   "cell_type": "code",
   "execution_count": 94,
   "source": [
    "\n",
    "plt.imshow(table_prob)"
   ],
   "outputs": [
    {
     "output_type": "execute_result",
     "data": {
      "text/plain": [
       "<matplotlib.image.AxesImage at 0x7fbafd436940>"
      ]
     },
     "metadata": {},
     "execution_count": 94
    },
    {
     "output_type": "display_data",
     "data": {
      "image/png": "[encoded data removed]",
      "text/plain": [
       "<Figure size 432x288 with 1 Axes>"
      ]
     },
     "metadata": {
      "needs_background": "light"
     }
    }
   ],
   "metadata": {}
  },
  {
   "cell_type": "code",
   "execution_count": 267,
   "source": [
    "plt.imshow(table_trans)"
   ],
   "outputs": [
    {
     "output_type": "execute_result",
     "data": {
      "text/plain": [
       "<matplotlib.image.AxesImage at 0x7fed118f7880>"
      ]
     },
     "metadata": {},
     "execution_count": 267
    },
    {
     "output_type": "display_data",
     "data": {
      "image/png": "[encoded data removed]",
      "text/plain": [
       "<Figure size 432x288 with 1 Axes>"
      ]
     },
     "metadata": {
      "needs_background": "light"
     }
    }
   ],
   "metadata": {}
  },
  {
   "cell_type": "code",
   "execution_count": null,
   "source": [],
   "outputs": [],
   "metadata": {}
  }
 ],
 "metadata": {
  "orig_nbformat": 4,
  "language_info": {
   "name": "python",
   "version": "3.8.3",
   "mimetype": "text/x-python",
   "codemirror_mode": {
    "name": "ipython",
    "version": 3
   },
   "pygments_lexer": "ipython3",
   "nbconvert_exporter": "python",
   "file_extension": ".py"
  },
  "kernelspec": {
   "name": "python3",
   "display_name": "Python 3.8.3 64-bit ('base': conda)"
  },
  "interpreter": {
   "hash": "983ff179d758728c5a28fd2740d529f5891ff472bced6cf70f3662cc44d9f057"
  }
 },
 "nbformat": 4,
 "nbformat_minor": 2
}