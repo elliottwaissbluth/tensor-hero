{
 "cells": [
  {
   "cell_type": "markdown",
   "metadata": {},
   "source": [
    "## This notebook can be used to generate charts from songs\n",
    "\n",
    "### it is also implemented in ~/Model_3/m4_functions.py -> generate_song()"
   ]
  },
  {
   "cell_type": "markdown",
   "metadata": {},
   "source": [
    "Fill in metadata and link to song_path"
   ]
  },
  {
   "cell_type": "code",
   "execution_count": 1,
   "metadata": {},
   "outputs": [],
   "source": [
    "from m4_functions import *\n",
    "\n",
    "# ---------------------------------------------------------------------------- #\n",
    "#                           FILL IN THIS INFORMATION                           #\n",
    "# ---------------------------------------------------------------------------- #\n",
    "\n",
    "# Song to process \n",
    "song_path = r'X:\\Training Data\\Unprocessed\\Angevil Hero II\\5. Joe Satriani - Big Bad Moon\\song.ogg'\n",
    "source_separated_path = None  # Set to none if not using source separated input\n",
    "\n",
    "# Some metadata for the final output\n",
    "outfile_song_name = 'Model 4 - Song Name'\n",
    "artist = 'Forrest'"
   ]
  },
  {
   "cell_type": "markdown",
   "metadata": {},
   "source": [
    "Compute notes_array"
   ]
  },
  {
   "cell_type": "code",
   "execution_count": 3,
   "metadata": {},
   "outputs": [
    {
     "ename": "AssertionError",
     "evalue": "ERROR: There are more onsets than notes",
     "output_type": "error",
     "traceback": [
      "\u001b[1;31m---------------------------------------------------------------------------\u001b[0m",
      "\u001b[1;31mAssertionError\u001b[0m                            Traceback (most recent call last)",
      "\u001b[1;32m<ipython-input-3-880b1f7792ba>\u001b[0m in \u001b[0;36m<module>\u001b[1;34m\u001b[0m\n\u001b[0;32m     11\u001b[0m \u001b[1;31m# to no-note events\u001b[0m\u001b[1;33m\u001b[0m\u001b[1;33m\u001b[0m\u001b[1;33m\u001b[0m\u001b[0m\n\u001b[0;32m     12\u001b[0m \u001b[0mdense_notes\u001b[0m \u001b[1;33m=\u001b[0m \u001b[0mgenerate_notes\u001b[0m\u001b[1;33m(\u001b[0m\u001b[0monsets\u001b[0m\u001b[1;33m[\u001b[0m\u001b[1;33m:\u001b[0m\u001b[1;33m-\u001b[0m\u001b[1;36m1\u001b[0m\u001b[1;33m]\u001b[0m\u001b[1;33m,\u001b[0m \u001b[0minterval_length\u001b[0m\u001b[1;33m=\u001b[0m\u001b[1;36m50\u001b[0m\u001b[1;33m)\u001b[0m\u001b[1;33m\u001b[0m\u001b[1;33m\u001b[0m\u001b[0m\n\u001b[1;32m---> 13\u001b[1;33m \u001b[0mnotes_array\u001b[0m \u001b[1;33m=\u001b[0m \u001b[0mcreate_notes_array\u001b[0m\u001b[1;33m(\u001b[0m\u001b[0monsets\u001b[0m\u001b[1;33m,\u001b[0m \u001b[0mdense_notes\u001b[0m\u001b[1;33m)\u001b[0m\u001b[1;33m\u001b[0m\u001b[1;33m\u001b[0m\u001b[0m\n\u001b[0m",
      "\u001b[1;32mc:\\Users\\ewais\\Documents\\GitHub\\tensor-hero\\Model_3\\m4_functions.py\u001b[0m in \u001b[0;36mcreate_notes_array\u001b[1;34m(onsets, notes)\u001b[0m\n\u001b[0;32m     52\u001b[0m         \u001b[0mnotes\u001b[0m \u001b[1;33m=\u001b[0m \u001b[0mnotes\u001b[0m\u001b[1;33m.\u001b[0m\u001b[0mtolist\u001b[0m\u001b[1;33m(\u001b[0m\u001b[1;33m)\u001b[0m\u001b[1;33m\u001b[0m\u001b[1;33m\u001b[0m\u001b[0m\n\u001b[0;32m     53\u001b[0m \u001b[1;33m\u001b[0m\u001b[0m\n\u001b[1;32m---> 54\u001b[1;33m     \u001b[1;32massert\u001b[0m \u001b[0mlen\u001b[0m\u001b[1;33m(\u001b[0m\u001b[0monsets\u001b[0m\u001b[1;33m)\u001b[0m \u001b[1;33m<=\u001b[0m \u001b[0mlen\u001b[0m\u001b[1;33m(\u001b[0m\u001b[0mnotes\u001b[0m\u001b[1;33m)\u001b[0m\u001b[1;33m,\u001b[0m \u001b[1;34m'ERROR: There are more onsets than notes'\u001b[0m\u001b[1;33m\u001b[0m\u001b[1;33m\u001b[0m\u001b[0m\n\u001b[0m\u001b[0;32m     55\u001b[0m \u001b[1;33m\u001b[0m\u001b[0m\n\u001b[0;32m     56\u001b[0m     \u001b[1;31m# Cut down notes if there are more notes than onsetse\u001b[0m\u001b[1;33m\u001b[0m\u001b[1;33m\u001b[0m\u001b[1;33m\u001b[0m\u001b[0m\n",
      "\u001b[1;31mAssertionError\u001b[0m: ERROR: There are more onsets than notes"
     ]
    }
   ],
   "source": [
    "if source_separated_path is not None:\n",
    "    path = source_separated_path\n",
    "else:\n",
    "    path = song_path\n",
    "\n",
    "_, onset_times = onset_time(path)\n",
    "onset_indices = onset_time_bins(onset_times)\n",
    "\n",
    "# dense_notes refers to a note sequence to be mapped to onsets\n",
    "# it is \"dense\" because there are no parts of the array that correspond\n",
    "# to no-note events\n",
    "dense_notes = generate_notes(onsets[:-1], interval_length=50)\n",
    "notes_array = create_notes_array(onset_indices, dense_notes)"
   ]
  },
  {
   "cell_type": "markdown",
   "metadata": {},
   "source": [
    "Create chart file from notes array"
   ]
  },
  {
   "cell_type": "code",
   "execution_count": 27,
   "metadata": {},
   "outputs": [
    {
     "data": {
      "text/plain": [
       "'C:\\\\Users\\\\ewais\\\\Documents\\\\GitHub\\\\tensor-hero\\\\Model_3\\\\m3_test_1\\\\song.ogg'"
      ]
     },
     "execution_count": 27,
     "metadata": {},
     "output_type": "execute_result"
    }
   ],
   "source": [
    "import sys\n",
    "sys.path.insert(1, r'C:\\Users\\ewais\\Documents\\GitHub\\tensor-hero\\Model_1\\Processing')\n",
    "from m1_postprocessing import *\n",
    "from pathlib import Path\n",
    "import shutil\n",
    "\n",
    "song_metadata = {'Name' : outfile_song_name,\n",
    "                 'Artist' : artist,\n",
    "                 'Charter' : 'tensorhero',\n",
    "                 'Offset' : 0,\n",
    "                 'Resolution' : 192,\n",
    "                 'Genre' : 'electronic',\n",
    "                 'MediaType' : 'cd',\n",
    "                 'MusicStream' : 'song.ogg'}\n",
    "\n",
    "outfolder = Path(r'C:\\Users\\ewais\\Documents\\GitHub\\tensor-hero\\Model_3\\Generated Songs\\\\'+ outfile_song_name)\n",
    "write_song_from_notes_array(song_metadata, notes_array, outfolder)\n",
    "shutil.copyfile(str(song_path), str(outfolder / 'song.ogg'))"
   ]
  }
 ],
 "metadata": {
  "interpreter": {
   "hash": "1131efc7635b497546d7e8fbc76ad9d1f9d5d5d7857bcde935d6feea39d08984"
  },
  "kernelspec": {
   "display_name": "Python 3.8.6 64-bit",
   "language": "python",
   "name": "python3"
  },
  "language_info": {
   "codemirror_mode": {
    "name": "ipython",
    "version": 3
   },
   "file_extension": ".py",
   "mimetype": "text/x-python",
   "name": "python",
   "nbconvert_exporter": "python",
   "pygments_lexer": "ipython3",
   "version": "3.8.6"
  },
  "orig_nbformat": 4
 },
 "nbformat": 4,
 "nbformat_minor": 2
}
