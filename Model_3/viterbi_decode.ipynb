{
 "cells": [
  {
   "cell_type": "markdown",
   "metadata": {},
   "source": [
    "## This notebook contains prototyping work for implementing the viterbi decode algorithm"
   ]
  },
  {
   "cell_type": "code",
   "execution_count": 21,
   "metadata": {},
   "outputs": [
    {
     "name": "stdout",
     "output_type": "stream",
     "text": [
      "[33, 0, 0, 0, 0, 0, 0, 0]\n"
     ]
    }
   ],
   "source": [
    "import numpy as np\n",
    "\n",
    "def viterbi(A, B, sequence):\n",
    "    '''\n",
    "\n",
    "    ~~~~ ARGUMENTS ~~~~\n",
    "    sequence : list\n",
    "        - a sequence of labels\n",
    "    A : numpy array\n",
    "        - transition table\n",
    "        - shape = [number of notes + 1 for <start>, number of notes]\n",
    "        - NOTE: the <start> token should be indexed at the last row\n",
    "    B : numpy array\n",
    "        - emission table\n",
    "        - shape = [number of notes, number of possible labels]\n",
    "    '''\n",
    "    # let's work in log space\n",
    "    A = np.log(A)\n",
    "    B = np.log(B)\n",
    "\n",
    "    num_notes = B.shape[0]\n",
    "\n",
    "    # create empty viterbi matrix and backpointer matrix\n",
    "    viterbi = np.full((num_notes, len(sequence)), None)\n",
    "    bp = np.full((num_notes, len(sequence)), None)\n",
    "\n",
    "    # Compute the first column\n",
    "    first_label = sequence[0]\n",
    "    start_token = A.shape[0]\n",
    "    for n in range(num_notes):\n",
    "        viterbi[n,0] = A[-1,n] + B[n,first_label]\n",
    "        bp[n,0] = start_token\n",
    "\n",
    "    for w in range(1, len(sequence)):\n",
    "        for n in range(num_notes):\n",
    "            viterbi[n,w], bp[n,w] = compute_viterbi_val(n=n, w=w, viterbi=viterbi, A_prev=A[:,n]) #transitions from previous note to current note\n",
    "\n",
    "    # Find maximum value of last column of viterbi\n",
    "    max_idx = np.argmax(viterbi[:,-1])\n",
    "\n",
    "    # Trace back maximum indices in backpointer table\n",
    "    note_sequence = [max_idx]\n",
    "    for i in range(0,len(sequence)):\n",
    "        reverse_i = len(sequence)-i-1\n",
    "        note_sequence.append(bp[note_sequence[i-1], reverse_i])\n",
    "    \n",
    "    note_sequence.reverse()\n",
    "    return note_sequence\n",
    "\n",
    "def compute_viterbi_val(n, w, viterbi, A_prev):\n",
    "    # Compute first viterbi value\n",
    "    current_val = viterbi[0,w-1] + A_prev[0]\n",
    "    max_val = current_val\n",
    "    bp = 0\n",
    "\n",
    "    # Loop through rest of values\n",
    "    for i, v in enumerate(list(viterbi[:,w-1])):\n",
    "        current_val = v + A_prev[i]\n",
    "        if current_val > max_val:\n",
    "            max_val = current_val\n",
    "            bp = i\n",
    "    \n",
    "    return max_val, bp\n",
    "\n",
    "\n",
    "B = np.ones(shape=(32, 12000))/32 # emission\n",
    "A = np.ones(shape=(33,32))/33     # transition\n",
    "sequence = [4, 0, 100, 4000, 3222, 11000, 2222]\n",
    "\n",
    "note_sequence = viterbi(A, B, sequence)\n",
    "print(note_sequence)\n",
    "    \n",
    "\n"
   ]
  },
  {
   "cell_type": "code",
   "execution_count": null,
   "metadata": {},
   "outputs": [],
   "source": [
    "# "
   ]
  }
 ],
 "metadata": {
  "interpreter": {
   "hash": "1131efc7635b497546d7e8fbc76ad9d1f9d5d5d7857bcde935d6feea39d08984"
  },
  "kernelspec": {
   "display_name": "Python 3.8.6 64-bit",
   "name": "python3"
  },
  "language_info": {
   "codemirror_mode": {
    "name": "ipython",
    "version": 3
   },
   "file_extension": ".py",
   "mimetype": "text/x-python",
   "name": "python",
   "nbconvert_exporter": "python",
   "pygments_lexer": "ipython3",
   "version": "3.8.6"
  },
  "orig_nbformat": 4
 },
 "nbformat": 4,
 "nbformat_minor": 2
}
