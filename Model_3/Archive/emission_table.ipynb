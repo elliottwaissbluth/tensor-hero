{
 "cells": [
  {
   "cell_type": "code",
   "execution_count": 5,
   "source": [
    "import numpy as np\n",
    "import torch\n",
    "import random"
   ],
   "outputs": [],
   "metadata": {}
  },
  {
   "cell_type": "code",
   "execution_count": 3,
   "source": [
    "# Numpy array\n",
    "em_table = np.random.uniform(0,1,(32,12000))\n",
    "new_array = (em_table/em_table.sum(axis=0))\n",
    "new_array.sum(axis=0)"
   ],
   "outputs": [
    {
     "output_type": "execute_result",
     "data": {
      "text/plain": [
       "array([1., 1., 1., ..., 1., 1., 1.])"
      ]
     },
     "metadata": {},
     "execution_count": 3
    }
   ],
   "metadata": {}
  },
  {
   "cell_type": "code",
   "execution_count": 6,
   "source": [
    "# tensor\n",
    "emission_table = torch.rand((32,12000))\n",
    "new_emTable = (emission_table/emission_table.sum(axis=0))\n",
    "new_emTable.sum(axis=0)"
   ],
   "outputs": [
    {
     "output_type": "execute_result",
     "data": {
      "text/plain": [
       "tensor([1.0000, 1.0000, 1.0000,  ..., 1.0000, 1.0000, 1.0000])"
      ]
     },
     "metadata": {},
     "execution_count": 6
    }
   ],
   "metadata": {}
  },
  {
   "cell_type": "code",
   "execution_count": 7,
   "source": [
    "new_emTable.shape"
   ],
   "outputs": [
    {
     "output_type": "execute_result",
     "data": {
      "text/plain": [
       "torch.Size([32, 12000])"
      ]
     },
     "metadata": {},
     "execution_count": 7
    }
   ],
   "metadata": {}
  },
  {
   "cell_type": "code",
   "execution_count": 14,
   "source": [
    "np.random.randint(0,12000,4)"
   ],
   "outputs": [
    {
     "output_type": "execute_result",
     "data": {
      "text/plain": [
       "array([11166,  1333,  9031,  4571])"
      ]
     },
     "metadata": {},
     "execution_count": 14
    }
   ],
   "metadata": {}
  },
  {
   "cell_type": "code",
   "execution_count": 16,
   "source": [
    "def onset_label(onset, spectrogram=None):\n",
    "    '''\n",
    "    Function that takes in 1D onset array and spectrogram and labels each onset with the spectrogram that most closely\n",
    "    matches the emission probability table\n",
    "\n",
    "    INPUTS: 1D Onset Array , computed spectrogram\n",
    "    OUTPUTS: 1D Array of same length as onset array corresponding to column indices of emission probability table \n",
    "    '''\n",
    "    # X will probably need to be determined by spectrogram clusters , set locally just to highlight\n",
    "    X = 12000\n",
    "    return np.random.randint(0,X,len(onset))\n",
    "    "
   ],
   "outputs": [],
   "metadata": {}
  },
  {
   "cell_type": "code",
   "execution_count": 17,
   "source": [
    "onset_example = np.array([5,2,5,7,9,3,5])\n",
    "label = onset_label(onset_example)"
   ],
   "outputs": [],
   "metadata": {}
  },
  {
   "cell_type": "code",
   "execution_count": null,
   "source": [],
   "outputs": [],
   "metadata": {}
  }
 ],
 "metadata": {
  "orig_nbformat": 4,
  "language_info": {
   "name": "python",
   "version": "3.8.3",
   "mimetype": "text/x-python",
   "codemirror_mode": {
    "name": "ipython",
    "version": 3
   },
   "pygments_lexer": "ipython3",
   "nbconvert_exporter": "python",
   "file_extension": ".py"
  },
  "kernelspec": {
   "name": "python3",
   "display_name": "Python 3.8.3 64-bit ('base': conda)"
  },
  "interpreter": {
   "hash": "983ff179d758728c5a28fd2740d529f5891ff472bced6cf70f3662cc44d9f057"
  }
 },
 "nbformat": 4,
 "nbformat_minor": 2
}