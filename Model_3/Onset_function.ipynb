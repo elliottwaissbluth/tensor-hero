{
 "cells": [
  {
   "cell_type": "code",
   "execution_count": 6,
   "id": "cf913a9f",
   "metadata": {},
   "outputs": [],
   "source": [
    "import os\n",
    "import librosa"
   ]
  },
  {
   "cell_type": "code",
   "execution_count": 32,
   "id": "226c4461",
   "metadata": {},
   "outputs": [],
   "source": [
    "def onset_time(processed_path):\n",
    "\n",
    "    # Load the songs and the notes arrays one at a time\n",
    "    #for idx in range (len(song_paths)):\n",
    "    # Load the song\n",
    "    y, sr = librosa.load(processed_path)\n",
    "\n",
    "    # resample the song if it isn't sr=22050 (for consistent sizing)\n",
    "    if not sr == 22050:\n",
    "        y = librosa.resample(y, sr, 22050)\n",
    "        sr = 22050\n",
    "\n",
    "    #source seperation, margin can be tuned \n",
    "    y_harmonic, y_percussive = librosa.effects.hpss(y, margin=2.0)\n",
    "\n",
    "    # Set Hop_len\n",
    "    hop_len = 520\n",
    "\n",
    "    onset_frame_backtrack = librosa.onset.onset_detect(y_harmonic, sr = sr, hop_length = hop_len, backtrack=True)\n",
    "    onset_times = librosa.frames_to_time(onset_frame_backtrack)\n",
    "\n",
    "    return y_harmonic, onset_times "
   ]
  }
 ],
 "metadata": {
  "kernelspec": {
   "display_name": "Python 3 (ipykernel)",
   "language": "python",
   "name": "python3"
  },
  "language_info": {
   "codemirror_mode": {
    "name": "ipython",
    "version": 3
   },
   "file_extension": ".py",
   "mimetype": "text/x-python",
   "name": "python",
   "nbconvert_exporter": "python",
   "pygments_lexer": "ipython3",
   "version": "3.8.8"
  }
 },
 "nbformat": 4,
 "nbformat_minor": 5
}
