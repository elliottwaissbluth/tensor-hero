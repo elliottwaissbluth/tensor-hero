{
 "cells": [
  {
   "cell_type": "code",
   "execution_count": null,
   "metadata": {},
   "outputs": [],
   "source": [
    "from pathlib import Path\n",
    "import os\n",
    "from model import *\n",
    "import torch\n",
    "from torch.utils.tensorboard import SummaryWriter\n",
    "\n",
    "training_path = Path(r'X:\\Training Data\\Model 1 Training\\train\\spectrograms')\n",
    "\n",
    "list_of_files = [training_path / x for x in os.listdir(training_path)]\n",
    "list_of_files = list_of_files[:10]\n",
    "\n",
    "train_data = Dataset(list_of_files)\n",
    "train_loader = torch.utils.data.DataLoader(\n",
    "    train_data,\n",
    "    batch_size=64,\n",
    "    shuffle=True,\n",
    "    num_workers=8,\n",
    "    drop_last=True,\n",
    ")\n",
    "\n",
    "device = 'cuda' if torch.cuda.is_available() else 'cpu'\n",
    "print('Device: {}'.format(device))\n",
    "\n",
    "model = VAE(dropout=0.1).to(device)\n",
    "\n",
    "learning_rate = 5e-5\n",
    "optimizer = optim.Adam(model.parameters(), lr=learning_rate)\n",
    "\n",
    "criterion = nn.MSELoss()\n",
    "\n",
    "num_epochs = 5\n",
    "\n",
    "writer = SummaryWriter('runs/loss_lr_2e5')\n",
    "step = 0\n",
    "\n",
    "for epoch in range(num_epochs):\n",
    "    model.train()\n",
    "    for batch_idx, batch in enumerate(train_loader):\n",
    "        x = batch.to(device)\n",
    "        candidate, _ = model(x)\n",
    "\n",
    "        optimizer.zero_grad()\n",
    "        loss = criterion(candidate, x)\n",
    "        loss.backward()\n",
    "\n",
    "        torch.nn.utils.clip_grad_norm_(model.parameters(), max_norm=1)\n",
    "\n",
    "        optimizer.step()\n",
    "        writer.add_scalar(\"Training Loss\", loss, global_step=step)\n",
    "        step += 1\n",
    "\n",
    "    print('\\nEpoch {}/{}'.format(epoch, num_epochs))\n",
    "    print('Training Loss: {}'.format(loss.item()))\n"
   ]
  },
  {
   "cell_type": "code",
   "execution_count": 4,
   "metadata": {},
   "outputs": [
    {
     "name": "stderr",
     "output_type": "stream",
     "text": [
      "62it [00:00, 231.34it/s]\n"
     ]
    }
   ],
   "source": [
    "from tqdm import tqdm\n",
    "latent = torch.zeros(size=(4000, 30))\n",
    "\n",
    "model.eval()\n",
    "for batch_idx, batch in tqdm(enumerate(train_loader)):\n",
    "    x = batch.to(device)\n",
    "    _, z = model(x)\n",
    "    latent[batch_idx*64:(batch_idx+1)*64,:] = z\n"
   ]
  },
  {
   "cell_type": "code",
   "execution_count": 10,
   "metadata": {},
   "outputs": [
    {
     "data": {
      "text/plain": [
       "<matplotlib.image.AxesImage at 0x1bc55ecc820>"
      ]
     },
     "execution_count": 10,
     "metadata": {},
     "output_type": "execute_result"
    },
    {
     "data": {
      "image/png": "[encoded data removed]",
      "text/plain": [
       "<Figure size 432x288 with 1 Axes>"
      ]
     },
     "metadata": {
      "needs_background": "light"
     },
     "output_type": "display_data"
    }
   ],
   "source": [
    "import matplotlib.pyplot as plt\n",
    "\n",
    "plt.imshow(latent[3600:3630,:])"
   ]
  },
  {
   "cell_type": "code",
   "execution_count": 21,
   "metadata": {},
   "outputs": [
    {
     "name": "stderr",
     "output_type": "stream",
     "text": [
      "100%|██████████| 49/49 [01:13<00:00,  1.49s/it]\n"
     ]
    }
   ],
   "source": [
    "from sklearn.cluster import KMeans\n",
    "from kneed import KneeLocator\n",
    "\n",
    "spec_slices = np.zeros(shape=(512, 4000))\n",
    "for idx, file in enumerate(list_of_files):\n",
    "    slice = np.load(file)\n",
    "    spec_slices[:,idx*400:(idx+1)*400] = slice\n",
    "\n",
    "latent = spec_slices.T\n",
    "\n",
    "ssd = np.array([])\n",
    "kneedle = None\n",
    "for i in tqdm(range(1,50)):\n",
    "    kmeans = KMeans(n_clusters=i, random_state=0)\n",
    "    kmeans.fit(latent)\n",
    "    ssd = np.append(ssd, kmeans.inertia_)\n",
    "    if ssd.size >= latent.shape[0]-1:\n",
    "        kneedle = KneeLocator(list(range(ssd.shape[0])), ssd, curve='convex', direction='decreasing');\n",
    "if kneedle:\n",
    "    if kneedle.knee:\n",
    "        kmeans = KMeans(n_clusters=kneedle.knee, random_state=0)\n",
    "else:\n",
    "    kmeans = KMeans(n_clusters=1, random_state=0)\n",
    "kmeans.fit(latent)\n",
    "y_kmeans = kmeans.predict(latent)"
   ]
  },
  {
   "cell_type": "code",
   "execution_count": 22,
   "metadata": {},
   "outputs": [
    {
     "data": {
      "text/plain": [
       "[<matplotlib.lines.Line2D at 0x1bc6da18430>]"
      ]
     },
     "execution_count": 22,
     "metadata": {},
     "output_type": "execute_result"
    },
    {
     "data": {
      "image/png": "[encoded data removed]",
      "text/plain": [
       "<Figure size 432x288 with 1 Axes>"
      ]
     },
     "metadata": {
      "needs_background": "light"
     },
     "output_type": "display_data"
    }
   ],
   "source": [
    "plt.plot(ssd)"
   ]
  },
  {
   "cell_type": "code",
   "execution_count": 23,
   "metadata": {},
   "outputs": [
    {
     "name": "stdout",
     "output_type": "stream",
     "text": [
      "(array([], dtype=int64),)\n"
     ]
    }
   ],
   "source": [
    "print(np.where(y_kmeans > 0))"
   ]
  }
 ],
 "metadata": {
  "interpreter": {
   "hash": "1131efc7635b497546d7e8fbc76ad9d1f9d5d5d7857bcde935d6feea39d08984"
  },
  "kernelspec": {
   "display_name": "Python 3.8.6 64-bit",
   "name": "python3"
  },
  "language_info": {
   "codemirror_mode": {
    "name": "ipython",
    "version": 3
   },
   "file_extension": ".py",
   "mimetype": "text/x-python",
   "name": "python",
   "nbconvert_exporter": "python",
   "pygments_lexer": "ipython3",
   "version": "3.8.6"
  },
  "orig_nbformat": 4
 },
 "nbformat": 4,
 "nbformat_minor": 2
}
