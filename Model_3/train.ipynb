{
 "cells": [
  {
   "cell_type": "code",
   "execution_count": 3,
   "source": [
    "from pathlib import Path\r\n",
    "import os\r\n",
    "from model import *\r\n",
    "import torch\r\n",
    "from torch.utils.tensorboard import SummaryWriter\r\n",
    "\r\n",
    "training_path = Path(r'X:\\Training Data\\Model 1 Training\\train\\spectrograms')\r\n",
    "\r\n",
    "list_of_files = [training_path / x for x in os.listdir(training_path)]\r\n",
    "list_of_files = list_of_files[:10]\r\n",
    "\r\n",
    "train_data = Dataset(list_of_files)\r\n",
    "train_loader = torch.utils.data.DataLoader(\r\n",
    "    train_data,\r\n",
    "    batch_size=64,\r\n",
    "    shuffle=True,\r\n",
    "    num_workers=1,\r\n",
    "    drop_last=True,\r\n",
    ")\r\n",
    "\r\n",
    "device = 'cuda' if torch.cuda.is_available() else 'cpu'\r\n",
    "print('Device: {}'.format(device))\r\n",
    "\r\n",
    "model = VAE(dropout=0.1).to(device)\r\n",
    "\r\n",
    "learning_rate = 5e-5\r\n",
    "optimizer = optim.Adam(model.parameters(), lr=learning_rate)\r\n",
    "\r\n",
    "criterion = nn.MSELoss()\r\n",
    "\r\n",
    "num_epochs = 5\r\n",
    "\r\n",
    "writer = SummaryWriter('runs/loss_lr_2e5')\r\n",
    "step = 0\r\n",
    "\r\n",
    "for epoch in range(num_epochs):\r\n",
    "    model.train()\r\n",
    "    for batch_idx, batch in enumerate(train_loader):\r\n",
    "        x = batch.to(device)\r\n",
    "        candidate, _ = model(x)\r\n",
    "\r\n",
    "        optimizer.zero_grad()\r\n",
    "        loss = criterion(candidate, x)\r\n",
    "        loss.backward()\r\n",
    "\r\n",
    "        torch.nn.utils.clip_grad_norm_(model.parameters(), max_norm=1)\r\n",
    "\r\n",
    "        optimizer.step()\r\n",
    "        writer.add_scalar(\"Training Loss\", loss, global_step=step)\r\n",
    "        step += 1\r\n",
    "\r\n",
    "\r\n",
    "    print('\\nEpoch {}/{}'.format(epoch, num_epochs))\r\n",
    "    print('Training Loss: {}'.format(loss.item()))\r\n"
   ],
   "outputs": [
    {
     "output_type": "stream",
     "name": "stdout",
     "text": [
      "Loading Files\n",
      "Files loaded!\n",
      "Number of spectrogram slices: 4000\n",
      "Device: cuda\n",
      "\n",
      "Epoch 0/5\n",
      "Training Loss: 0.09032652527093887\n",
      "\n",
      "Epoch 1/5\n",
      "Training Loss: 0.04984802007675171\n",
      "\n",
      "Epoch 2/5\n",
      "Training Loss: 0.04877927899360657\n",
      "\n",
      "Epoch 3/5\n",
      "Training Loss: 0.04655224084854126\n",
      "\n",
      "Epoch 4/5\n",
      "Training Loss: 0.04538549482822418\n"
     ]
    }
   ],
   "metadata": {}
  },
  {
   "cell_type": "code",
   "execution_count": 4,
   "source": [
    "from pathlib import Path\r\n",
    "import os\r\n",
    "from model import *\r\n",
    "import torch\r\n",
    "import timeit\r\n",
    "import math\r\n",
    "from torch.utils.tensorboard import SummaryWriter\r\n",
    "\r\n",
    "training_path = Path(r'X:\\Training Data\\Model 1 Training\\train\\spectrograms')\r\n",
    "\r\n",
    "full_data = [training_path / x for x in os.listdir(training_path)]\r\n",
    "\r\n",
    "examples_per_bucket = 100\r\n",
    "buckets = [full_data[i*examples_per_bucket:(i+1)*examples_per_bucket] for i in range(math.floor(len(full_data)))]\r\n",
    "\r\n",
    "train_data = Dataset(buckets)\r\n",
    "train_loader = torch.utils.data.DataLoader(\r\n",
    "    train_data,\r\n",
    "    batch_size=64,\r\n",
    "    shuffle=False,\r\n",
    "    num_workers=8,\r\n",
    "    drop_last=False,\r\n",
    ")\r\n",
    "\r\n",
    "device = 'cuda' if torch.cuda.is_available() else 'cpu'\r\n",
    "print('device: {}'.format(device))\r\n",
    "\r\n",
    "model = VAE(dropout=0.1).to(device)\r\n",
    "\r\n",
    "learning_rate = 5e-5\r\n",
    "optimizer = optim.Adam(model.parameters(), lr=learning_rate)\r\n",
    "\r\n",
    "criterion = nn.MSELoss()\r\n",
    "\r\n",
    "num_epochs = 5\r\n",
    "\r\n",
    "writer = SummaryWriter('runs/loss_lr_2e5')\r\n",
    "step = 0\r\n",
    "\r\n",
    "batch_times = []\r\n",
    "for epoch in range(num_epochs):\r\n",
    "    model.train()\r\n",
    "    print('starting')\r\n",
    "    for batch in train_loader:\r\n",
    "        print('starting batch')\r\n",
    "        start = timeit.timeit\r\n",
    "        x = batch.to(device)\r\n",
    "        candidate, _ = model(x)\r\n",
    "\r\n",
    "        optimizer.zero_grad()\r\n",
    "        loss = criterion(candidate, x)\r\n",
    "        loss.backward()\r\n",
    "\r\n",
    "        torch.nn.utils.clip_grad_norm_(model.parameters(), max_norm=1)\r\n",
    "\r\n",
    "        optimizer.step()\r\n",
    "        writer.add_scalar(\"Training Loss\", loss, global_step=step)\r\n",
    "        step += 1\r\n",
    "        end = timeit.timeit\r\n",
    "        batch_times.append((start-end))\r\n",
    "        print('made it  through a batch')\r\n",
    "        break\r\n",
    "    break\r\n",
    "\r\n",
    "\r\n",
    "    print('\\nEpoch {}/{}'.format(epoch, num_epochs))\r\n",
    "    print('Training Loss: {}'.format(loss.item()))\r\n"
   ],
   "outputs": [
    {
     "output_type": "error",
     "ename": "MemoryError",
     "evalue": "Unable to allocate 72.3 GiB for an array with shape (512, 18962000) and data type float64",
     "traceback": [
      "\u001b[1;31m---------------------------------------------------------------------------\u001b[0m",
      "\u001b[1;31mMemoryError\u001b[0m                               Traceback (most recent call last)",
      "\u001b[1;32m<ipython-input-4-ef5a9c11ded8>\u001b[0m in \u001b[0;36m<module>\u001b[1;34m\u001b[0m\n\u001b[0;32m     14\u001b[0m \u001b[0mbuckets\u001b[0m \u001b[1;33m=\u001b[0m \u001b[1;33m[\u001b[0m\u001b[0mfull_data\u001b[0m\u001b[1;33m[\u001b[0m\u001b[0mi\u001b[0m\u001b[1;33m*\u001b[0m\u001b[0mexamples_per_bucket\u001b[0m\u001b[1;33m:\u001b[0m\u001b[1;33m(\u001b[0m\u001b[0mi\u001b[0m\u001b[1;33m+\u001b[0m\u001b[1;36m1\u001b[0m\u001b[1;33m)\u001b[0m\u001b[1;33m*\u001b[0m\u001b[0mexamples_per_bucket\u001b[0m\u001b[1;33m]\u001b[0m \u001b[1;32mfor\u001b[0m \u001b[0mi\u001b[0m \u001b[1;32min\u001b[0m \u001b[0mrange\u001b[0m\u001b[1;33m(\u001b[0m\u001b[0mmath\u001b[0m\u001b[1;33m.\u001b[0m\u001b[0mfloor\u001b[0m\u001b[1;33m(\u001b[0m\u001b[0mlen\u001b[0m\u001b[1;33m(\u001b[0m\u001b[0mfull_data\u001b[0m\u001b[1;33m)\u001b[0m\u001b[1;33m)\u001b[0m\u001b[1;33m)\u001b[0m\u001b[1;33m]\u001b[0m\u001b[1;33m\u001b[0m\u001b[1;33m\u001b[0m\u001b[0m\n\u001b[0;32m     15\u001b[0m \u001b[1;33m\u001b[0m\u001b[0m\n\u001b[1;32m---> 16\u001b[1;33m \u001b[0mtrain_data\u001b[0m \u001b[1;33m=\u001b[0m \u001b[0mDataset\u001b[0m\u001b[1;33m(\u001b[0m\u001b[0mbuckets\u001b[0m\u001b[1;33m)\u001b[0m\u001b[1;33m\u001b[0m\u001b[1;33m\u001b[0m\u001b[0m\n\u001b[0m\u001b[0;32m     17\u001b[0m train_loader = torch.utils.data.DataLoader(\n\u001b[0;32m     18\u001b[0m     \u001b[0mtrain_data\u001b[0m\u001b[1;33m,\u001b[0m\u001b[1;33m\u001b[0m\u001b[1;33m\u001b[0m\u001b[0m\n",
      "\u001b[1;32mc:\\Users\\ewais\\Documents\\GitHub\\tensor-hero\\Model_3\\model.py\u001b[0m in \u001b[0;36m__init__\u001b[1;34m(self, list_of_files)\u001b[0m\n\u001b[0;32m     10\u001b[0m     \u001b[1;32mdef\u001b[0m \u001b[0m__init__\u001b[0m\u001b[1;33m(\u001b[0m\u001b[0mself\u001b[0m\u001b[1;33m,\u001b[0m \u001b[0mlist_of_files\u001b[0m\u001b[1;33m)\u001b[0m\u001b[1;33m:\u001b[0m\u001b[1;33m\u001b[0m\u001b[1;33m\u001b[0m\u001b[0m\n\u001b[0;32m     11\u001b[0m         \u001b[0mself\u001b[0m\u001b[1;33m.\u001b[0m\u001b[0mfiles\u001b[0m \u001b[1;33m=\u001b[0m \u001b[0mlist_of_files\u001b[0m\u001b[1;33m\u001b[0m\u001b[1;33m\u001b[0m\u001b[0m\n\u001b[1;32m---> 12\u001b[1;33m         \u001b[0mself\u001b[0m\u001b[1;33m.\u001b[0m\u001b[0mspec_slices\u001b[0m \u001b[1;33m=\u001b[0m \u001b[0mnp\u001b[0m\u001b[1;33m.\u001b[0m\u001b[0mzeros\u001b[0m\u001b[1;33m(\u001b[0m\u001b[0mshape\u001b[0m\u001b[1;33m=\u001b[0m\u001b[1;33m(\u001b[0m\u001b[1;36m512\u001b[0m\u001b[1;33m,\u001b[0m \u001b[0mlen\u001b[0m\u001b[1;33m(\u001b[0m\u001b[0mself\u001b[0m\u001b[1;33m.\u001b[0m\u001b[0mfiles\u001b[0m\u001b[1;33m)\u001b[0m\u001b[1;33m*\u001b[0m\u001b[1;36m400\u001b[0m\u001b[1;33m)\u001b[0m\u001b[1;33m)\u001b[0m\u001b[1;33m\u001b[0m\u001b[1;33m\u001b[0m\u001b[0m\n\u001b[0m\u001b[0;32m     13\u001b[0m         \u001b[0mprint\u001b[0m\u001b[1;33m(\u001b[0m\u001b[1;34m'Loading Files'\u001b[0m\u001b[1;33m)\u001b[0m\u001b[1;33m\u001b[0m\u001b[1;33m\u001b[0m\u001b[0m\n\u001b[0;32m     14\u001b[0m         \u001b[1;32mfor\u001b[0m \u001b[0midx\u001b[0m\u001b[1;33m,\u001b[0m \u001b[0mfile\u001b[0m \u001b[1;32min\u001b[0m \u001b[0menumerate\u001b[0m\u001b[1;33m(\u001b[0m\u001b[0mself\u001b[0m\u001b[1;33m.\u001b[0m\u001b[0mfiles\u001b[0m\u001b[1;33m)\u001b[0m\u001b[1;33m:\u001b[0m\u001b[1;33m\u001b[0m\u001b[1;33m\u001b[0m\u001b[0m\n",
      "\u001b[1;31mMemoryError\u001b[0m: Unable to allocate 72.3 GiB for an array with shape (512, 18962000) and data type float64"
     ]
    }
   ],
   "metadata": {}
  },
  {
   "cell_type": "code",
   "execution_count": null,
   "source": [
    "from tqdm import tqdm\r\n",
    "latent = torch.zeros(size=(4000, 30))\r\n",
    "\r\n",
    "model.eval()\r\n",
    "for batch_idx, batch in tqdm(enumerate(train_loader)):\r\n",
    "    x = batch.to(device)\r\n",
    "    _, z = model(x)\r\n",
    "    latent[batch_idx*64:(batch_idx+1)*64,:] = z\r\n"
   ],
   "outputs": [
    {
     "output_type": "stream",
     "name": "stderr",
     "text": [
      "62it [00:00, 231.34it/s]\n"
     ]
    }
   ],
   "metadata": {}
  },
  {
   "cell_type": "code",
   "execution_count": null,
   "source": [
    "import matplotlib.pyplot as plt\r\n",
    "\r\n",
    "plt.imshow(latent[3600:3690,:])"
   ],
   "outputs": [
    {
     "output_type": "error",
     "ename": "NameError",
     "evalue": "name 'latent' is not defined",
     "traceback": [
      "\u001b[1;31m---------------------------------------------------------------------------\u001b[0m",
      "\u001b[1;31mNameError\u001b[0m                                 Traceback (most recent call last)",
      "\u001b[1;32m<ipython-input-1-95e51527eec1>\u001b[0m in \u001b[0;36m<module>\u001b[1;34m\u001b[0m\n\u001b[0;32m      1\u001b[0m \u001b[1;32mimport\u001b[0m \u001b[0mmatplotlib\u001b[0m\u001b[1;33m.\u001b[0m\u001b[0mpyplot\u001b[0m \u001b[1;32mas\u001b[0m \u001b[0mplt\u001b[0m\u001b[1;33m\u001b[0m\u001b[1;33m\u001b[0m\u001b[0m\n\u001b[0;32m      2\u001b[0m \u001b[1;33m\u001b[0m\u001b[0m\n\u001b[1;32m----> 3\u001b[1;33m \u001b[0mplt\u001b[0m\u001b[1;33m.\u001b[0m\u001b[0mimshow\u001b[0m\u001b[1;33m(\u001b[0m\u001b[0mlatent\u001b[0m\u001b[1;33m[\u001b[0m\u001b[1;36m3600\u001b[0m\u001b[1;33m:\u001b[0m\u001b[1;36m3690\u001b[0m\u001b[1;33m,\u001b[0m\u001b[1;33m:\u001b[0m\u001b[1;33m]\u001b[0m\u001b[1;33m)\u001b[0m\u001b[1;33m\u001b[0m\u001b[1;33m\u001b[0m\u001b[0m\n\u001b[0m",
      "\u001b[1;31mNameError\u001b[0m: name 'latent' is not defined"
     ]
    }
   ],
   "metadata": {}
  },
  {
   "cell_type": "code",
   "execution_count": null,
   "source": [
    "from sklearn.cluster import KMeans\r\n",
    "from kneed import KneeLocator\r\n",
    "\r\n",
    "spec_slices = np.zeros(shape=(512, 4000))\r\n",
    "for idx, file in enumerate(list_of_files):\r\n",
    "    slice = np.load(file)\r\n",
    "    spec_slices[:,idx*400:(idx+1)*400] = slice\r\n",
    "\r\n",
    "latent = spec_slices.T\r\n",
    "\r\n",
    "ssd = np.array([])\r\n",
    "kneedle = None\r\n",
    "for i in tqdm(range(1,50)):\r\n",
    "    kmeans = KMeans(n_clusters=i, random_state=0)\r\n",
    "    kmeans.fit(latent)\r\n",
    "    ssd = np.append(ssd, kmeans.inertia_)\r\n",
    "    if ssd.size >= latent.shape[0]-1:\r\n",
    "        kneedle = KneeLocator(list(range(ssd.shape[0])), ssd, curve='convex', direction='decreasing');\r\n",
    "if kneedle:\r\n",
    "    if kneedle.knee:\r\n",
    "        kmeans = KMeans(n_clusters=kneedle.knee, random_state=0)\r\n",
    "else:\r\n",
    "    kmeans = KMeans(n_clusters=1, random_state=0)\r\n",
    "kmeans.fit(latent)\r\n",
    "y_kmeans = kmeans.predict(latent)"
   ],
   "outputs": [
    {
     "output_type": "stream",
     "name": "stderr",
     "text": [
      "100%|██████████| 49/49 [01:13<00:00,  1.49s/it]\n"
     ]
    }
   ],
   "metadata": {}
  },
  {
   "cell_type": "code",
   "execution_count": null,
   "source": [
    "plt.plot(ssd)"
   ],
   "outputs": [
    {
     "output_type": "execute_result",
     "data": {
      "text/plain": [
       "[<matplotlib.lines.Line2D at 0x1bc6da18430>]"
      ]
     },
     "metadata": {},
     "execution_count": 22
    },
    {
     "output_type": "display_data",
     "data": {
      "image/png": "[encoded data removed]",
      "text/plain": [
       "<Figure size 432x288 with 1 Axes>"
      ]
     },
     "metadata": {
      "needs_background": "light"
     }
    }
   ],
   "metadata": {}
  },
  {
   "cell_type": "code",
   "execution_count": null,
   "source": [
    "print(np.where(y_kmeans > 0))"
   ],
   "outputs": [
    {
     "output_type": "stream",
     "name": "stdout",
     "text": [
      "(array([], dtype=int64),)\n"
     ]
    }
   ],
   "metadata": {}
  }
 ],
 "metadata": {
  "orig_nbformat": 4,
  "language_info": {
   "name": "python",
   "version": "3.8.6",
   "mimetype": "text/x-python",
   "codemirror_mode": {
    "name": "ipython",
    "version": 3
   },
   "pygments_lexer": "ipython3",
   "nbconvert_exporter": "python",
   "file_extension": ".py"
  },
  "kernelspec": {
   "name": "python3",
   "display_name": "Python 3.8.6 64-bit"
  },
  "interpreter": {
   "hash": "1131efc7635b497546d7e8fbc76ad9d1f9d5d5d7857bcde935d6feea39d08984"
  }
 },
 "nbformat": 4,
 "nbformat_minor": 2
}