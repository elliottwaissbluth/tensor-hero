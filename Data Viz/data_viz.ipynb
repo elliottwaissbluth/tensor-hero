{
 "cells": [
  {
   "cell_type": "markdown",
   "source": [
    "## The purpose of this notebook is to prototype the data visualization functionality"
   ],
   "metadata": {}
  },
  {
   "cell_type": "code",
   "execution_count": 1,
   "source": [
    "import numpy as np\n",
    "import matplotlib.pyplot as plt\n",
    "\n",
    "# Load up notes.npy and cut it slightly short to prototype the visualization\n",
    "notes = np.load('notes.npy')\n"
   ],
   "outputs": [],
   "metadata": {}
  },
  {
   "cell_type": "code",
   "execution_count": null,
   "source": [
    "print(len(notes))\n",
    "\n",
    "def slice_notes(notes, start=0, end=2):\n",
    "    '''\n",
    "    Takes a notes array and slices it between start and end in seconds\n",
    "    '''\n",
    "    assert start < end, \"Error: start value must be less than end value\"\n",
    "\n",
    "    start_tick, end_tick = start*100, end*100\n",
    "    return notes[start_tick:end_tick]\n",
    "\n",
    "sliced_notes = slice_notes(notes, start = 5, end = 9)\n"
   ],
   "outputs": [],
   "metadata": {}
  },
  {
   "cell_type": "code",
   "execution_count": 18,
   "source": [
    "import pickle\n",
    "import pandas as pd\n",
    "from pathlib import Path\n",
    " \n",
    "# It's going to be important to have the one hot encoding : note key for visualization\n",
    "# This needs to be generated from note_keys.csv\n",
    "\n",
    "# Open note keys as a dataframe\n",
    "note_keys_path = Path.cwd().parent / 'Documentation' / 'note_keys.csv'\n",
    "\n",
    "note_keys_df = pd.read_csv(note_keys_path)\n",
    "\n",
    "note_dict = note_keys_df[['One Hot Representation', 'Note']].set_index('One Hot Representation').to_dict()['Note']\n",
    "\n",
    "# Save this for later\n",
    "with open('note_dict.pkl', 'wb') as f:\n",
    "    pickle.dump(note_dict, f)\n",
    "f.close()"
   ],
   "outputs": [],
   "metadata": {}
  },
  {
   "cell_type": "markdown",
   "source": [
    "| Note | Int Representation |\n",
    "|------|--------------------|\n",
    "| G    | 1                  |\n",
    "| R    | 2                  |\n",
    "| Y    | 3                  |\n",
    "| B    | 4                  |\n",
    "| O    | 5                  |\n",
    "| open | 6                  |\n",
    "\n",
    "Instead of string representations, change to lists of integers corresponding to the notes that are within\n",
    "\n",
    "Call this \"viz_dict\""
   ],
   "metadata": {}
  },
  {
   "cell_type": "code",
   "execution_count": 28,
   "source": [
    "viz_dict = {}\n",
    "string_to_list = {\n",
    "    'G' : 1,\n",
    "    'R' : 2,\n",
    "    'Y' : 3,\n",
    "    'B' : 4,\n",
    "    'O' : 5,\n",
    "    'o' : 6\n",
    "}\n",
    "\n",
    "for k, v in note_dict.items():\n",
    "    viz_dict[k] = [string_to_list[x] for x in v if x not in ['o', 'p', 'e', 'n']]\n",
    "    if viz_dict[k] == []:\n",
    "        viz_dict[k] = [6]\n",
    "\n",
    "# Save for later\n",
    "with open('viz_dict.pkl', 'wb') as f:\n",
    "    pickle.dump(viz_dict,f)\n",
    "f.close()"
   ],
   "outputs": [],
   "metadata": {}
  },
  {
   "cell_type": "code",
   "execution_count": 53,
   "source": [
    "# Encodes the y position of the notes\n",
    "note_idx_to_y = {\n",
    "    1 : 5,\n",
    "    2 : 4,\n",
    "    3 : 3,\n",
    "    4 : 2,\n",
    "    5 : 1\n",
    "}\n",
    "\n",
    "note_idx_to_c = {\n",
    "    1 : 'g',\n",
    "    2 : 'r',\n",
    "    3 : 'y',\n",
    "    4 : 'b',\n",
    "    5 : '#ffae00'\n",
    "}\n",
    "\n",
    "# First, create an x vector, a y vector, and a color vector\n",
    "def create_scatter_arrays(notes):\n",
    "    '''\n",
    "    Takes a notes array and creates three vectors:\n",
    "    -   x : x positions of scatter points\n",
    "    -   x_lines : x position of open notes\n",
    "    -   y : y positions of scatter points\n",
    "    -   c : color array of scatter points\n",
    "    '''\n",
    "    x = []\n",
    "    y = []\n",
    "    c = []\n",
    "\n",
    "    scaler = 1 # This scaler to scale the y dimension up or down\n",
    "\n",
    "    # Loop through the whole notes array\n",
    "    for idx, note in enumerate(notes):\n",
    "        if not note: # Skip zeros\n",
    "            continue\n",
    "\n",
    "        chord = viz_dict[note]\n",
    "        for n in chord:\n",
    "            if n != 6:  # If not an open note\n",
    "                x.append(idx)\n",
    "                y.append(note_idx_to_y[n]*scaler)\n",
    "                c.append(note_idx_to_c[n])\n",
    "            else:\n",
    "                x_lines.append(idx)\n",
    "\n",
    "        \n",
    "    return x, y, c\n",
    "\n",
    "x, y, c = create_scatter_arrays(sliced_notes)\n",
    "\n",
    "plt.scatter(x, y, color=c, s = 80)"
   ],
   "outputs": [
    {
     "output_type": "execute_result",
     "data": {
      "text/plain": [
       "<matplotlib.collections.PathCollection at 0x7fb2d1a522e0>"
      ]
     },
     "metadata": {},
     "execution_count": 53
    },
    {
     "output_type": "display_data",
     "data": {
      "text/plain": [
       "<Figure size 432x288 with 1 Axes>"
      ],
      "image/png": "[encoded data removed]"
     },
     "metadata": {
      "needs_background": "light"
     }
    }
   ],
   "metadata": {}
  }
 ],
 "metadata": {
  "orig_nbformat": 4,
  "language_info": {
   "name": "python",
   "version": "3.9.6",
   "mimetype": "text/x-python",
   "codemirror_mode": {
    "name": "ipython",
    "version": 3
   },
   "pygments_lexer": "ipython3",
   "nbconvert_exporter": "python",
   "file_extension": ".py"
  },
  "kernelspec": {
   "name": "python3",
   "display_name": "Python 3.9.6 64-bit"
  },
  "interpreter": {
   "hash": "aee8b7b246df8f9039afb4144a1f6fd8d2ca17a180786b69acc140d282b71a49"
  }
 },
 "nbformat": 4,
 "nbformat_minor": 2
}