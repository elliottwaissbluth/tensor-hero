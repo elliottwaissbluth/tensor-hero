{
 "cells": [
  {
   "cell_type": "code",
   "execution_count": 1,
   "metadata": {},
   "outputs": [],
   "source": [
    "from m3_functions import *\n",
    "\n",
    "# Get onset times\n",
    "# song_path = r'X:\\Training Data\\Unprocessed\\Angevil Hero II\\1. John 5 - 27 Needles\\song.ogg'\n",
    "song_path = r'X:\\Training Data\\Unprocessed\\Angevil Hero II\\5. Joe Satriani - Big Bad Moon\\song.ogg'\n",
    "_, onset_times = onset_time(song_path)"
   ]
  },
  {
   "cell_type": "code",
   "execution_count": 5,
   "metadata": {},
   "outputs": [],
   "source": [
    "onsets = onset_time_bins(onset_times)"
   ]
  },
  {
   "cell_type": "code",
   "execution_count": 10,
   "metadata": {},
   "outputs": [
    {
     "name": "stdout",
     "output_type": "stream",
     "text": [
      "[  2.13623583   2.62385488   2.78639456 ... 311.7046712  311.98331066\n",
      " 312.54058957]\n"
     ]
    }
   ],
   "source": [
    "len(onset_times)\n",
    "print(onset_times)"
   ]
  },
  {
   "cell_type": "code",
   "execution_count": 13,
   "metadata": {},
   "outputs": [
    {
     "name": "stdout",
     "output_type": "stream",
     "text": [
      "[102 105 123 123 125 133 146 153 164 332]\n"
     ]
    }
   ],
   "source": [
    "diff = []\n",
    "for i in range(1, len(onsets)):\n",
    "    diff.append(onsets[i] - onsets[i-1])\n",
    "\n",
    "diff = np.array(diff)\n",
    "largest = diff.argsort()[-10:][::1]\n",
    "print(diff[largest])"
   ]
  },
  {
   "cell_type": "code",
   "execution_count": null,
   "metadata": {},
   "outputs": [],
   "source": [
    "# Using viterbi decode\n",
    "\n",
    "# Load and modify transition table\n",
    "A = np.load('trans_prob_table.npy')\n",
    "A_redistributed = redistribute_trans_table(A)\n",
    "\n",
    "onset = [0 for _ in range(1000)]\n",
    "\n",
    "B = make_emission_table()\n",
    "sequence = onset_label(onset)\n",
    "\n",
    "note_sequence, v, bp = viterbi(A_redistributed, B, sequence)\n"
   ]
  },
  {
   "cell_type": "code",
   "execution_count": 18,
   "metadata": {},
   "outputs": [],
   "source": [
    "def create_notes_array(onsets, notes):\n",
    "    '''\n",
    "    Takes equal length sequences of onsets and notes and creates a notes array which can be used to create\n",
    "    final song output (leveraging Model_1/Processing/m1_postprocessing.py -> write_song_from_notes_array())\n",
    "\n",
    "    ~~~~ ARGUMENTS ~~~~\n",
    "    - onsets : list\n",
    "        - contains onset times as 10ms bins\n",
    "        - should be output of onset_time_bins()\n",
    "    \n",
    "    - notes : list or numpy array\n",
    "        - notes corresponding to the onsets\n",
    "    '''\n",
    "    if type(notes) is np.ndarray:\n",
    "        notes = notes.tolist()\n",
    "\n",
    "    assert len(onsets) <= len(notes), 'ERROR: There are more onsets than notes'\n",
    "\n",
    "    # Cut down notes if there are more notes than onsetse\n",
    "    if len(notes) > len(onsets):\n",
    "        notes = notes[:(len(onsets))]\n",
    "\n",
    "    notes_array = np.zeros(onsets[-1]+1)\n",
    "\n",
    "    np.put(notes_array, onsets, notes)\n",
    "\n",
    "    return notes_array\n",
    "\n",
    "# notes_array_viterbi = create_notes_array(onsets, note_sequence)\n",
    "notes_array_forrest = generate_notes(onsets, interval_length=50)"
   ]
  },
  {
   "cell_type": "code",
   "execution_count": 24,
   "metadata": {},
   "outputs": [],
   "source": [
    "notes_array = create_notes_array(onsets[:-1], notes_array_forrest)"
   ]
  },
  {
   "cell_type": "code",
   "execution_count": 27,
   "metadata": {},
   "outputs": [
    {
     "data": {
      "text/plain": [
       "'C:\\\\Users\\\\ewais\\\\Documents\\\\GitHub\\\\tensor-hero\\\\Model_3\\\\m3_test_1\\\\song.ogg'"
      ]
     },
     "execution_count": 27,
     "metadata": {},
     "output_type": "execute_result"
    }
   ],
   "source": [
    "import sys\n",
    "sys.path.insert(1, r'C:\\Users\\ewais\\Documents\\GitHub\\tensor-hero\\Model_1\\Processing')\n",
    "from m1_postprocessing import *\n",
    "from pathlib import Path\n",
    "import shutil\n",
    "\n",
    "song_metadata = {'Name' : 'Model 3 - 27 Needles',\n",
    "                 'Artist' : 'some artist',\n",
    "                 'Charter' : 'tensorhero',\n",
    "                 'Offset' : 0,\n",
    "                 'Resolution' : 192,\n",
    "                 'Genre' : 'electronic',\n",
    "                 'MediaType' : 'cd',\n",
    "                 'MusicStream' : 'song.ogg'}\n",
    "\n",
    "outfolder = Path(r'C:\\Users\\ewais\\Documents\\GitHub\\tensor-hero\\Model_3\\m3_test_1')\n",
    "write_song_from_notes_array(song_metadata, notes_array, outfolder)\n",
    "shutil.copyfile(str(song_path), str(outfolder / 'song.ogg'))\n",
    "\n"
   ]
  }
 ],
 "metadata": {
  "interpreter": {
   "hash": "1131efc7635b497546d7e8fbc76ad9d1f9d5d5d7857bcde935d6feea39d08984"
  },
  "kernelspec": {
   "display_name": "Python 3.8.6 64-bit",
   "language": "python",
   "name": "python3"
  },
  "language_info": {
   "codemirror_mode": {
    "name": "ipython",
    "version": 3
   },
   "file_extension": ".py",
   "mimetype": "text/x-python",
   "name": "python",
   "nbconvert_exporter": "python",
   "pygments_lexer": "ipython3",
   "version": "3.8.6"
  },
  "orig_nbformat": 4
 },
 "nbformat": 4,
 "nbformat_minor": 2
}
